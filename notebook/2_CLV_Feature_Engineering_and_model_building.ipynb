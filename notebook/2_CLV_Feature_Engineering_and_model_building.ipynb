{
 "cells": [
  {
   "cell_type": "markdown",
   "id": "cd6d584e-766a-44f5-926f-9c948c71dcb4",
   "metadata": {},
   "source": [
    "# Modeling the Customer Lifetime Value (CLV)\n",
    "\n",
    "This section focuses on methodologies that are used to calculate and predict Customer Lifetime Value (CLV). Each model has its unique approach, assumptions, and applications.\n",
    "\n",
    "1. Aggregate model\n",
    "2. Cohort model\n",
    "3. BG/NBD Model (Beta Geometric/Negative Binomial Distribution)\n",
    "4. Gamma-Gamma Model for predicting CLV.\n",
    "  \n",
    "**Moreover, several supervised learning algorithms are also created such as**\n",
    "\n",
    "1. Linear Regression\n",
    "2. Lasso Regression\n",
    "3. Ridge Regression\n",
    "4. K-Neighbors Regressor\n",
    "5. Decision Tree Regressor\n",
    "6. Random Forest Regressor\n",
    "7. XGBRegressor \n",
    "8. CatBoosting Regressor\n",
    "9. AdaBoost Regressor\n"
   ]
  },
  {
   "cell_type": "markdown",
   "id": "49c0e39c-ce06-41a5-8894-5cb77584b56c",
   "metadata": {},
   "source": [
    "## 1. Importing Libraries and Loading data"
   ]
  },
  {
   "cell_type": "code",
   "execution_count": 1,
   "id": "deae53d1-39bc-44a7-a1a4-b39491ce6852",
   "metadata": {},
   "outputs": [],
   "source": [
    "import pandas as pd\n",
    "import numpy as np\n",
    "\n",
    "import matplotlib.pyplot as plt\n",
    "import seaborn as sns\n",
    "sns.set()\n",
    "\n",
    "import warnings\n",
    "warnings.filterwarnings('ignore')"
   ]
  },
  {
   "cell_type": "code",
   "execution_count": 2,
   "id": "d5d4016e-b76f-4c94-bd91-0bef58b97f15",
   "metadata": {},
   "outputs": [
    {
     "data": {
      "text/html": [
       "<div>\n",
       "<style scoped>\n",
       "    .dataframe tbody tr th:only-of-type {\n",
       "        vertical-align: middle;\n",
       "    }\n",
       "\n",
       "    .dataframe tbody tr th {\n",
       "        vertical-align: top;\n",
       "    }\n",
       "\n",
       "    .dataframe thead th {\n",
       "        text-align: right;\n",
       "    }\n",
       "</style>\n",
       "<table border=\"1\" class=\"dataframe\">\n",
       "  <thead>\n",
       "    <tr style=\"text-align: right;\">\n",
       "      <th></th>\n",
       "      <th>InvoiceNo</th>\n",
       "      <th>StockCode</th>\n",
       "      <th>Description</th>\n",
       "      <th>Quantity</th>\n",
       "      <th>InvoiceDate</th>\n",
       "      <th>UnitPrice</th>\n",
       "      <th>CustomerID</th>\n",
       "      <th>Country</th>\n",
       "      <th>TotalSales</th>\n",
       "      <th>Hour</th>\n",
       "      <th>DayOfWeek</th>\n",
       "      <th>YearMonth</th>\n",
       "      <th>Month</th>\n",
       "    </tr>\n",
       "  </thead>\n",
       "  <tbody>\n",
       "    <tr>\n",
       "      <th>0</th>\n",
       "      <td>536365</td>\n",
       "      <td>85123A</td>\n",
       "      <td>WHITE HANGING HEART T-LIGHT HOLDER</td>\n",
       "      <td>6</td>\n",
       "      <td>2010-12-01 08:26:00</td>\n",
       "      <td>2.55</td>\n",
       "      <td>17850</td>\n",
       "      <td>United Kingdom</td>\n",
       "      <td>15.30</td>\n",
       "      <td>8</td>\n",
       "      <td>Wednesday</td>\n",
       "      <td>2010-12</td>\n",
       "      <td>12</td>\n",
       "    </tr>\n",
       "    <tr>\n",
       "      <th>1</th>\n",
       "      <td>536365</td>\n",
       "      <td>71053</td>\n",
       "      <td>WHITE METAL LANTERN</td>\n",
       "      <td>6</td>\n",
       "      <td>2010-12-01 08:26:00</td>\n",
       "      <td>3.39</td>\n",
       "      <td>17850</td>\n",
       "      <td>United Kingdom</td>\n",
       "      <td>20.34</td>\n",
       "      <td>8</td>\n",
       "      <td>Wednesday</td>\n",
       "      <td>2010-12</td>\n",
       "      <td>12</td>\n",
       "    </tr>\n",
       "    <tr>\n",
       "      <th>2</th>\n",
       "      <td>536365</td>\n",
       "      <td>84406B</td>\n",
       "      <td>CREAM CUPID HEARTS COAT HANGER</td>\n",
       "      <td>8</td>\n",
       "      <td>2010-12-01 08:26:00</td>\n",
       "      <td>2.75</td>\n",
       "      <td>17850</td>\n",
       "      <td>United Kingdom</td>\n",
       "      <td>22.00</td>\n",
       "      <td>8</td>\n",
       "      <td>Wednesday</td>\n",
       "      <td>2010-12</td>\n",
       "      <td>12</td>\n",
       "    </tr>\n",
       "    <tr>\n",
       "      <th>3</th>\n",
       "      <td>536365</td>\n",
       "      <td>84029G</td>\n",
       "      <td>KNITTED UNION FLAG HOT WATER BOTTLE</td>\n",
       "      <td>6</td>\n",
       "      <td>2010-12-01 08:26:00</td>\n",
       "      <td>3.39</td>\n",
       "      <td>17850</td>\n",
       "      <td>United Kingdom</td>\n",
       "      <td>20.34</td>\n",
       "      <td>8</td>\n",
       "      <td>Wednesday</td>\n",
       "      <td>2010-12</td>\n",
       "      <td>12</td>\n",
       "    </tr>\n",
       "    <tr>\n",
       "      <th>4</th>\n",
       "      <td>536365</td>\n",
       "      <td>84029E</td>\n",
       "      <td>RED WOOLLY HOTTIE WHITE HEART.</td>\n",
       "      <td>6</td>\n",
       "      <td>2010-12-01 08:26:00</td>\n",
       "      <td>3.39</td>\n",
       "      <td>17850</td>\n",
       "      <td>United Kingdom</td>\n",
       "      <td>20.34</td>\n",
       "      <td>8</td>\n",
       "      <td>Wednesday</td>\n",
       "      <td>2010-12</td>\n",
       "      <td>12</td>\n",
       "    </tr>\n",
       "  </tbody>\n",
       "</table>\n",
       "</div>"
      ],
      "text/plain": [
       "   InvoiceNo StockCode                          Description  Quantity  \\\n",
       "0     536365    85123A   WHITE HANGING HEART T-LIGHT HOLDER         6   \n",
       "1     536365     71053                  WHITE METAL LANTERN         6   \n",
       "2     536365    84406B       CREAM CUPID HEARTS COAT HANGER         8   \n",
       "3     536365    84029G  KNITTED UNION FLAG HOT WATER BOTTLE         6   \n",
       "4     536365    84029E       RED WOOLLY HOTTIE WHITE HEART.         6   \n",
       "\n",
       "           InvoiceDate  UnitPrice  CustomerID         Country  TotalSales  \\\n",
       "0  2010-12-01 08:26:00       2.55       17850  United Kingdom       15.30   \n",
       "1  2010-12-01 08:26:00       3.39       17850  United Kingdom       20.34   \n",
       "2  2010-12-01 08:26:00       2.75       17850  United Kingdom       22.00   \n",
       "3  2010-12-01 08:26:00       3.39       17850  United Kingdom       20.34   \n",
       "4  2010-12-01 08:26:00       3.39       17850  United Kingdom       20.34   \n",
       "\n",
       "   Hour  DayOfWeek YearMonth  Month  \n",
       "0     8  Wednesday   2010-12     12  \n",
       "1     8  Wednesday   2010-12     12  \n",
       "2     8  Wednesday   2010-12     12  \n",
       "3     8  Wednesday   2010-12     12  \n",
       "4     8  Wednesday   2010-12     12  "
      ]
     },
     "execution_count": 2,
     "metadata": {},
     "output_type": "execute_result"
    }
   ],
   "source": [
    "data_clv = pd.read_csv(\"data_clv.csv\")\n",
    "data_clv.head()"
   ]
  },
  {
   "cell_type": "markdown",
   "id": "f136e729-c4a0-4fd8-b43e-6a41d6d303f5",
   "metadata": {},
   "source": [
    "**Shape of the dataset**"
   ]
  },
  {
   "cell_type": "code",
   "execution_count": 3,
   "id": "26f921f4-18b4-43d0-a5e2-e10f3d3bf536",
   "metadata": {},
   "outputs": [
    {
     "data": {
      "text/plain": [
       "(397884, 13)"
      ]
     },
     "execution_count": 3,
     "metadata": {},
     "output_type": "execute_result"
    }
   ],
   "source": [
    "data_clv.shape"
   ]
  },
  {
   "cell_type": "markdown",
   "id": "72545551-7a82-40d6-8dfa-b0bcc184e5f3",
   "metadata": {},
   "source": [
    "**Checking for Null Values**"
   ]
  },
  {
   "cell_type": "code",
   "execution_count": 4,
   "id": "1b358310-2f3a-4522-9d21-922850560e6c",
   "metadata": {},
   "outputs": [
    {
     "data": {
      "text/plain": [
       "InvoiceNo      0\n",
       "StockCode      0\n",
       "Description    0\n",
       "Quantity       0\n",
       "InvoiceDate    0\n",
       "UnitPrice      0\n",
       "CustomerID     0\n",
       "Country        0\n",
       "TotalSales     0\n",
       "Hour           0\n",
       "DayOfWeek      0\n",
       "YearMonth      0\n",
       "Month          0\n",
       "dtype: int64"
      ]
     },
     "execution_count": 4,
     "metadata": {},
     "output_type": "execute_result"
    }
   ],
   "source": [
    "data_clv.isnull().sum()"
   ]
  },
  {
   "cell_type": "markdown",
   "id": "84dc2d58-d4af-44c8-86f6-241c6c1a5065",
   "metadata": {},
   "source": [
    "**Check for non-date values or invalid formats**\n",
    "\n",
    "This code checks for any invalid or non-date values in the 'InvoiceDate' column."
   ]
  },
  {
   "cell_type": "code",
   "execution_count": 5,
   "id": "663fd7da-3c30-4990-8f3f-65856ffdd6f5",
   "metadata": {},
   "outputs": [
    {
     "name": "stdout",
     "output_type": "stream",
     "text": [
      "        InvoiceNo StockCode                          Description  Quantity  \\\n",
      "0          536365    85123A   WHITE HANGING HEART T-LIGHT HOLDER         6   \n",
      "1          536365     71053                  WHITE METAL LANTERN         6   \n",
      "2          536365    84406B       CREAM CUPID HEARTS COAT HANGER         8   \n",
      "3          536365    84029G  KNITTED UNION FLAG HOT WATER BOTTLE         6   \n",
      "4          536365    84029E       RED WOOLLY HOTTIE WHITE HEART.         6   \n",
      "...           ...       ...                                  ...       ...   \n",
      "397879     581587     22613          PACK OF 20 SPACEBOY NAPKINS        12   \n",
      "397880     581587     22899         CHILDREN'S APRON DOLLY GIRL          6   \n",
      "397881     581587     23254        CHILDRENS CUTLERY DOLLY GIRL          4   \n",
      "397882     581587     23255      CHILDRENS CUTLERY CIRCUS PARADE         4   \n",
      "397883     581587     22138        BAKING SET 9 PIECE RETROSPOT          3   \n",
      "\n",
      "                InvoiceDate  UnitPrice  CustomerID         Country  \\\n",
      "0       2010-12-01 08:26:00       2.55       17850  United Kingdom   \n",
      "1       2010-12-01 08:26:00       3.39       17850  United Kingdom   \n",
      "2       2010-12-01 08:26:00       2.75       17850  United Kingdom   \n",
      "3       2010-12-01 08:26:00       3.39       17850  United Kingdom   \n",
      "4       2010-12-01 08:26:00       3.39       17850  United Kingdom   \n",
      "...                     ...        ...         ...             ...   \n",
      "397879  2011-12-09 12:50:00       0.85       12680          France   \n",
      "397880  2011-12-09 12:50:00       2.10       12680          France   \n",
      "397881  2011-12-09 12:50:00       4.15       12680          France   \n",
      "397882  2011-12-09 12:50:00       4.15       12680          France   \n",
      "397883  2011-12-09 12:50:00       4.95       12680          France   \n",
      "\n",
      "        TotalSales  Hour  DayOfWeek YearMonth  Month  \n",
      "0            15.30     8  Wednesday   2010-12     12  \n",
      "1            20.34     8  Wednesday   2010-12     12  \n",
      "2            22.00     8  Wednesday   2010-12     12  \n",
      "3            20.34     8  Wednesday   2010-12     12  \n",
      "4            20.34     8  Wednesday   2010-12     12  \n",
      "...            ...   ...        ...       ...    ...  \n",
      "397879       10.20    12     Friday   2011-12     12  \n",
      "397880       12.60    12     Friday   2011-12     12  \n",
      "397881       16.60    12     Friday   2011-12     12  \n",
      "397882       16.60    12     Friday   2011-12     12  \n",
      "397883       14.85    12     Friday   2011-12     12  \n",
      "\n",
      "[397884 rows x 13 columns]\n"
     ]
    }
   ],
   "source": [
    "invalid_dates = data_clv[~data_clv['InvoiceDate'].str.match(r'^\\d{4}-\\d{2}-\\d{2}$', na=False)]\n",
    "print(invalid_dates)\n"
   ]
  },
  {
   "cell_type": "code",
   "execution_count": 6,
   "id": "189bcba0-3698-4a8c-9751-1ef807ca57be",
   "metadata": {},
   "outputs": [],
   "source": [
    "# Convert InvoiceDate to datetime, setting errors='coerce' to handle invalid formats\n",
    "data_clv['InvoiceDate'] = pd.to_datetime(data_clv['InvoiceDate'], errors='coerce')\n"
   ]
  },
  {
   "cell_type": "markdown",
   "id": "110ab2c9-ac57-4569-af57-d43671cb3abe",
   "metadata": {},
   "source": [
    "**Checking the Datatypes**"
   ]
  },
  {
   "cell_type": "code",
   "execution_count": 7,
   "id": "6b6cab96-cb82-4f48-b219-b8c0cca4b95a",
   "metadata": {},
   "outputs": [
    {
     "data": {
      "text/plain": [
       "InvoiceNo               int64\n",
       "StockCode              object\n",
       "Description            object\n",
       "Quantity                int64\n",
       "InvoiceDate    datetime64[ns]\n",
       "UnitPrice             float64\n",
       "CustomerID              int64\n",
       "Country                object\n",
       "TotalSales            float64\n",
       "Hour                    int64\n",
       "DayOfWeek              object\n",
       "YearMonth              object\n",
       "Month                   int64\n",
       "dtype: object"
      ]
     },
     "execution_count": 7,
     "metadata": {},
     "output_type": "execute_result"
    }
   ],
   "source": [
    "data_clv.dtypes"
   ]
  },
  {
   "cell_type": "code",
   "execution_count": 8,
   "id": "aab75508-e028-4bfb-858c-a3b41139a683",
   "metadata": {},
   "outputs": [
    {
     "data": {
      "text/plain": [
       "InvoiceNo      0\n",
       "StockCode      0\n",
       "Description    0\n",
       "Quantity       0\n",
       "InvoiceDate    0\n",
       "UnitPrice      0\n",
       "CustomerID     0\n",
       "Country        0\n",
       "TotalSales     0\n",
       "Hour           0\n",
       "DayOfWeek      0\n",
       "YearMonth      0\n",
       "Month          0\n",
       "dtype: int64"
      ]
     },
     "execution_count": 8,
     "metadata": {},
     "output_type": "execute_result"
    }
   ],
   "source": [
    "data_clv.isnull().sum()"
   ]
  },
  {
   "cell_type": "markdown",
   "id": "aadf0076-b9f5-4d31-afa6-6c8ad7165bc5",
   "metadata": {},
   "source": [
    "**Printing the details of the dataset**"
   ]
  },
  {
   "cell_type": "code",
   "execution_count": 9,
   "id": "fa398f21-808f-4421-a4db-749a864ca0e5",
   "metadata": {},
   "outputs": [
    {
     "name": "stdout",
     "output_type": "stream",
     "text": [
      "The Time of transactions is: 2010-12-01 to 2011-12-09\n",
      "Total number of unique customers: 4338\n",
      "Total Quantity Sold: 5167812\n",
      "Total Sales for the period: 8911407.904\n"
     ]
    }
   ],
   "source": [
    "maxdate = data_clv['InvoiceDate'].dt.date.max()\n",
    "mindate = data_clv['InvoiceDate'].dt.date.min()\n",
    "unique_cust = data_clv['CustomerID'].nunique()\n",
    "tot_quantity = data_clv['Quantity'].sum()\n",
    "tot_sales = data_clv['TotalSales'].sum()\n",
    "\n",
    "print(f\"The Time of transactions is: {mindate} to {maxdate}\")\n",
    "print(f\"Total number of unique customers: {unique_cust}\")\n",
    "print(f\"Total Quantity Sold: {tot_quantity}\")\n",
    "print(f\"Total Sales for the period: {tot_sales}\")"
   ]
  },
  {
   "cell_type": "markdown",
   "id": "2d7fa6ae-f58f-4874-b8b6-3faf8fa0e8ab",
   "metadata": {},
   "source": [
    "## 2. Modeling the Customer Lifetime Value"
   ]
  },
  {
   "attachments": {
    "5ccfba23-13cd-426d-8219-b72347e8d957.png": {
     "image/png": "[encoded data removed]"
    }
   },
   "cell_type": "markdown",
   "id": "4f1cbf4f-0407-4694-916d-7141977fd7cf",
   "metadata": {},
   "source": [
    "### 2.1 Aggregate Model\n",
    "\n",
    "The simplest and oldest method for calculating CLV is the Aggregate or Average method. This approach assumes that all customers have a constant average spend and churn rate. It doesn't distinguish between individual customers, producing a single CLV value at an overall level. However, this can result in unrealistic estimates, especially if some customers make high-value or high-volume transactions, which can skew the average CLV.\n",
    "\n",
    "**The General Formula for calculating CLV is:**\n",
    "\n",
    "![image.png](attachment:5ccfba23-13cd-426d-8219-b72347e8d957.png)\n",
    "\n",
    "Where:\n",
    "\n",
    "- **Average Sales** = Total Sales / Total Number of Orders\n",
    "- **Purchase Frequency** = Total Number of Orders / Total Unique Customers\n",
    "- **Retention Rate** = (Total Number of Customers with More Than One Order) / (Total Unique Customers)\n",
    "- **Churn** = 1 - Retention Rate\n",
    "- **Profit Margin** = Based on business context (assumed to be 5% in this case)\n",
    "\n",
    "In this instance, the profit margin is assumed to be around 5% for each transaction."
   ]
  },
  {
   "cell_type": "markdown",
   "id": "ae4097e2-d976-4716-864b-c94e2aad0dc3",
   "metadata": {},
   "source": [
    "**Transforming data to customer level for the analysis**"
   ]
  },
  {
   "cell_type": "code",
   "execution_count": 10,
   "id": "546b581b-1b66-4b11-b53f-2fb8eca844ac",
   "metadata": {},
   "outputs": [
    {
     "data": {
      "text/html": [
       "<div>\n",
       "<style scoped>\n",
       "    .dataframe tbody tr th:only-of-type {\n",
       "        vertical-align: middle;\n",
       "    }\n",
       "\n",
       "    .dataframe tbody tr th {\n",
       "        vertical-align: top;\n",
       "    }\n",
       "\n",
       "    .dataframe thead th {\n",
       "        text-align: right;\n",
       "    }\n",
       "</style>\n",
       "<table border=\"1\" class=\"dataframe\">\n",
       "  <thead>\n",
       "    <tr style=\"text-align: right;\">\n",
       "      <th></th>\n",
       "      <th>InvoiceNo</th>\n",
       "      <th>StockCode</th>\n",
       "      <th>Description</th>\n",
       "      <th>Quantity</th>\n",
       "      <th>InvoiceDate</th>\n",
       "      <th>UnitPrice</th>\n",
       "      <th>CustomerID</th>\n",
       "      <th>Country</th>\n",
       "      <th>TotalSales</th>\n",
       "      <th>Hour</th>\n",
       "      <th>DayOfWeek</th>\n",
       "      <th>YearMonth</th>\n",
       "      <th>Month</th>\n",
       "    </tr>\n",
       "  </thead>\n",
       "  <tbody>\n",
       "    <tr>\n",
       "      <th>0</th>\n",
       "      <td>536365</td>\n",
       "      <td>85123A</td>\n",
       "      <td>WHITE HANGING HEART T-LIGHT HOLDER</td>\n",
       "      <td>6</td>\n",
       "      <td>2010-12-01 08:26:00</td>\n",
       "      <td>2.55</td>\n",
       "      <td>17850</td>\n",
       "      <td>United Kingdom</td>\n",
       "      <td>15.30</td>\n",
       "      <td>8</td>\n",
       "      <td>Wednesday</td>\n",
       "      <td>2010-12</td>\n",
       "      <td>12</td>\n",
       "    </tr>\n",
       "    <tr>\n",
       "      <th>1</th>\n",
       "      <td>536365</td>\n",
       "      <td>71053</td>\n",
       "      <td>WHITE METAL LANTERN</td>\n",
       "      <td>6</td>\n",
       "      <td>2010-12-01 08:26:00</td>\n",
       "      <td>3.39</td>\n",
       "      <td>17850</td>\n",
       "      <td>United Kingdom</td>\n",
       "      <td>20.34</td>\n",
       "      <td>8</td>\n",
       "      <td>Wednesday</td>\n",
       "      <td>2010-12</td>\n",
       "      <td>12</td>\n",
       "    </tr>\n",
       "    <tr>\n",
       "      <th>2</th>\n",
       "      <td>536365</td>\n",
       "      <td>84406B</td>\n",
       "      <td>CREAM CUPID HEARTS COAT HANGER</td>\n",
       "      <td>8</td>\n",
       "      <td>2010-12-01 08:26:00</td>\n",
       "      <td>2.75</td>\n",
       "      <td>17850</td>\n",
       "      <td>United Kingdom</td>\n",
       "      <td>22.00</td>\n",
       "      <td>8</td>\n",
       "      <td>Wednesday</td>\n",
       "      <td>2010-12</td>\n",
       "      <td>12</td>\n",
       "    </tr>\n",
       "    <tr>\n",
       "      <th>3</th>\n",
       "      <td>536365</td>\n",
       "      <td>84029G</td>\n",
       "      <td>KNITTED UNION FLAG HOT WATER BOTTLE</td>\n",
       "      <td>6</td>\n",
       "      <td>2010-12-01 08:26:00</td>\n",
       "      <td>3.39</td>\n",
       "      <td>17850</td>\n",
       "      <td>United Kingdom</td>\n",
       "      <td>20.34</td>\n",
       "      <td>8</td>\n",
       "      <td>Wednesday</td>\n",
       "      <td>2010-12</td>\n",
       "      <td>12</td>\n",
       "    </tr>\n",
       "    <tr>\n",
       "      <th>4</th>\n",
       "      <td>536365</td>\n",
       "      <td>84029E</td>\n",
       "      <td>RED WOOLLY HOTTIE WHITE HEART.</td>\n",
       "      <td>6</td>\n",
       "      <td>2010-12-01 08:26:00</td>\n",
       "      <td>3.39</td>\n",
       "      <td>17850</td>\n",
       "      <td>United Kingdom</td>\n",
       "      <td>20.34</td>\n",
       "      <td>8</td>\n",
       "      <td>Wednesday</td>\n",
       "      <td>2010-12</td>\n",
       "      <td>12</td>\n",
       "    </tr>\n",
       "  </tbody>\n",
       "</table>\n",
       "</div>"
      ],
      "text/plain": [
       "   InvoiceNo StockCode                          Description  Quantity  \\\n",
       "0     536365    85123A   WHITE HANGING HEART T-LIGHT HOLDER         6   \n",
       "1     536365     71053                  WHITE METAL LANTERN         6   \n",
       "2     536365    84406B       CREAM CUPID HEARTS COAT HANGER         8   \n",
       "3     536365    84029G  KNITTED UNION FLAG HOT WATER BOTTLE         6   \n",
       "4     536365    84029E       RED WOOLLY HOTTIE WHITE HEART.         6   \n",
       "\n",
       "          InvoiceDate  UnitPrice  CustomerID         Country  TotalSales  \\\n",
       "0 2010-12-01 08:26:00       2.55       17850  United Kingdom       15.30   \n",
       "1 2010-12-01 08:26:00       3.39       17850  United Kingdom       20.34   \n",
       "2 2010-12-01 08:26:00       2.75       17850  United Kingdom       22.00   \n",
       "3 2010-12-01 08:26:00       3.39       17850  United Kingdom       20.34   \n",
       "4 2010-12-01 08:26:00       3.39       17850  United Kingdom       20.34   \n",
       "\n",
       "   Hour  DayOfWeek YearMonth  Month  \n",
       "0     8  Wednesday   2010-12     12  \n",
       "1     8  Wednesday   2010-12     12  \n",
       "2     8  Wednesday   2010-12     12  \n",
       "3     8  Wednesday   2010-12     12  \n",
       "4     8  Wednesday   2010-12     12  "
      ]
     },
     "execution_count": 10,
     "metadata": {},
     "output_type": "execute_result"
    }
   ],
   "source": [
    "data_clv.head()"
   ]
  },
  {
   "cell_type": "code",
   "execution_count": 11,
   "id": "e188f815-34d2-4c04-8fe1-688a8f5e2134",
   "metadata": {},
   "outputs": [
    {
     "data": {
      "text/html": [
       "<div>\n",
       "<style scoped>\n",
       "    .dataframe tbody tr th:only-of-type {\n",
       "        vertical-align: middle;\n",
       "    }\n",
       "\n",
       "    .dataframe tbody tr th {\n",
       "        vertical-align: top;\n",
       "    }\n",
       "\n",
       "    .dataframe thead th {\n",
       "        text-align: right;\n",
       "    }\n",
       "</style>\n",
       "<table border=\"1\" class=\"dataframe\">\n",
       "  <thead>\n",
       "    <tr style=\"text-align: right;\">\n",
       "      <th></th>\n",
       "      <th>Age</th>\n",
       "      <th>Frequency</th>\n",
       "      <th>TotalSales</th>\n",
       "    </tr>\n",
       "    <tr>\n",
       "      <th>CustomerID</th>\n",
       "      <th></th>\n",
       "      <th></th>\n",
       "      <th></th>\n",
       "    </tr>\n",
       "  </thead>\n",
       "  <tbody>\n",
       "    <tr>\n",
       "      <th>12346</th>\n",
       "      <td>0</td>\n",
       "      <td>1</td>\n",
       "      <td>77183.60</td>\n",
       "    </tr>\n",
       "    <tr>\n",
       "      <th>12347</th>\n",
       "      <td>365</td>\n",
       "      <td>182</td>\n",
       "      <td>4310.00</td>\n",
       "    </tr>\n",
       "    <tr>\n",
       "      <th>12348</th>\n",
       "      <td>282</td>\n",
       "      <td>31</td>\n",
       "      <td>1797.24</td>\n",
       "    </tr>\n",
       "    <tr>\n",
       "      <th>12349</th>\n",
       "      <td>0</td>\n",
       "      <td>73</td>\n",
       "      <td>1757.55</td>\n",
       "    </tr>\n",
       "    <tr>\n",
       "      <th>12350</th>\n",
       "      <td>0</td>\n",
       "      <td>17</td>\n",
       "      <td>334.40</td>\n",
       "    </tr>\n",
       "  </tbody>\n",
       "</table>\n",
       "</div>"
      ],
      "text/plain": [
       "            Age  Frequency  TotalSales\n",
       "CustomerID                            \n",
       "12346         0          1    77183.60\n",
       "12347       365        182     4310.00\n",
       "12348       282         31     1797.24\n",
       "12349         0         73     1757.55\n",
       "12350         0         17      334.40"
      ]
     },
     "execution_count": 11,
     "metadata": {},
     "output_type": "execute_result"
    }
   ],
   "source": [
    "customer = data_clv.groupby('CustomerID').agg({'InvoiceDate':lambda x:(x.max() - x.min()).days,\n",
    "                                               'InvoiceNo': lambda x: len(x),\n",
    "                                               'TotalSales': lambda x:sum(x)})\n",
    "customer.columns = ['Age', 'Frequency', 'TotalSales']\n",
    "customer.head()"
   ]
  },
  {
   "cell_type": "markdown",
   "id": "bd3a76c2-87ae-480e-b6c5-8f93977dbd93",
   "metadata": {},
   "source": [
    "- The `Age` indicates how long the customer has been active.\n",
    "- The `Frequency` counts the number of unique orders (invoices) for each customer.\n",
    "- The `TotalSales` shows the total sales for each customer\n",
    "\n",
    "\n",
    "1. Customer 12347: With an Age of 365 days and a TotalSales of 4,310.00 from 182 orders, this customer has been loyal and consistently engaged with the brand. Their frequent purchases suggest they value the products but might be buying lower-priced items. It could be beneficial to introduce them to higher-value products or loyalty rewards to increase their total sales.\n",
    "2. Customers 12346, 12349, and 12350: All have an Age of 0 days but different purchasing behaviors.\n",
    "3. Customer 12346 made a single high-value purchase (77,183.60), which could indicate a potential for being a high-value customer if retained.\n",
    "4. Customer 12349 shows a surprising frequency of 73 orders despite being a new customer, suggesting they might have a strong interest in certain products. Further engagement can convert them into a loyal customer.\n",
    "5. Customer 12350, however, has made 17 purchases but with very low total sales (334.40), indicating a need for improvement in their purchasing experience or product offerings."
   ]
  },
  {
   "cell_type": "markdown",
   "id": "0a1d13c5-afa7-4331-8ca8-709313f2ed86",
   "metadata": {},
   "source": [
    "**Calculating the necessary variables for CLV calculation**"
   ]
  },
  {
   "cell_type": "code",
   "execution_count": 12,
   "id": "e3d3ec6a-47b0-47e1-b55c-b781cf1d1724",
   "metadata": {},
   "outputs": [
    {
     "name": "stdout",
     "output_type": "stream",
     "text": [
      "Average Sales: $2054.27\n",
      "Purchase Frequency: 91.72\n",
      "Retention Rate: 0.98\n",
      "Churn = 0.02%\n"
     ]
    }
   ],
   "source": [
    "Average_sales = round(np.mean(customer['TotalSales']),2)\n",
    "print(f\"Average Sales: ${Average_sales}\")\n",
    "\n",
    "Purchase_freq = round(np.mean(customer['Frequency']),2)\n",
    "print(f\"Purchase Frequency: {Purchase_freq}\")\n",
    "\n",
    "Retention_rate = round(customer[customer['Frequency'] > 1].shape[0]/customer.shape[0],2)\n",
    "print(f\"Retention Rate: {Retention_rate}\")\n",
    "\n",
    "churn = round(1 - Retention_rate, 2)\n",
    "print(f\"Churn = {churn}%\")\n"
   ]
  },
  {
   "cell_type": "markdown",
   "id": "0cd08abe-b605-4110-b5ef-eec69bfa7362",
   "metadata": {},
   "source": [
    "**Calculating the CLV**"
   ]
  },
  {
   "cell_type": "code",
   "execution_count": 13,
   "id": "2d05b01a-b4ae-4119-8984-a0d664bf481f",
   "metadata": {},
   "outputs": [
    {
     "name": "stdout",
     "output_type": "stream",
     "text": [
      "The Customer Lifetime Value (CLV) for each customer is: $471044.11\n"
     ]
    }
   ],
   "source": [
    "Profit_margin = 0.05\n",
    "\n",
    "CLV = round((Average_sales * Purchase_freq/churn) * Profit_margin, 2)\n",
    "print(f\"The Customer Lifetime Value (CLV) for each customer is: ${CLV}\")"
   ]
  },
  {
   "cell_type": "markdown",
   "id": "2c345163-5314-4b35-a0f0-e96eafd28f66",
   "metadata": {},
   "source": [
    "Our initial model calculated a CLV of `$471K` per customer, which is unrealistic. This result is heavily skewed due to a few customers with extremely high sales, inflating the overall figure. Additionally, it's important to note that not all customers behave the same way.\n",
    "\n",
    "**Let's check description to understand it**"
   ]
  },
  {
   "cell_type": "code",
   "execution_count": 14,
   "id": "efa9088f-9d3f-4aa1-a6a2-ed6518ea3ed2",
   "metadata": {},
   "outputs": [
    {
     "data": {
      "text/plain": [
       "count      4338.000000\n",
       "mean       2054.266460\n",
       "std        8989.230441\n",
       "min           3.750000\n",
       "25%         307.415000\n",
       "50%         674.485000\n",
       "75%        1661.740000\n",
       "max      280206.020000\n",
       "Name: TotalSales, dtype: float64"
      ]
     },
     "execution_count": 14,
     "metadata": {},
     "output_type": "execute_result"
    }
   ],
   "source": [
    "customer['TotalSales'].describe()"
   ]
  },
  {
   "cell_type": "markdown",
   "id": "84a2e5f1-d266-4f12-bad2-22f9674ad221",
   "metadata": {},
   "source": [
    "The descriptive statistics show that nearly 75% of customers in our data have sales values below `$2,000`, while the maximum sales value is around `$280K`. Given this, do you think every customer could realistically generate over `$470K` in lifetime value? Definitely not! CLV varies significantly between individual customers or at least across different customer segments, highlighting a key limitation of the Aggregate Model."
   ]
  },
  {
   "cell_type": "markdown",
   "id": "14e4def6-9418-4012-b27e-9cdddda7d4f3",
   "metadata": {},
   "source": [
    "### 2.2 Cohort Model\n",
    "\n",
    "Rather than treating all customers as a single group, we can divide them into multiple groups and calculate CLV for each one. This approach addresses the key limitation of the simple Aggregate model, which assumes all customers are the same. This method is known as the Cohort model.\r\n",
    "\r\n",
    "The key assumption here is that customers within the same cohort have similar spending habits or overall behavior."
   ]
  },
  {
   "cell_type": "markdown",
   "id": "4926a909-ad1b-4e28-a52e-9f55fd5912e8",
   "metadata": {},
   "source": [
    "A common approach to grouping customers into cohorts is by their start date, usually on a monthly basis. The ideal grouping method depends on factors like the customer acquisition rate, business seasonality, and available customer data.\n",
    "\n",
    "In this case, I am organizing customers into cohorts based on their start month, resulting in 12 customer cohorts (January to December)."
   ]
  },
  {
   "cell_type": "code",
   "execution_count": 15,
   "id": "acac24f0-0848-435b-ae6e-ae51f14c5be5",
   "metadata": {},
   "outputs": [
    {
     "data": {
      "text/html": [
       "<div>\n",
       "<style scoped>\n",
       "    .dataframe tbody tr th:only-of-type {\n",
       "        vertical-align: middle;\n",
       "    }\n",
       "\n",
       "    .dataframe tbody tr th {\n",
       "        vertical-align: top;\n",
       "    }\n",
       "\n",
       "    .dataframe thead th {\n",
       "        text-align: right;\n",
       "    }\n",
       "</style>\n",
       "<table border=\"1\" class=\"dataframe\">\n",
       "  <thead>\n",
       "    <tr style=\"text-align: right;\">\n",
       "      <th></th>\n",
       "      <th>Start_Month</th>\n",
       "      <th>Frequency</th>\n",
       "      <th>TotalSales</th>\n",
       "    </tr>\n",
       "    <tr>\n",
       "      <th>CustomerID</th>\n",
       "      <th></th>\n",
       "      <th></th>\n",
       "      <th></th>\n",
       "    </tr>\n",
       "  </thead>\n",
       "  <tbody>\n",
       "    <tr>\n",
       "      <th>12346</th>\n",
       "      <td>1</td>\n",
       "      <td>1</td>\n",
       "      <td>77183.60</td>\n",
       "    </tr>\n",
       "    <tr>\n",
       "      <th>12347</th>\n",
       "      <td>12</td>\n",
       "      <td>182</td>\n",
       "      <td>4310.00</td>\n",
       "    </tr>\n",
       "    <tr>\n",
       "      <th>12348</th>\n",
       "      <td>12</td>\n",
       "      <td>31</td>\n",
       "      <td>1797.24</td>\n",
       "    </tr>\n",
       "    <tr>\n",
       "      <th>12349</th>\n",
       "      <td>11</td>\n",
       "      <td>73</td>\n",
       "      <td>1757.55</td>\n",
       "    </tr>\n",
       "    <tr>\n",
       "      <th>12350</th>\n",
       "      <td>2</td>\n",
       "      <td>17</td>\n",
       "      <td>334.40</td>\n",
       "    </tr>\n",
       "  </tbody>\n",
       "</table>\n",
       "</div>"
      ],
      "text/plain": [
       "            Start_Month  Frequency  TotalSales\n",
       "CustomerID                                    \n",
       "12346                 1          1    77183.60\n",
       "12347                12        182     4310.00\n",
       "12348                12         31     1797.24\n",
       "12349                11         73     1757.55\n",
       "12350                 2         17      334.40"
      ]
     },
     "execution_count": 15,
     "metadata": {},
     "output_type": "execute_result"
    }
   ],
   "source": [
    "# Transforming the data to customer level for analysis\n",
    "\n",
    "customer = data_clv.groupby('CustomerID').agg({'InvoiceDate': lambda x: x.min().month,\n",
    "                                               'InvoiceNo': lambda x: len(x),\n",
    "                                               'TotalSales': lambda x: np.sum(x)})\n",
    "\n",
    "customer.columns = ['Start_Month', 'Frequency', 'TotalSales']\n",
    "customer.head()"
   ]
  },
  {
   "cell_type": "code",
   "execution_count": 16,
   "id": "725732f6-bd7a-4342-ac59-5f3a7edb59b2",
   "metadata": {},
   "outputs": [
    {
     "data": {
      "text/html": [
       "<div>\n",
       "<style scoped>\n",
       "    .dataframe tbody tr th:only-of-type {\n",
       "        vertical-align: middle;\n",
       "    }\n",
       "\n",
       "    .dataframe tbody tr th {\n",
       "        vertical-align: top;\n",
       "    }\n",
       "\n",
       "    .dataframe thead th {\n",
       "        text-align: right;\n",
       "    }\n",
       "</style>\n",
       "<table border=\"1\" class=\"dataframe\">\n",
       "  <thead>\n",
       "    <tr style=\"text-align: right;\">\n",
       "      <th></th>\n",
       "      <th>Start_Month</th>\n",
       "      <th>Frequency</th>\n",
       "      <th>TotalSales</th>\n",
       "    </tr>\n",
       "    <tr>\n",
       "      <th>CustomerID</th>\n",
       "      <th></th>\n",
       "      <th></th>\n",
       "      <th></th>\n",
       "    </tr>\n",
       "  </thead>\n",
       "  <tbody>\n",
       "    <tr>\n",
       "      <th>12346</th>\n",
       "      <td>1</td>\n",
       "      <td>1</td>\n",
       "      <td>77183.60</td>\n",
       "    </tr>\n",
       "    <tr>\n",
       "      <th>12347</th>\n",
       "      <td>12</td>\n",
       "      <td>182</td>\n",
       "      <td>4310.00</td>\n",
       "    </tr>\n",
       "    <tr>\n",
       "      <th>12348</th>\n",
       "      <td>12</td>\n",
       "      <td>31</td>\n",
       "      <td>1797.24</td>\n",
       "    </tr>\n",
       "    <tr>\n",
       "      <th>12349</th>\n",
       "      <td>11</td>\n",
       "      <td>73</td>\n",
       "      <td>1757.55</td>\n",
       "    </tr>\n",
       "    <tr>\n",
       "      <th>12350</th>\n",
       "      <td>2</td>\n",
       "      <td>17</td>\n",
       "      <td>334.40</td>\n",
       "    </tr>\n",
       "    <tr>\n",
       "      <th>...</th>\n",
       "      <td>...</td>\n",
       "      <td>...</td>\n",
       "      <td>...</td>\n",
       "    </tr>\n",
       "    <tr>\n",
       "      <th>18280</th>\n",
       "      <td>3</td>\n",
       "      <td>10</td>\n",
       "      <td>180.60</td>\n",
       "    </tr>\n",
       "    <tr>\n",
       "      <th>18281</th>\n",
       "      <td>6</td>\n",
       "      <td>7</td>\n",
       "      <td>80.82</td>\n",
       "    </tr>\n",
       "    <tr>\n",
       "      <th>18282</th>\n",
       "      <td>8</td>\n",
       "      <td>12</td>\n",
       "      <td>178.05</td>\n",
       "    </tr>\n",
       "    <tr>\n",
       "      <th>18283</th>\n",
       "      <td>1</td>\n",
       "      <td>756</td>\n",
       "      <td>2094.88</td>\n",
       "    </tr>\n",
       "    <tr>\n",
       "      <th>18287</th>\n",
       "      <td>5</td>\n",
       "      <td>70</td>\n",
       "      <td>1837.28</td>\n",
       "    </tr>\n",
       "  </tbody>\n",
       "</table>\n",
       "<p>4338 rows × 3 columns</p>\n",
       "</div>"
      ],
      "text/plain": [
       "            Start_Month  Frequency  TotalSales\n",
       "CustomerID                                    \n",
       "12346                 1          1    77183.60\n",
       "12347                12        182     4310.00\n",
       "12348                12         31     1797.24\n",
       "12349                11         73     1757.55\n",
       "12350                 2         17      334.40\n",
       "...                 ...        ...         ...\n",
       "18280                 3         10      180.60\n",
       "18281                 6          7       80.82\n",
       "18282                 8         12      178.05\n",
       "18283                 1        756     2094.88\n",
       "18287                 5         70     1837.28\n",
       "\n",
       "[4338 rows x 3 columns]"
      ]
     },
     "execution_count": 16,
     "metadata": {},
     "output_type": "execute_result"
    }
   ],
   "source": [
    "customer"
   ]
  },
  {
   "cell_type": "markdown",
   "id": "c6b56694-ff14-4f16-a12c-3c7c7280e153",
   "metadata": {},
   "source": [
    "**Customers are grouped based on the month of their first purchase (e.g., customers acquired in January belong to the \"January cohort\").**"
   ]
  },
  {
   "cell_type": "markdown",
   "id": "475881e6-070e-4f15-a3a0-8cd0419dfcf2",
   "metadata": {},
   "source": [
    "**Grouping customers by 'Start_Month' and calculating the number of customers and their total sales**"
   ]
  },
  {
   "cell_type": "code",
   "execution_count": 17,
   "id": "798428eb-9443-4ade-8f48-2b8c2307dc4b",
   "metadata": {},
   "outputs": [
    {
     "name": "stdout",
     "output_type": "stream",
     "text": [
      "             Number_of_Customers   TotalSales\n",
      "Start_Month                                  \n",
      "1                            417  1125882.281\n",
      "2                            380   593876.880\n",
      "3                            452   643758.940\n",
      "4                            300   326621.031\n",
      "5                            284   455545.380\n",
      "6                            242   273455.230\n",
      "7                            188   144468.341\n",
      "8                            169   196049.050\n",
      "9                            299   233296.821\n",
      "10                           358   227369.540\n",
      "11                           323   151876.730\n",
      "12                           926  4539207.680\n"
     ]
    }
   ],
   "source": [
    "customers_per_month_sales = customer.groupby('Start_Month').agg({\n",
    "    'Frequency': 'size',         # Counts the number of customers in each month (size of the group)\n",
    "    'TotalSales': 'sum'          # Sums up the total sales of all customers for each month\n",
    "})\n",
    "\n",
    "# Renaming columns for clarity\n",
    "customers_per_month_sales.columns = ['Number_of_Customers', 'TotalSales']\n",
    "\n",
    "# Displaying the result\n",
    "print(customers_per_month_sales)\n"
   ]
  },
  {
   "cell_type": "markdown",
   "id": "9cf424a2-8ed9-418f-888e-9b6800bb881c",
   "metadata": {},
   "source": [
    "1. `Customer Count Variation:` The number of customers varies significantly across the months. December has the highest number of customers (926), while August has the lowest (169). This suggests that customer acquisition strategies or seasonal factors might influence when customers start transacting.\n",
    "\n",
    "2. `Total Sales Discrepancies:` December leads significantly in total sales with $4,539,207.68. This indicates that December not only attracted a large volume of customers (926) but also resulted in much higher sales, which could be attributed to holiday shopping trends and promotions.\n",
    "\n",
    "3. `Decline in Customers and Sales Mid-Year:` There is a noticeable decline in both customer count and total sales from May (284 customers and `$455,545.38`) through August (169 customers and $196,049.05). This may indicate a seasonal dip in engagement or fewer marketing efforts during these months.\n",
    "\n",
    "4. `Opportunity for Targeted Marketing:` Understanding these cohort patterns provides opportunities for targeted marketing efforts. For example, focusing on re-engaging customers who started in the lower-performing months (like June and July) could help improve overall sales.\n",
    "\n",
    "5. `Customer Retention Strategies:` The data suggests that certain months might produce more loyal or higher-value customers. By analyzing the behavior and preferences of customers who start in high-sales months (like December), businesses can develop targeted retention strategies to enhance CLV for these segments."
   ]
  },
  {
   "cell_type": "markdown",
   "id": "87350dbf-4eda-46de-8596-139cbd0c9c45",
   "metadata": {},
   "source": [
    "**Calculate CLV for each Cohort**"
   ]
  },
  {
   "cell_type": "code",
   "execution_count": 18,
   "id": "b461d797-60d1-461e-9130-1e63304247da",
   "metadata": {},
   "outputs": [
    {
     "data": {
      "text/html": [
       "<div>\n",
       "<style scoped>\n",
       "    .dataframe tbody tr th:only-of-type {\n",
       "        vertical-align: middle;\n",
       "    }\n",
       "\n",
       "    .dataframe tbody tr th {\n",
       "        vertical-align: top;\n",
       "    }\n",
       "\n",
       "    .dataframe thead th {\n",
       "        text-align: right;\n",
       "    }\n",
       "</style>\n",
       "<table border=\"1\" class=\"dataframe\">\n",
       "  <thead>\n",
       "    <tr style=\"text-align: right;\">\n",
       "      <th></th>\n",
       "      <th>Start_Month</th>\n",
       "      <th>Frequency</th>\n",
       "      <th>TotalSales</th>\n",
       "    </tr>\n",
       "    <tr>\n",
       "      <th>CustomerID</th>\n",
       "      <th></th>\n",
       "      <th></th>\n",
       "      <th></th>\n",
       "    </tr>\n",
       "  </thead>\n",
       "  <tbody>\n",
       "    <tr>\n",
       "      <th>12346</th>\n",
       "      <td>1</td>\n",
       "      <td>1</td>\n",
       "      <td>77183.60</td>\n",
       "    </tr>\n",
       "    <tr>\n",
       "      <th>12347</th>\n",
       "      <td>12</td>\n",
       "      <td>182</td>\n",
       "      <td>4310.00</td>\n",
       "    </tr>\n",
       "    <tr>\n",
       "      <th>12348</th>\n",
       "      <td>12</td>\n",
       "      <td>31</td>\n",
       "      <td>1797.24</td>\n",
       "    </tr>\n",
       "    <tr>\n",
       "      <th>12349</th>\n",
       "      <td>11</td>\n",
       "      <td>73</td>\n",
       "      <td>1757.55</td>\n",
       "    </tr>\n",
       "    <tr>\n",
       "      <th>12350</th>\n",
       "      <td>2</td>\n",
       "      <td>17</td>\n",
       "      <td>334.40</td>\n",
       "    </tr>\n",
       "  </tbody>\n",
       "</table>\n",
       "</div>"
      ],
      "text/plain": [
       "            Start_Month  Frequency  TotalSales\n",
       "CustomerID                                    \n",
       "12346                 1          1    77183.60\n",
       "12347                12        182     4310.00\n",
       "12348                12         31     1797.24\n",
       "12349                11         73     1757.55\n",
       "12350                 2         17      334.40"
      ]
     },
     "execution_count": 18,
     "metadata": {},
     "output_type": "execute_result"
    }
   ],
   "source": [
    "customer.head()"
   ]
  },
  {
   "cell_type": "code",
   "execution_count": 19,
   "id": "b09848f9-374d-49f8-840e-f6be4851d76a",
   "metadata": {},
   "outputs": [],
   "source": [
    "months = ['Jan', 'Feb', 'March', 'Apr', 'May', 'Jun', 'Jul', 'Aug', 'Sep', 'Oct', 'Nov', 'Dec']\n",
    "\n",
    "Monthly_CLV = []\n",
    "\n",
    "for i in range(1, 13):\n",
    "    customer_m = customer[customer['Start_Month']==i]\n",
    "\n",
    "    Average_sales = round(np.mean(customer_m['TotalSales']), 2)\n",
    "\n",
    "    Purchase_freq = round(np.mean(customer_m['Frequency']), 2)\n",
    "\n",
    "    Retention_rate = customer_m[customer_m['Frequency'] > 1].shape[0]/customer_m.shape[0]\n",
    "\n",
    "    churn = round(1 - Retention_rate, 2)\n",
    "\n",
    "    CLV = round((Average_sales * Purchase_freq/churn) * Profit_margin, 2)\n",
    "\n",
    "    Monthly_CLV.append(CLV)"
   ]
  },
  {
   "cell_type": "code",
   "execution_count": 20,
   "id": "f14609c0-a63e-4cc8-98b4-cc3993cbfbd0",
   "metadata": {},
   "outputs": [
    {
     "data": {
      "text/html": [
       "<style type=\"text/css\">\n",
       "#T_1008a_row0_col1 {\n",
       "  background-color: #b3c3de;\n",
       "  color: #000000;\n",
       "}\n",
       "#T_1008a_row1_col1 {\n",
       "  background-color: #f6eff7;\n",
       "  color: #000000;\n",
       "}\n",
       "#T_1008a_row2_col1 {\n",
       "  background-color: #eee9f3;\n",
       "  color: #000000;\n",
       "}\n",
       "#T_1008a_row3_col1 {\n",
       "  background-color: #f5eef6;\n",
       "  color: #000000;\n",
       "}\n",
       "#T_1008a_row4_col1, #T_1008a_row7_col1, #T_1008a_row9_col1 {\n",
       "  background-color: #fcf4fa;\n",
       "  color: #000000;\n",
       "}\n",
       "#T_1008a_row5_col1 {\n",
       "  background-color: #f5eff6;\n",
       "  color: #000000;\n",
       "}\n",
       "#T_1008a_row6_col1 {\n",
       "  background-color: #fef6fb;\n",
       "  color: #000000;\n",
       "}\n",
       "#T_1008a_row8_col1 {\n",
       "  background-color: #faf3f9;\n",
       "  color: #000000;\n",
       "}\n",
       "#T_1008a_row10_col1 {\n",
       "  background-color: #fff7fb;\n",
       "  color: #000000;\n",
       "}\n",
       "#T_1008a_row11_col1 {\n",
       "  background-color: #023858;\n",
       "  color: #f1f1f1;\n",
       "}\n",
       "</style>\n",
       "<table id=\"T_1008a\">\n",
       "  <thead>\n",
       "    <tr>\n",
       "      <th class=\"blank level0\" >&nbsp;</th>\n",
       "      <th id=\"T_1008a_level0_col0\" class=\"col_heading level0 col0\" >Months</th>\n",
       "      <th id=\"T_1008a_level0_col1\" class=\"col_heading level0 col1\" >CLV</th>\n",
       "    </tr>\n",
       "  </thead>\n",
       "  <tbody>\n",
       "    <tr>\n",
       "      <th id=\"T_1008a_level0_row0\" class=\"row_heading level0 row0\" >0</th>\n",
       "      <td id=\"T_1008a_row0_col0\" class=\"data row0 col0\" >Jan</td>\n",
       "      <td id=\"T_1008a_row0_col1\" class=\"data row0 col1\" >1546537.090000</td>\n",
       "    </tr>\n",
       "    <tr>\n",
       "      <th id=\"T_1008a_level0_row1\" class=\"row_heading level0 row1\" >1</th>\n",
       "      <td id=\"T_1008a_row1_col0\" class=\"data row1 col0\" >Feb</td>\n",
       "      <td id=\"T_1008a_row1_col1\" class=\"data row1 col1\" >313073.920000</td>\n",
       "    </tr>\n",
       "    <tr>\n",
       "      <th id=\"T_1008a_level0_row2\" class=\"row_heading level0 row2\" >2</th>\n",
       "      <td id=\"T_1008a_row2_col0\" class=\"data row2 col0\" >March</td>\n",
       "      <td id=\"T_1008a_row2_col1\" class=\"data row2 col1\" >539933.180000</td>\n",
       "    </tr>\n",
       "    <tr>\n",
       "      <th id=\"T_1008a_level0_row3\" class=\"row_heading level0 row3\" >3</th>\n",
       "      <td id=\"T_1008a_row3_col0\" class=\"data row3 col0\" >Apr</td>\n",
       "      <td id=\"T_1008a_row3_col1\" class=\"data row3 col1\" >349213.360000</td>\n",
       "    </tr>\n",
       "    <tr>\n",
       "      <th id=\"T_1008a_level0_row4\" class=\"row_heading level0 row4\" >4</th>\n",
       "      <td id=\"T_1008a_row4_col0\" class=\"data row4 col0\" >May</td>\n",
       "      <td id=\"T_1008a_row4_col1\" class=\"data row4 col1\" >147597.490000</td>\n",
       "    </tr>\n",
       "    <tr>\n",
       "      <th id=\"T_1008a_level0_row5\" class=\"row_heading level0 row5\" >5</th>\n",
       "      <td id=\"T_1008a_row5_col0\" class=\"data row5 col0\" >Jun</td>\n",
       "      <td id=\"T_1008a_row5_col1\" class=\"data row5 col1\" >323795.770000</td>\n",
       "    </tr>\n",
       "    <tr>\n",
       "      <th id=\"T_1008a_level0_row6\" class=\"row_heading level0 row6\" >6</th>\n",
       "      <td id=\"T_1008a_row6_col0\" class=\"data row6 col0\" >Jul</td>\n",
       "      <td id=\"T_1008a_row6_col1\" class=\"data row6 col1\" >71760.420000</td>\n",
       "    </tr>\n",
       "    <tr>\n",
       "      <th id=\"T_1008a_level0_row7\" class=\"row_heading level0 row7\" >7</th>\n",
       "      <td id=\"T_1008a_row7_col0\" class=\"data row7 col0\" >Aug</td>\n",
       "      <td id=\"T_1008a_row7_col1\" class=\"data row7 col1\" >148834.420000</td>\n",
       "    </tr>\n",
       "    <tr>\n",
       "      <th id=\"T_1008a_level0_row8\" class=\"row_heading level0 row8\" >8</th>\n",
       "      <td id=\"T_1008a_row8_col0\" class=\"data row8 col0\" >Sep</td>\n",
       "      <td id=\"T_1008a_row8_col1\" class=\"data row8 col1\" >185155.700000</td>\n",
       "    </tr>\n",
       "    <tr>\n",
       "      <th id=\"T_1008a_level0_row9\" class=\"row_heading level0 row9\" >9</th>\n",
       "      <td id=\"T_1008a_row9_col0\" class=\"data row9 col0\" >Oct</td>\n",
       "      <td id=\"T_1008a_row9_col1\" class=\"data row9 col1\" >144042.950000</td>\n",
       "    </tr>\n",
       "    <tr>\n",
       "      <th id=\"T_1008a_level0_row10\" class=\"row_heading level0 row10\" >10</th>\n",
       "      <td id=\"T_1008a_row10_col0\" class=\"data row10 col0\" >Nov</td>\n",
       "      <td id=\"T_1008a_row10_col1\" class=\"data row10 col1\" >44869.790000</td>\n",
       "    </tr>\n",
       "    <tr>\n",
       "      <th id=\"T_1008a_level0_row11\" class=\"row_heading level0 row11\" >11</th>\n",
       "      <td id=\"T_1008a_row11_col0\" class=\"data row11 col0\" >Dec</td>\n",
       "      <td id=\"T_1008a_row11_col1\" class=\"data row11 col1\" >4507588.120000</td>\n",
       "    </tr>\n",
       "  </tbody>\n",
       "</table>\n"
      ],
      "text/plain": [
       "<pandas.io.formats.style.Styler at 0x1e458ac9dd0>"
      ]
     },
     "metadata": {},
     "output_type": "display_data"
    }
   ],
   "source": [
    "monthly_clv = pd.DataFrame(zip(months, Monthly_CLV), columns=['Months', 'CLV'])\n",
    "display(monthly_clv.style.background_gradient())"
   ]
  },
  {
   "cell_type": "markdown",
   "id": "e64d3a1b-eecc-4d16-ab90-75185246a752",
   "metadata": {},
   "source": [
    "Upon examining the results, we observe 12 distinct CLV values corresponding to each month from January to December. It is evident that customers acquired in different months have varying CLV values. This variation can be attributed to differences in acquisition campaigns and other factors that may influence customer behavior.\r\n",
    "\r\n",
    "Specifically, the CLV values for January and December are notably high. The data pertains to an online retailer that sells gifts to wholesalers and companies, and both Christmas and New Year occur during these months. This seasonal context explains the elevated CLV for customers who started their transactions in January and December.. "
   ]
  },
  {
   "cell_type": "markdown",
   "id": "36f2efd2-c892-4755-9267-35a410ecaf1b",
   "metadata": {},
   "source": [
    "### 2.3 BG/NBD Model (with Gamma-Gamma extension)\n",
    "\n",
    "BG/NBD refers to the Beta Geometric/Negative Binomial Distribution.\n",
    "\n",
    "This model is one of the most widely used probabilistic methods for predicting Customer Lifetime Value (CLV). The BG/NBD aims to forecast the future transactions of individual customers.\n",
    "\n",
    "This approach is then integrated with the Gamma-Gamma model, which incorporates the monetary value of customer transactions, ultimately allowing us to calculate the Customer Lifetime Value (CLV)."
   ]
  },
  {
   "cell_type": "markdown",
   "id": "bcf2cab6-573a-4a33-8d2d-a4daca08df70",
   "metadata": {},
   "source": [
    "The model essentially fits the distribution to historical data, learning the distribution parameters, which are then used to predict future customer transactions.\r\n",
    "\r\n",
    "We don’t need to handle this complex probabilistic modeling on our own. There is a Python package called **Lifetimes** that simplifies the process. This package is specifically designed to assist with Customer Lifetime Value calculations, customer churn predictions, and more. It includes all the key models and utility functions necessary for CLV calculations."
   ]
  },
  {
   "cell_type": "markdown",
   "id": "aa84f457-ee68-4374-89ec-8aa5f0d5113d",
   "metadata": {},
   "source": [
    "**Importing the lifetime package**"
   ]
  },
  {
   "cell_type": "code",
   "execution_count": 21,
   "id": "2f072485-147d-40e3-ba41-09b9aa6abe15",
   "metadata": {},
   "outputs": [],
   "source": [
    "import lifetimes"
   ]
  },
  {
   "cell_type": "markdown",
   "id": "9bef3bde-bede-4342-911e-020ed465fa69",
   "metadata": {},
   "source": [
    "First, we need to create a summary table from the transaction data, which is essentially an RFM table (Recency, Frequency, and Monetary value).\r\n",
    "\r\n",
    "To do this, we can utilize the **`summary_data_from_transactions_data`** function from the Lifetimes package. This function aggregates transaction-level data into customer-level insights and calculates the frequency, recency, T, and monetary value for each customer.\r\n",
    "\r\n",
    "- **Frequency**: The number of repeat purchases (i.e., more than one purchase).\r\n",
    "- **Recency**: The time elapsed between the first and last transaction.\r\n",
    "- **T**: The duration from the first purchase to the end of the transaction period.\r\n",
    "- **Monetary Value**: The average sales value for a given customer."
   ]
  },
  {
   "cell_type": "markdown",
   "id": "ee62bb86-f3e9-4af5-9a6f-a26623a46424",
   "metadata": {},
   "source": [
    "\r\n",
    "### **Key Difference**:\r\n",
    "- **Recency** measures **how recently** a customer has made a purchase, while **T** measures the **total time** the customer has been \"active\" or part of the dataset.\r\n",
    "- In other words, **Recency** is a subset of **T**. Recency focuses on the customer's purchasing activity, while T measures the duration from their first purchase to either the end of the observation period or the last recorded transaction date.\r\n",
    "\r\n",
    "### Example to Clarify\r\n",
    "\r\n",
    "Let's consider an example with a customer transaction history:\r\n",
    "\r\n",
    "| **Transaction Date** | **CustomerID** | **TotalSales** |\r\n",
    "|----------------------|----------------|----------------|\r\n",
    "| 2023-01-01           | 123            | 100            |\r\n",
    "| 2023-02-15           | 123            | 150            |\r\n",
    "| 2023-05-20           | 123            | 200            |\r\n",
    "\r\n",
    "- **Observation Period**: Let's say the observation period ends on **2023-12-31**.\r\n",
    "\r\n",
    "- **Recency**:\r\n",
    "  - The customer’s first purchase was on **2023-01-01**, and their **last purchase** was on **2023-05-20**.\r\n",
    "  - Thus, **Recency** = Time between first and last purchase = `2023-05-20 - 2023-01-01` = **139 days**.\r\n",
    "\r\n",
    "- **T (Customer Age)**:\r\n",
    "  - The time between the **first purchase** and the **end of the observation period** (2023-12-31).\r\n",
    "  - **T** = Time between first purchase and end of period = `2023-12-31 - 2023-## Additional Perspective\r\n",
    "- Recency gives an indication of whether the customer is still actively making purchases or if they have become inactive.\r\n",
    "- T provides an understanding of how long the customer has been tracked in the system,Recency Example: If a customer's first purchase was on January 1 and their most recent purchase was on September 1, the recency is the time between these td of the observation period."
   ]
  },
  {
   "cell_type": "markdown",
   "id": "c87d1fa4-0393-4dd8-b097-4e12939e9fe8",
   "metadata": {},
   "source": [
    "**Creating the summary data using summary_data_from_transactions_data**"
   ]
  },
  {
   "cell_type": "code",
   "execution_count": 22,
   "id": "20761578-f822-4ad5-afd8-b11a20ab45e6",
   "metadata": {},
   "outputs": [
    {
     "data": {
      "text/html": [
       "<div>\n",
       "<style scoped>\n",
       "    .dataframe tbody tr th:only-of-type {\n",
       "        vertical-align: middle;\n",
       "    }\n",
       "\n",
       "    .dataframe tbody tr th {\n",
       "        vertical-align: top;\n",
       "    }\n",
       "\n",
       "    .dataframe thead th {\n",
       "        text-align: right;\n",
       "    }\n",
       "</style>\n",
       "<table border=\"1\" class=\"dataframe\">\n",
       "  <thead>\n",
       "    <tr style=\"text-align: right;\">\n",
       "      <th></th>\n",
       "      <th>CustomerID</th>\n",
       "      <th>frequency</th>\n",
       "      <th>recency</th>\n",
       "      <th>T</th>\n",
       "      <th>monetary_value</th>\n",
       "    </tr>\n",
       "  </thead>\n",
       "  <tbody>\n",
       "    <tr>\n",
       "      <th>0</th>\n",
       "      <td>12346</td>\n",
       "      <td>0.0</td>\n",
       "      <td>0.0</td>\n",
       "      <td>325.0</td>\n",
       "      <td>0.000000</td>\n",
       "    </tr>\n",
       "    <tr>\n",
       "      <th>1</th>\n",
       "      <td>12347</td>\n",
       "      <td>6.0</td>\n",
       "      <td>365.0</td>\n",
       "      <td>367.0</td>\n",
       "      <td>599.701667</td>\n",
       "    </tr>\n",
       "    <tr>\n",
       "      <th>2</th>\n",
       "      <td>12348</td>\n",
       "      <td>3.0</td>\n",
       "      <td>283.0</td>\n",
       "      <td>358.0</td>\n",
       "      <td>301.480000</td>\n",
       "    </tr>\n",
       "    <tr>\n",
       "      <th>3</th>\n",
       "      <td>12349</td>\n",
       "      <td>0.0</td>\n",
       "      <td>0.0</td>\n",
       "      <td>18.0</td>\n",
       "      <td>0.000000</td>\n",
       "    </tr>\n",
       "    <tr>\n",
       "      <th>4</th>\n",
       "      <td>12350</td>\n",
       "      <td>0.0</td>\n",
       "      <td>0.0</td>\n",
       "      <td>310.0</td>\n",
       "      <td>0.000000</td>\n",
       "    </tr>\n",
       "  </tbody>\n",
       "</table>\n",
       "</div>"
      ],
      "text/plain": [
       "   CustomerID  frequency  recency      T  monetary_value\n",
       "0       12346        0.0      0.0  325.0        0.000000\n",
       "1       12347        6.0    365.0  367.0      599.701667\n",
       "2       12348        3.0    283.0  358.0      301.480000\n",
       "3       12349        0.0      0.0   18.0        0.000000\n",
       "4       12350        0.0      0.0  310.0        0.000000"
      ]
     },
     "execution_count": 22,
     "metadata": {},
     "output_type": "execute_result"
    }
   ],
   "source": [
    "summary = lifetimes.utils.summary_data_from_transaction_data(data_clv, 'CustomerID', 'InvoiceDate', 'TotalSales')\n",
    "summary = summary.reset_index()\n",
    "summary.head()"
   ]
  },
  {
   "cell_type": "code",
   "execution_count": 23,
   "id": "3fe83ad6-2e35-493b-9597-520bd3125107",
   "metadata": {},
   "outputs": [
    {
     "name": "stdout",
     "output_type": "stream",
     "text": [
      "0.0\n",
      "131.0\n"
     ]
    }
   ],
   "source": [
    "print(summary['frequency'].min())\n",
    "print(summary['frequency'].max())"
   ]
  },
  {
   "cell_type": "markdown",
   "id": "dded29d8-b398-4766-b5e0-4fac8b42776c",
   "metadata": {},
   "source": [
    "**Here, the value of 0 in frequency and recency means that these are one time buyers. Let's check how many such one time buyers are there in the data.**"
   ]
  },
  {
   "cell_type": "code",
   "execution_count": 24,
   "id": "891c1d01-8310-4dca-97f2-db3f02ebdf74",
   "metadata": {},
   "outputs": [
    {
     "name": "stdout",
     "output_type": "stream",
     "text": [
      "count    4338.000000\n",
      "mean        2.864223\n",
      "std         5.949000\n",
      "min         0.000000\n",
      "25%         0.000000\n",
      "50%         1.000000\n",
      "75%         3.000000\n",
      "max       131.000000\n",
      "Name: frequency, dtype: float64\n",
      "----------------------------------------------\n",
      "Percentage of customers purchase the item only once: 35.68%\n"
     ]
    },
    {
     "data": {
      "image/png": "[encoded data removed]",
      "text/plain": [
       "<Figure size 640x480 with 1 Axes>"
      ]
     },
     "metadata": {},
     "output_type": "display_data"
    }
   ],
   "source": [
    "# Create a distribution of frequency to understand the customer frequence level\n",
    "summary['frequency'].plot(kind='hist', bins=50)\n",
    "print(summary['frequency'].describe())\n",
    "print(\"----------------------------------------------\")\n",
    "one_time_buyers = round(sum(summary['frequency'] == 0) / float(len(summary))*(100),2)\n",
    "print(f\"Percentage of customers purchase the item only once: {one_time_buyers}%\")"
   ]
  },
  {
   "cell_type": "markdown",
   "id": "50843c9f-c44b-43c6-bc34-45f2ef558496",
   "metadata": {},
   "source": [
    "**Now, let's fit the BG/NBD model to our summary data.**\n",
    "\n",
    "BG/NBD model is available as BetaGeoFitter class in lifetimes package."
   ]
  },
  {
   "cell_type": "code",
   "execution_count": 25,
   "id": "632942ac-efa5-41c6-b901-54df53758055",
   "metadata": {},
   "outputs": [
    {
     "data": {
      "text/plain": [
       "<lifetimes.BetaGeoFitter: fitted with 4338 subjects, a: 0.00, alpha: 68.91, b: 6.75, r: 0.83>"
      ]
     },
     "execution_count": 25,
     "metadata": {},
     "output_type": "execute_result"
    }
   ],
   "source": [
    "# Fitting the BG/NBD model\n",
    "bgf = lifetimes.BetaGeoFitter(penalizer_coef=0.0)\n",
    "bgf.fit(summary['frequency'], summary['recency'], summary['T'])"
   ]
  },
  {
   "cell_type": "code",
   "execution_count": 26,
   "id": "80674045-237c-498b-8201-c3fa64f351ee",
   "metadata": {},
   "outputs": [
    {
     "data": {
      "text/html": [
       "<div>\n",
       "<style scoped>\n",
       "    .dataframe tbody tr th:only-of-type {\n",
       "        vertical-align: middle;\n",
       "    }\n",
       "\n",
       "    .dataframe tbody tr th {\n",
       "        vertical-align: top;\n",
       "    }\n",
       "\n",
       "    .dataframe thead th {\n",
       "        text-align: right;\n",
       "    }\n",
       "</style>\n",
       "<table border=\"1\" class=\"dataframe\">\n",
       "  <thead>\n",
       "    <tr style=\"text-align: right;\">\n",
       "      <th></th>\n",
       "      <th>coef</th>\n",
       "      <th>se(coef)</th>\n",
       "      <th>lower 95% bound</th>\n",
       "      <th>upper 95% bound</th>\n",
       "    </tr>\n",
       "  </thead>\n",
       "  <tbody>\n",
       "    <tr>\n",
       "      <th>r</th>\n",
       "      <td>0.826542</td>\n",
       "      <td>0.026785</td>\n",
       "      <td>0.774044</td>\n",
       "      <td>0.879040</td>\n",
       "    </tr>\n",
       "    <tr>\n",
       "      <th>alpha</th>\n",
       "      <td>68.905121</td>\n",
       "      <td>2.611786</td>\n",
       "      <td>63.786020</td>\n",
       "      <td>74.024221</td>\n",
       "    </tr>\n",
       "    <tr>\n",
       "      <th>a</th>\n",
       "      <td>0.003437</td>\n",
       "      <td>0.010339</td>\n",
       "      <td>-0.016828</td>\n",
       "      <td>0.023702</td>\n",
       "    </tr>\n",
       "    <tr>\n",
       "      <th>b</th>\n",
       "      <td>6.745116</td>\n",
       "      <td>22.414725</td>\n",
       "      <td>-37.187745</td>\n",
       "      <td>50.677978</td>\n",
       "    </tr>\n",
       "  </tbody>\n",
       "</table>\n",
       "</div>"
      ],
      "text/plain": [
       "            coef   se(coef)  lower 95% bound  upper 95% bound\n",
       "r       0.826542   0.026785         0.774044         0.879040\n",
       "alpha  68.905121   2.611786        63.786020        74.024221\n",
       "a       0.003437   0.010339        -0.016828         0.023702\n",
       "b       6.745116  22.414725       -37.187745        50.677978"
      ]
     },
     "execution_count": 26,
     "metadata": {},
     "output_type": "execute_result"
    }
   ],
   "source": [
    "#model summary\n",
    "bgf.summary"
   ]
  },
  {
   "cell_type": "markdown",
   "id": "335060f1-3623-4798-ac2f-4133a75ed2a5",
   "metadata": {},
   "source": [
    "The table above presents the estimated distribution parameter values derived from historical data. The model utilizes these parameters to predict future transactions and assess customer churn rates.\r\n",
    "\r\n",
    "If you want to determine whether a customer is currently active (or predict customer churn) based on historical data, the Lifetimes package offers a solution:\r\n",
    "\r\n",
    "- **`model.conditional_probability_alive()`**: This method calculates the probability that a customer with specific history (frequency, recency, T) is still active.\r\n",
    "- **`plot_probability_alive_matrix(model)`**: This function from the Lifetimes plotting module allows for a visual analysis of the relationship between recency, frequency, and the likelihood of a customer being active."
   ]
  },
  {
   "cell_type": "code",
   "execution_count": 27,
   "id": "2afecd29-ccba-4e7e-b15c-94c7deb0c87b",
   "metadata": {},
   "outputs": [
    {
     "data": {
      "text/html": [
       "<div>\n",
       "<style scoped>\n",
       "    .dataframe tbody tr th:only-of-type {\n",
       "        vertical-align: middle;\n",
       "    }\n",
       "\n",
       "    .dataframe tbody tr th {\n",
       "        vertical-align: top;\n",
       "    }\n",
       "\n",
       "    .dataframe thead th {\n",
       "        text-align: right;\n",
       "    }\n",
       "</style>\n",
       "<table border=\"1\" class=\"dataframe\">\n",
       "  <thead>\n",
       "    <tr style=\"text-align: right;\">\n",
       "      <th></th>\n",
       "      <th>CustomerID</th>\n",
       "      <th>frequency</th>\n",
       "      <th>recency</th>\n",
       "      <th>T</th>\n",
       "      <th>monetary_value</th>\n",
       "      <th>probability_alive</th>\n",
       "    </tr>\n",
       "  </thead>\n",
       "  <tbody>\n",
       "    <tr>\n",
       "      <th>0</th>\n",
       "      <td>12346</td>\n",
       "      <td>0.0</td>\n",
       "      <td>0.0</td>\n",
       "      <td>325.0</td>\n",
       "      <td>0.000000</td>\n",
       "      <td>1.000000</td>\n",
       "    </tr>\n",
       "    <tr>\n",
       "      <th>1</th>\n",
       "      <td>12347</td>\n",
       "      <td>6.0</td>\n",
       "      <td>365.0</td>\n",
       "      <td>367.0</td>\n",
       "      <td>599.701667</td>\n",
       "      <td>0.999698</td>\n",
       "    </tr>\n",
       "    <tr>\n",
       "      <th>2</th>\n",
       "      <td>12348</td>\n",
       "      <td>3.0</td>\n",
       "      <td>283.0</td>\n",
       "      <td>358.0</td>\n",
       "      <td>301.480000</td>\n",
       "      <td>0.999177</td>\n",
       "    </tr>\n",
       "    <tr>\n",
       "      <th>3</th>\n",
       "      <td>12349</td>\n",
       "      <td>0.0</td>\n",
       "      <td>0.0</td>\n",
       "      <td>18.0</td>\n",
       "      <td>0.000000</td>\n",
       "      <td>1.000000</td>\n",
       "    </tr>\n",
       "    <tr>\n",
       "      <th>4</th>\n",
       "      <td>12350</td>\n",
       "      <td>0.0</td>\n",
       "      <td>0.0</td>\n",
       "      <td>310.0</td>\n",
       "      <td>0.000000</td>\n",
       "      <td>1.000000</td>\n",
       "    </tr>\n",
       "    <tr>\n",
       "      <th>5</th>\n",
       "      <td>12352</td>\n",
       "      <td>6.0</td>\n",
       "      <td>260.0</td>\n",
       "      <td>296.0</td>\n",
       "      <td>368.256667</td>\n",
       "      <td>0.999406</td>\n",
       "    </tr>\n",
       "    <tr>\n",
       "      <th>6</th>\n",
       "      <td>12353</td>\n",
       "      <td>0.0</td>\n",
       "      <td>0.0</td>\n",
       "      <td>204.0</td>\n",
       "      <td>0.000000</td>\n",
       "      <td>1.000000</td>\n",
       "    </tr>\n",
       "    <tr>\n",
       "      <th>7</th>\n",
       "      <td>12354</td>\n",
       "      <td>0.0</td>\n",
       "      <td>0.0</td>\n",
       "      <td>232.0</td>\n",
       "      <td>0.000000</td>\n",
       "      <td>1.000000</td>\n",
       "    </tr>\n",
       "    <tr>\n",
       "      <th>8</th>\n",
       "      <td>12355</td>\n",
       "      <td>0.0</td>\n",
       "      <td>0.0</td>\n",
       "      <td>214.0</td>\n",
       "      <td>0.000000</td>\n",
       "      <td>1.000000</td>\n",
       "    </tr>\n",
       "    <tr>\n",
       "      <th>9</th>\n",
       "      <td>12356</td>\n",
       "      <td>2.0</td>\n",
       "      <td>303.0</td>\n",
       "      <td>325.0</td>\n",
       "      <td>269.905000</td>\n",
       "      <td>0.999478</td>\n",
       "    </tr>\n",
       "  </tbody>\n",
       "</table>\n",
       "</div>"
      ],
      "text/plain": [
       "   CustomerID  frequency  recency      T  monetary_value  probability_alive\n",
       "0       12346        0.0      0.0  325.0        0.000000           1.000000\n",
       "1       12347        6.0    365.0  367.0      599.701667           0.999698\n",
       "2       12348        3.0    283.0  358.0      301.480000           0.999177\n",
       "3       12349        0.0      0.0   18.0        0.000000           1.000000\n",
       "4       12350        0.0      0.0  310.0        0.000000           1.000000\n",
       "5       12352        6.0    260.0  296.0      368.256667           0.999406\n",
       "6       12353        0.0      0.0  204.0        0.000000           1.000000\n",
       "7       12354        0.0      0.0  232.0        0.000000           1.000000\n",
       "8       12355        0.0      0.0  214.0        0.000000           1.000000\n",
       "9       12356        2.0    303.0  325.0      269.905000           0.999478"
      ]
     },
     "execution_count": 27,
     "metadata": {},
     "output_type": "execute_result"
    }
   ],
   "source": [
    "# Compute the customer alive probability\n",
    "summary['probability_alive'] = bgf.conditional_probability_alive(summary['frequency'], summary['recency'], summary['T'])\n",
    "summary.head(10)"
   ]
  },
  {
   "cell_type": "markdown",
   "id": "a1600997-9a00-4fff-bb4f-7744663344ce",
   "metadata": {},
   "source": [
    "- **Customer 12346**:\n",
    "  - This customer has `0.0` frequency, `0.0` recency, and `325` days as the customer age (`T`).\n",
    "  - This means that they made only a single purchase at the very beginning of the observation period and have not made any repeat purchases.\n",
    "  - Their probability of being alive is `1.000000`, meaning the model believes that since the customer made no repeat purchases, they are still \"alive.\"\n",
    "\n",
    "- **Customer 12347**:\n",
    "  - This customer has `6.0` frequency, `365.0` recency, and `367` days as customer age (`T`).\n",
    "  - This means they made 6 repeat purchases, and their last purchase was very close to the end of the observation period.\n",
    "  - The probability of being alive is `0.999698`, which is very high, indicating that this customer is highly likely to make future purchases.\n",
    "\n",
    "- **Customer 12348**:\n",
    "  - This customer has `3.0` frequency, `283.0` recency, and `358` days as customer age (`T`).\n",
    "  - This means they made 3 repeat purchases, and the last purchase was made approximately 75 days before the end of the observation period.\n",
    "  - The probability of being alive is `0.999177`, which is still very high.\n",
    "\n",
    "- **Customer 12349**:\n",
    "  - This customer has `0.0` frequency, `0.0` recency, and `18` days as customer age (`T`).\n",
    "  - They made only a single purchase at the very beginning of their customer age, but since `T` is low, the model assumes they are still active.\n",
    "  - Probability of being alive is `1.000000`.\n",
    "\n",
    "- **Customer 12350**:\n",
    "  - This customer has `0.0` frequency, `0.0` recency, and `310` days as customer age (`T`).\n",
    "  - Similar to customer 12346, this customer made no repeat purchases, but due to the long period (`T`), the model still assumes they are alive with a probability of `1.000000`.\n",
    "\n",
    "**Insights**\n",
    "- **High `probability_alive` values** suggest customers are likely to continue making purchases, indicating a strong customer relationship or recent purchase activity.\n",
    "- **Low `probability_alive` values** suggest that customers are likely inactive or have churned, and the company may consider re-engagement strategies.\n",
    "\n",
    "\n",
    "- If `monetary_value` is `0.0`, it means that this customer's purchase value was either not captured correctly or was zero due to some issue in the dataset.\n",
    "   - This may occur because:\n",
    "     - There were data entry issues.\n",
    "     - There were returns or cancellations that resulted in a net zero sales value.\n",
    "       \n",
    "\n",
    "Because of these factors, the BG/NBD model outputs a `probability_alive` of `1.0` since the customer hasn't shown any signs of churn based on the data provided.\n",
    "\n"
   ]
  },
  {
   "cell_type": "markdown",
   "id": "17ffb2d2-793a-4f05-90f7-98d3b654baa1",
   "metadata": {},
   "source": [
    "### **Next thing we can do with this trained model is to predict the likely future transactions for each customer.**\n",
    "\n",
    "model.conditional_expected_number_of_purchases_up_to_time(): Calculate the expected number of repeat purchases up to time `t` for a randomly chosen indvidual from a population (or the whole population), given they have purchase history(frequency, recency, T)."
   ]
  },
  {
   "cell_type": "code",
   "execution_count": 29,
   "id": "a5f76436-936b-41a3-94a7-c3c9602740d1",
   "metadata": {},
   "outputs": [
    {
     "data": {
      "text/html": [
       "<div>\n",
       "<style scoped>\n",
       "    .dataframe tbody tr th:only-of-type {\n",
       "        vertical-align: middle;\n",
       "    }\n",
       "\n",
       "    .dataframe tbody tr th {\n",
       "        vertical-align: top;\n",
       "    }\n",
       "\n",
       "    .dataframe thead th {\n",
       "        text-align: right;\n",
       "    }\n",
       "</style>\n",
       "<table border=\"1\" class=\"dataframe\">\n",
       "  <thead>\n",
       "    <tr style=\"text-align: right;\">\n",
       "      <th></th>\n",
       "      <th>index</th>\n",
       "      <th>CustomerID</th>\n",
       "      <th>frequency</th>\n",
       "      <th>recency</th>\n",
       "      <th>T</th>\n",
       "      <th>monetary_value</th>\n",
       "      <th>probability_alive</th>\n",
       "      <th>pred_num_txn</th>\n",
       "    </tr>\n",
       "  </thead>\n",
       "  <tbody>\n",
       "    <tr>\n",
       "      <th>0</th>\n",
       "      <td>1879</td>\n",
       "      <td>14911</td>\n",
       "      <td>131.0</td>\n",
       "      <td>372.0</td>\n",
       "      <td>373.0</td>\n",
       "      <td>1093.661679</td>\n",
       "      <td>0.999966</td>\n",
       "      <td>8.95</td>\n",
       "    </tr>\n",
       "    <tr>\n",
       "      <th>1</th>\n",
       "      <td>326</td>\n",
       "      <td>12748</td>\n",
       "      <td>112.0</td>\n",
       "      <td>373.0</td>\n",
       "      <td>373.0</td>\n",
       "      <td>301.024821</td>\n",
       "      <td>0.999971</td>\n",
       "      <td>7.66</td>\n",
       "    </tr>\n",
       "    <tr>\n",
       "      <th>2</th>\n",
       "      <td>4010</td>\n",
       "      <td>17841</td>\n",
       "      <td>111.0</td>\n",
       "      <td>372.0</td>\n",
       "      <td>373.0</td>\n",
       "      <td>364.452162</td>\n",
       "      <td>0.999962</td>\n",
       "      <td>7.59</td>\n",
       "    </tr>\n",
       "    <tr>\n",
       "      <th>3</th>\n",
       "      <td>2176</td>\n",
       "      <td>15311</td>\n",
       "      <td>89.0</td>\n",
       "      <td>373.0</td>\n",
       "      <td>373.0</td>\n",
       "      <td>677.729438</td>\n",
       "      <td>0.999964</td>\n",
       "      <td>6.10</td>\n",
       "    </tr>\n",
       "    <tr>\n",
       "      <th>4</th>\n",
       "      <td>1661</td>\n",
       "      <td>14606</td>\n",
       "      <td>88.0</td>\n",
       "      <td>372.0</td>\n",
       "      <td>373.0</td>\n",
       "      <td>135.890114</td>\n",
       "      <td>0.999955</td>\n",
       "      <td>6.03</td>\n",
       "    </tr>\n",
       "    <tr>\n",
       "      <th>5</th>\n",
       "      <td>481</td>\n",
       "      <td>12971</td>\n",
       "      <td>70.0</td>\n",
       "      <td>369.0</td>\n",
       "      <td>372.0</td>\n",
       "      <td>159.211286</td>\n",
       "      <td>0.999926</td>\n",
       "      <td>4.82</td>\n",
       "    </tr>\n",
       "    <tr>\n",
       "      <th>6</th>\n",
       "      <td>562</td>\n",
       "      <td>13089</td>\n",
       "      <td>65.0</td>\n",
       "      <td>367.0</td>\n",
       "      <td>369.0</td>\n",
       "      <td>893.714308</td>\n",
       "      <td>0.999934</td>\n",
       "      <td>4.51</td>\n",
       "    </tr>\n",
       "    <tr>\n",
       "      <th>7</th>\n",
       "      <td>1602</td>\n",
       "      <td>14527</td>\n",
       "      <td>53.0</td>\n",
       "      <td>367.0</td>\n",
       "      <td>369.0</td>\n",
       "      <td>155.016415</td>\n",
       "      <td>0.999925</td>\n",
       "      <td>3.69</td>\n",
       "    </tr>\n",
       "    <tr>\n",
       "      <th>8</th>\n",
       "      <td>1069</td>\n",
       "      <td>13798</td>\n",
       "      <td>52.0</td>\n",
       "      <td>371.0</td>\n",
       "      <td>372.0</td>\n",
       "      <td>706.650962</td>\n",
       "      <td>0.999933</td>\n",
       "      <td>3.59</td>\n",
       "    </tr>\n",
       "    <tr>\n",
       "      <th>9</th>\n",
       "      <td>2990</td>\n",
       "      <td>16422</td>\n",
       "      <td>47.0</td>\n",
       "      <td>352.0</td>\n",
       "      <td>369.0</td>\n",
       "      <td>702.472340</td>\n",
       "      <td>0.999567</td>\n",
       "      <td>3.27</td>\n",
       "    </tr>\n",
       "  </tbody>\n",
       "</table>\n",
       "</div>"
      ],
      "text/plain": [
       "   index  CustomerID  frequency  recency      T  monetary_value  \\\n",
       "0   1879       14911      131.0    372.0  373.0     1093.661679   \n",
       "1    326       12748      112.0    373.0  373.0      301.024821   \n",
       "2   4010       17841      111.0    372.0  373.0      364.452162   \n",
       "3   2176       15311       89.0    373.0  373.0      677.729438   \n",
       "4   1661       14606       88.0    372.0  373.0      135.890114   \n",
       "5    481       12971       70.0    369.0  372.0      159.211286   \n",
       "6    562       13089       65.0    367.0  369.0      893.714308   \n",
       "7   1602       14527       53.0    367.0  369.0      155.016415   \n",
       "8   1069       13798       52.0    371.0  372.0      706.650962   \n",
       "9   2990       16422       47.0    352.0  369.0      702.472340   \n",
       "\n",
       "   probability_alive  pred_num_txn  \n",
       "0           0.999966          8.95  \n",
       "1           0.999971          7.66  \n",
       "2           0.999962          7.59  \n",
       "3           0.999964          6.10  \n",
       "4           0.999955          6.03  \n",
       "5           0.999926          4.82  \n",
       "6           0.999934          4.51  \n",
       "7           0.999925          3.69  \n",
       "8           0.999933          3.59  \n",
       "9           0.999567          3.27  "
      ]
     },
     "execution_count": 29,
     "metadata": {},
     "output_type": "execute_result"
    }
   ],
   "source": [
    "# Predict future transactions for the next 30 days based on the historical data\n",
    "t = 30 #10\n",
    "summary['pred_num_txn'] = round(bgf.conditional_expected_number_of_purchases_up_to_time(t, summary['frequency'], summary['recency'], summary['T']), 2)\n",
    "summary.sort_values(by='pred_num_txn', ascending=False).head(10).reset_index()"
   ]
  },
  {
   "cell_type": "markdown",
   "id": "c2a15f28-545e-436a-a38c-6bfa9351ccb5",
   "metadata": {},
   "source": [
    "We now have a prediction for the number of purchases a customer will make in the next 10 days.\r\n",
    "\r\n",
    "To verify whether the predicted number is reasonable, we can perform a quick check:\r\n",
    "\r\n",
    "For Customer ID 14911, over 372 days, they made 131 purchases. This means they make approximately 131/372 = 0.352 purchases per day. Therefore, for 10 days, the expected number of purchases would be 3.52.\r\n",
    "\r\n",
    "Our predicted result is 8.95, which is fairly close to the manual probability estimate we calculated earlier. The discrepancy arises from various assumptions about customers, such as dropout rates and modeling customer lifetime as an exponential distribution.\r\n",
    "\r\n",
    "Now that we have predicted the expected future transactions, we need to estimate the future monetary value of each transaction."
   ]
  },
  {
   "cell_type": "markdown",
   "id": "4f0e3288-4b1a-48f1-8573-c283381424be",
   "metadata": {},
   "source": [
    "As mentioned earlier, the BG/NBD model is limited to predicting a customer’s future transactions and churn rate. To incorporate the monetary aspect of the problem, we need to model the transaction value using the Gamma-Gamma Model.\n",
    "\n",
    "### 2.4 **Gamma-Gamma Model**\r\n",
    "\r\n",
    "The Gamma-Gamma model is employed in Customer Lifetime Value (CLV) prediction to estimate the monetary value of customer transactions over time. It operates under several important assumptions that simplify the modeling process, though these assumptions must be understood clearly.\r\n",
    "\r\n",
    "1. The value of a customer’s transaction fluctuates randomly around their average transaction value.\r\n",
    "2. While average transaction values differ between customers, they remain consistent over time for any individual customer.\r\n",
    "3. The distribution of average transaction values across customers is independent of their transaction frequency.\n",
    "\n",
    "Here’s a detailed explanation of each of these assumptions, with examples:"
   ]
  },
  {
   "cell_type": "markdown",
   "id": "37ca3c2b-6901-4970-a2a5-dfcf5634eeac",
   "metadata": {},
   "source": [
    "#### 1. **The value of a customer’s transaction fluctuates randomly around their average transaction value.**\n",
    "\n",
    "#### Explanation:\n",
    "- This assumption means that while a customer may not spend exactly the same amount on every transaction, their spending is **centered around an average value**. The specific amount spent on any single transaction fluctuates, but these fluctuations are assumed to be random and not systematically biased.\n",
    "- For instance, if a customer usually spends **USD100 per transaction**, the amounts they actually spend may vary from, say, **USD90, USD110, USD95**, etc. The Gamma-Gamma model assumes that these values fluctuate around the customer's **average transaction value** (in this case, USD100).\n",
    "\n",
    "#### Example:\n",
    "- **Customer A** typically spends an average of **USD50** on purchases. Sometimes they may spend **USD45**, and other times they may spend **USD55**. Over time, these variations average out to about $50.\n",
    "- **Customer B** typically spends an average of **USD200**. While their transaction amounts might fluctuate between **USD190 and USD210**, they also cluster around their personal average value of USD200.\n",
    "  \n",
    "This assumption essentially models the **randomness** of spending behavior, meaning we do not expect customers to spend exactly the same amount in every transaction, but we expect the amounts to be reasonably close to their own average.\n",
    "\n",
    "---\n",
    "\n",
    "#### 2. **While average transaction values differ between customers, they remain consistent over time for any individual customer.**\n",
    "\n",
    "#### Explanation:\n",
    "- This assumption suggests that while customers have different **average spending behaviors**, each individual customer’s **average spending remains stable** over time. The model assumes that if a customer spends an average of USD100 per transaction today, they will continue to spend that same average amount over their lifetime.\n",
    "  \n",
    "- The model allows for significant **variability between customers**, but not within a single customer's behavior over time. For example, **Customer A** might have a lower average spending amount (e.g., USD50), while **Customer B** might have a higher average (e.g., USD200), but each customer’s average transaction value is assumed to remain consistent.\n",
    "\n",
    "#### Example:\n",
    "- **Customer A**: Has a stable pattern of spending around **USD50 per transaction**. Even if they make purchases a year from now, their average transaction value is expected to remain near $50.\n",
    "  \n",
    "- **Customer B**: Has an average transaction value of **USD200**. Whether they shop today or six months later, their average transaction value will likely remain at USD200.\n",
    "\n",
    "This assumption simplifies the modeling by making it easier to estimate a customer’s **lifetime value** because the average spending behavior is treated as a stable characteristic over time.\n",
    "\n",
    "---\n",
    "\n",
    "#### 3. **The distribution of average transaction values across customers is independent of their transaction frequency.**\n",
    "\n",
    "#### Explanation:\n",
    "- This assumption implies that the **frequency of transactions** (how often a customer buys) and the **monetary value of each transaction** are not related to each other. In other words, a customer's transaction frequency does not give any information about their **average transaction value**.\n",
    "\n",
    "- The Gamma-Gamma model assumes that just because one customer shops more frequently, it doesn’t mean they will spend more or less per transaction compared to someone who shops less often. Therefore, the two processes (how often a customer buys and how much they spend) are **independent** of each other.\n",
    "\n",
    "#### Example:\n",
    "- **Customer A** might buy frequently, say **10 times a month**, but their **average transaction value** may be only **$20**.\n",
    "- **Customer B** might buy less frequently, say only **twice a month**, but they spend **USD200** per transaction.\n",
    "\n",
    "In this example, while **Customer A** buys more often, they spend less on each purchase. **Customer B** spends more but buys less frequently. The **transaction frequency** (how often they buy) does not influence their **average transaction value** (how much they spend).\n",
    "\n",
    "The model assumes that customers who buy often may still have low or high average transaction values, just like customers who buy rarely may have any average transaction value. The two variables are **independent**.\n",
    "\n",
    "---\n",
    "\n",
    "#### Summary of Assumptions with Examples:\n",
    "\n",
    "1. **Transaction values fluctuate randomly around a customer's average**: A customer who usually spends USD100 may spend USD95 today and USD105 tomorrow, but it will balance out around their personal average.\n",
    "  \n",
    "2. **Average transaction value varies across customers but is stable for each customer**: Each customer has their own average spending (e.g., Customer A spends USD50, Customer B spends USD200), and this amount remains consistent over time.\n",
    "  \n",
    "3. **Transaction frequency is independent of average transaction value**: How often a customer buys does not influence how much they spend per transaction. Frequent buyers may spend more or less per purchase, and infrequent buyers could also spend more or less per transaction, independently of their purchase frequency.\n",
    "\n",
    "These assumptions make it easier to model CLV, as the Gamma-Gamma model focuses on the stability of spending behavior over time for each customer and treats transaction frequency separately from transaction value."
   ]
  },
  {
   "cell_type": "markdown",
   "id": "af95db8e-b532-4917-9348-327a6b7c7923",
   "metadata": {},
   "source": [
    "As a first step before fitting the model to the data, we have to check whether the assumptions made by the model holds good for the data. Only if it satisfies, we have proceed further.\n",
    "\n",
    "Out of the three, the final assumption can be validated. What it means is that, there is no relationship between frequency and monetary value of transactions. This can be easily validated using Pearson correlation.\r\n",
    "\r\n",
    "NOTE: We are considering only customers who made repeat purchases with the business i.e., frequency > 0. Because, if frequency is 0, it means that they are one time customer and are considered already dead."
   ]
  },
  {
   "cell_type": "code",
   "execution_count": 30,
   "id": "93243fb9-a9e5-4b44-8883-46d93bc9962c",
   "metadata": {},
   "outputs": [
    {
     "name": "stdout",
     "output_type": "stream",
     "text": [
      "(2790, 7)\n"
     ]
    },
    {
     "data": {
      "text/html": [
       "<div>\n",
       "<style scoped>\n",
       "    .dataframe tbody tr th:only-of-type {\n",
       "        vertical-align: middle;\n",
       "    }\n",
       "\n",
       "    .dataframe tbody tr th {\n",
       "        vertical-align: top;\n",
       "    }\n",
       "\n",
       "    .dataframe thead th {\n",
       "        text-align: right;\n",
       "    }\n",
       "</style>\n",
       "<table border=\"1\" class=\"dataframe\">\n",
       "  <thead>\n",
       "    <tr style=\"text-align: right;\">\n",
       "      <th></th>\n",
       "      <th>CustomerID</th>\n",
       "      <th>frequency</th>\n",
       "      <th>recency</th>\n",
       "      <th>T</th>\n",
       "      <th>monetary_value</th>\n",
       "      <th>probability_alive</th>\n",
       "      <th>pred_num_txn</th>\n",
       "    </tr>\n",
       "  </thead>\n",
       "  <tbody>\n",
       "    <tr>\n",
       "      <th>1</th>\n",
       "      <td>12347</td>\n",
       "      <td>6.0</td>\n",
       "      <td>365.0</td>\n",
       "      <td>367.0</td>\n",
       "      <td>599.701667</td>\n",
       "      <td>0.999698</td>\n",
       "      <td>0.47</td>\n",
       "    </tr>\n",
       "    <tr>\n",
       "      <th>2</th>\n",
       "      <td>12348</td>\n",
       "      <td>3.0</td>\n",
       "      <td>283.0</td>\n",
       "      <td>358.0</td>\n",
       "      <td>301.480000</td>\n",
       "      <td>0.999177</td>\n",
       "      <td>0.27</td>\n",
       "    </tr>\n",
       "    <tr>\n",
       "      <th>5</th>\n",
       "      <td>12352</td>\n",
       "      <td>6.0</td>\n",
       "      <td>260.0</td>\n",
       "      <td>296.0</td>\n",
       "      <td>368.256667</td>\n",
       "      <td>0.999406</td>\n",
       "      <td>0.56</td>\n",
       "    </tr>\n",
       "    <tr>\n",
       "      <th>9</th>\n",
       "      <td>12356</td>\n",
       "      <td>2.0</td>\n",
       "      <td>303.0</td>\n",
       "      <td>325.0</td>\n",
       "      <td>269.905000</td>\n",
       "      <td>0.999478</td>\n",
       "      <td>0.22</td>\n",
       "    </tr>\n",
       "    <tr>\n",
       "      <th>11</th>\n",
       "      <td>12358</td>\n",
       "      <td>1.0</td>\n",
       "      <td>149.0</td>\n",
       "      <td>150.0</td>\n",
       "      <td>683.200000</td>\n",
       "      <td>0.999486</td>\n",
       "      <td>0.25</td>\n",
       "    </tr>\n",
       "  </tbody>\n",
       "</table>\n",
       "</div>"
      ],
      "text/plain": [
       "    CustomerID  frequency  recency      T  monetary_value  probability_alive  \\\n",
       "1        12347        6.0    365.0  367.0      599.701667           0.999698   \n",
       "2        12348        3.0    283.0  358.0      301.480000           0.999177   \n",
       "5        12352        6.0    260.0  296.0      368.256667           0.999406   \n",
       "9        12356        2.0    303.0  325.0      269.905000           0.999478   \n",
       "11       12358        1.0    149.0  150.0      683.200000           0.999486   \n",
       "\n",
       "    pred_num_txn  \n",
       "1           0.47  \n",
       "2           0.27  \n",
       "5           0.56  \n",
       "9           0.22  \n",
       "11          0.25  "
      ]
     },
     "execution_count": 30,
     "metadata": {},
     "output_type": "execute_result"
    }
   ],
   "source": [
    "# Checking the relationship between frequency and monetary_value\n",
    "return_customers_summary = summary[summary['frequency'] > 0]\n",
    "print(return_customers_summary.shape)\n",
    "return_customers_summary.head()"
   ]
  },
  {
   "cell_type": "code",
   "execution_count": 31,
   "id": "7f4fdeed-a3bd-429d-b1b5-fcd63d8cde6b",
   "metadata": {},
   "outputs": [
    {
     "data": {
      "text/html": [
       "<div>\n",
       "<style scoped>\n",
       "    .dataframe tbody tr th:only-of-type {\n",
       "        vertical-align: middle;\n",
       "    }\n",
       "\n",
       "    .dataframe tbody tr th {\n",
       "        vertical-align: top;\n",
       "    }\n",
       "\n",
       "    .dataframe thead th {\n",
       "        text-align: right;\n",
       "    }\n",
       "</style>\n",
       "<table border=\"1\" class=\"dataframe\">\n",
       "  <thead>\n",
       "    <tr style=\"text-align: right;\">\n",
       "      <th></th>\n",
       "      <th>frequency</th>\n",
       "      <th>monetary_value</th>\n",
       "    </tr>\n",
       "  </thead>\n",
       "  <tbody>\n",
       "    <tr>\n",
       "      <th>frequency</th>\n",
       "      <td>1.000000</td>\n",
       "      <td>0.015906</td>\n",
       "    </tr>\n",
       "    <tr>\n",
       "      <th>monetary_value</th>\n",
       "      <td>0.015906</td>\n",
       "      <td>1.000000</td>\n",
       "    </tr>\n",
       "  </tbody>\n",
       "</table>\n",
       "</div>"
      ],
      "text/plain": [
       "                frequency  monetary_value\n",
       "frequency        1.000000        0.015906\n",
       "monetary_value   0.015906        1.000000"
      ]
     },
     "execution_count": 31,
     "metadata": {},
     "output_type": "execute_result"
    }
   ],
   "source": [
    "# Checking the relationship between frequency and monetary value\n",
    "return_customers_summary[['frequency', 'monetary_value']].corr()"
   ]
  },
  {
   "cell_type": "markdown",
   "id": "1540b5d5-6a8a-4de3-b9de-52974d434a08",
   "metadata": {},
   "source": [
    "The correlation appears to be very weak. Therefore, we can conclude that the assumption holds, and the model can be applied to our data."
   ]
  },
  {
   "cell_type": "markdown",
   "id": "80d165a1-8445-43ae-9122-a6e2213abf35",
   "metadata": {},
   "source": [
    "**Modelling the monetary value using Gamma-Gamma Model**"
   ]
  },
  {
   "cell_type": "code",
   "execution_count": 32,
   "id": "e47e8537-793f-4c56-892e-d11395d5e64f",
   "metadata": {},
   "outputs": [
    {
     "data": {
      "text/plain": [
       "<lifetimes.GammaGammaFitter: fitted with 2790 subjects, p: 11.13, q: 0.84, v: 11.29>"
      ]
     },
     "execution_count": 32,
     "metadata": {},
     "output_type": "execute_result"
    }
   ],
   "source": [
    "ggf = lifetimes.GammaGammaFitter(penalizer_coef=0.001)\n",
    "ggf.fit(return_customers_summary['frequency'],\n",
    "        return_customers_summary['monetary_value'])"
   ]
  },
  {
   "cell_type": "code",
   "execution_count": 33,
   "id": "ef7cdacc-890f-4526-aa5b-d59e8289d9d8",
   "metadata": {},
   "outputs": [
    {
     "data": {
      "text/html": [
       "<div>\n",
       "<style scoped>\n",
       "    .dataframe tbody tr th:only-of-type {\n",
       "        vertical-align: middle;\n",
       "    }\n",
       "\n",
       "    .dataframe tbody tr th {\n",
       "        vertical-align: top;\n",
       "    }\n",
       "\n",
       "    .dataframe thead th {\n",
       "        text-align: right;\n",
       "    }\n",
       "</style>\n",
       "<table border=\"1\" class=\"dataframe\">\n",
       "  <thead>\n",
       "    <tr style=\"text-align: right;\">\n",
       "      <th></th>\n",
       "      <th>coef</th>\n",
       "      <th>se(coef)</th>\n",
       "      <th>lower 95% bound</th>\n",
       "      <th>upper 95% bound</th>\n",
       "    </tr>\n",
       "  </thead>\n",
       "  <tbody>\n",
       "    <tr>\n",
       "      <th>p</th>\n",
       "      <td>11.125568</td>\n",
       "      <td>0.269274</td>\n",
       "      <td>10.597792</td>\n",
       "      <td>11.653344</td>\n",
       "    </tr>\n",
       "    <tr>\n",
       "      <th>q</th>\n",
       "      <td>0.838782</td>\n",
       "      <td>0.019731</td>\n",
       "      <td>0.800110</td>\n",
       "      <td>0.877455</td>\n",
       "    </tr>\n",
       "    <tr>\n",
       "      <th>v</th>\n",
       "      <td>11.292978</td>\n",
       "      <td>0.281539</td>\n",
       "      <td>10.741162</td>\n",
       "      <td>11.844795</td>\n",
       "    </tr>\n",
       "  </tbody>\n",
       "</table>\n",
       "</div>"
      ],
      "text/plain": [
       "        coef  se(coef)  lower 95% bound  upper 95% bound\n",
       "p  11.125568  0.269274        10.597792        11.653344\n",
       "q   0.838782  0.019731         0.800110         0.877455\n",
       "v  11.292978  0.281539        10.741162        11.844795"
      ]
     },
     "execution_count": 33,
     "metadata": {},
     "output_type": "execute_result"
    }
   ],
   "source": [
    "# summary of the fitted parameters\n",
    "ggf.summary"
   ]
  },
  {
   "cell_type": "markdown",
   "id": "dca99c01-92d3-4b1c-8ad0-b18e6eace8ff",
   "metadata": {},
   "source": [
    "Next, we can use the model to estimate the expected average profit per transaction and predict the Customer Lifetime Value.\n",
    "\n",
    "- model.conditional_expected_average_profit(): This model computes the conditional expectation of the average profit per transaction for a group of one or more customers.\n"
   ]
  },
  {
   "cell_type": "code",
   "execution_count": 34,
   "id": "b3191a03-4060-46db-a594-2608cc46cb00",
   "metadata": {},
   "outputs": [
    {
     "data": {
      "text/html": [
       "<div>\n",
       "<style scoped>\n",
       "    .dataframe tbody tr th:only-of-type {\n",
       "        vertical-align: middle;\n",
       "    }\n",
       "\n",
       "    .dataframe tbody tr th {\n",
       "        vertical-align: top;\n",
       "    }\n",
       "\n",
       "    .dataframe thead th {\n",
       "        text-align: right;\n",
       "    }\n",
       "</style>\n",
       "<table border=\"1\" class=\"dataframe\">\n",
       "  <thead>\n",
       "    <tr style=\"text-align: right;\">\n",
       "      <th></th>\n",
       "      <th>CustomerID</th>\n",
       "      <th>frequency</th>\n",
       "      <th>recency</th>\n",
       "      <th>T</th>\n",
       "      <th>monetary_value</th>\n",
       "      <th>probability_alive</th>\n",
       "      <th>pred_num_txn</th>\n",
       "    </tr>\n",
       "  </thead>\n",
       "  <tbody>\n",
       "    <tr>\n",
       "      <th>0</th>\n",
       "      <td>12346</td>\n",
       "      <td>0.0</td>\n",
       "      <td>0.0</td>\n",
       "      <td>325.0</td>\n",
       "      <td>0.000000</td>\n",
       "      <td>1.000000</td>\n",
       "      <td>0.06</td>\n",
       "    </tr>\n",
       "    <tr>\n",
       "      <th>1</th>\n",
       "      <td>12347</td>\n",
       "      <td>6.0</td>\n",
       "      <td>365.0</td>\n",
       "      <td>367.0</td>\n",
       "      <td>599.701667</td>\n",
       "      <td>0.999698</td>\n",
       "      <td>0.47</td>\n",
       "    </tr>\n",
       "    <tr>\n",
       "      <th>2</th>\n",
       "      <td>12348</td>\n",
       "      <td>3.0</td>\n",
       "      <td>283.0</td>\n",
       "      <td>358.0</td>\n",
       "      <td>301.480000</td>\n",
       "      <td>0.999177</td>\n",
       "      <td>0.27</td>\n",
       "    </tr>\n",
       "    <tr>\n",
       "      <th>3</th>\n",
       "      <td>12349</td>\n",
       "      <td>0.0</td>\n",
       "      <td>0.0</td>\n",
       "      <td>18.0</td>\n",
       "      <td>0.000000</td>\n",
       "      <td>1.000000</td>\n",
       "      <td>0.29</td>\n",
       "    </tr>\n",
       "    <tr>\n",
       "      <th>4</th>\n",
       "      <td>12350</td>\n",
       "      <td>0.0</td>\n",
       "      <td>0.0</td>\n",
       "      <td>310.0</td>\n",
       "      <td>0.000000</td>\n",
       "      <td>1.000000</td>\n",
       "      <td>0.07</td>\n",
       "    </tr>\n",
       "  </tbody>\n",
       "</table>\n",
       "</div>"
      ],
      "text/plain": [
       "   CustomerID  frequency  recency      T  monetary_value  probability_alive  \\\n",
       "0       12346        0.0      0.0  325.0        0.000000           1.000000   \n",
       "1       12347        6.0    365.0  367.0      599.701667           0.999698   \n",
       "2       12348        3.0    283.0  358.0      301.480000           0.999177   \n",
       "3       12349        0.0      0.0   18.0        0.000000           1.000000   \n",
       "4       12350        0.0      0.0  310.0        0.000000           1.000000   \n",
       "\n",
       "   pred_num_txn  \n",
       "0          0.06  \n",
       "1          0.47  \n",
       "2          0.27  \n",
       "3          0.29  \n",
       "4          0.07  "
      ]
     },
     "execution_count": 34,
     "metadata": {},
     "output_type": "execute_result"
    }
   ],
   "source": [
    "# Calculating the conditional expected average profit for each customer per transaction\n",
    "summary.head()\n"
   ]
  },
  {
   "cell_type": "code",
   "execution_count": 35,
   "id": "d0e35526-fb69-40c3-a2ec-3aa4a4ad3080",
   "metadata": {},
   "outputs": [
    {
     "data": {
      "text/html": [
       "<div>\n",
       "<style scoped>\n",
       "    .dataframe tbody tr th:only-of-type {\n",
       "        vertical-align: middle;\n",
       "    }\n",
       "\n",
       "    .dataframe tbody tr th {\n",
       "        vertical-align: top;\n",
       "    }\n",
       "\n",
       "    .dataframe thead th {\n",
       "        text-align: right;\n",
       "    }\n",
       "</style>\n",
       "<table border=\"1\" class=\"dataframe\">\n",
       "  <thead>\n",
       "    <tr style=\"text-align: right;\">\n",
       "      <th></th>\n",
       "      <th>CustomerID</th>\n",
       "      <th>frequency</th>\n",
       "      <th>recency</th>\n",
       "      <th>T</th>\n",
       "      <th>monetary_value</th>\n",
       "      <th>probability_alive</th>\n",
       "      <th>pred_num_txn</th>\n",
       "      <th>exp_avg_sales</th>\n",
       "    </tr>\n",
       "  </thead>\n",
       "  <tbody>\n",
       "    <tr>\n",
       "      <th>1</th>\n",
       "      <td>12347</td>\n",
       "      <td>6.0</td>\n",
       "      <td>365.0</td>\n",
       "      <td>367.0</td>\n",
       "      <td>599.701667</td>\n",
       "      <td>0.999698</td>\n",
       "      <td>0.47</td>\n",
       "      <td>603.040247</td>\n",
       "    </tr>\n",
       "    <tr>\n",
       "      <th>2</th>\n",
       "      <td>12348</td>\n",
       "      <td>3.0</td>\n",
       "      <td>283.0</td>\n",
       "      <td>358.0</td>\n",
       "      <td>301.480000</td>\n",
       "      <td>0.999177</td>\n",
       "      <td>0.27</td>\n",
       "      <td>306.725889</td>\n",
       "    </tr>\n",
       "    <tr>\n",
       "      <th>5</th>\n",
       "      <td>12352</td>\n",
       "      <td>6.0</td>\n",
       "      <td>260.0</td>\n",
       "      <td>296.0</td>\n",
       "      <td>368.256667</td>\n",
       "      <td>0.999406</td>\n",
       "      <td>0.56</td>\n",
       "      <td>371.034926</td>\n",
       "    </tr>\n",
       "    <tr>\n",
       "      <th>9</th>\n",
       "      <td>12356</td>\n",
       "      <td>2.0</td>\n",
       "      <td>303.0</td>\n",
       "      <td>325.0</td>\n",
       "      <td>269.905000</td>\n",
       "      <td>0.999478</td>\n",
       "      <td>0.22</td>\n",
       "      <td>277.562534</td>\n",
       "    </tr>\n",
       "    <tr>\n",
       "      <th>11</th>\n",
       "      <td>12358</td>\n",
       "      <td>1.0</td>\n",
       "      <td>149.0</td>\n",
       "      <td>150.0</td>\n",
       "      <td>683.200000</td>\n",
       "      <td>0.999486</td>\n",
       "      <td>0.25</td>\n",
       "      <td>704.704679</td>\n",
       "    </tr>\n",
       "  </tbody>\n",
       "</table>\n",
       "</div>"
      ],
      "text/plain": [
       "    CustomerID  frequency  recency      T  monetary_value  probability_alive  \\\n",
       "1        12347        6.0    365.0  367.0      599.701667           0.999698   \n",
       "2        12348        3.0    283.0  358.0      301.480000           0.999177   \n",
       "5        12352        6.0    260.0  296.0      368.256667           0.999406   \n",
       "9        12356        2.0    303.0  325.0      269.905000           0.999478   \n",
       "11       12358        1.0    149.0  150.0      683.200000           0.999486   \n",
       "\n",
       "    pred_num_txn  exp_avg_sales  \n",
       "1           0.47     603.040247  \n",
       "2           0.27     306.725889  \n",
       "5           0.56     371.034926  \n",
       "9           0.22     277.562534  \n",
       "11          0.25     704.704679  "
      ]
     },
     "execution_count": 35,
     "metadata": {},
     "output_type": "execute_result"
    }
   ],
   "source": [
    "summary = summary[summary['monetary_value'] > 0]\n",
    "summary['exp_avg_sales'] = ggf.conditional_expected_average_profit(summary['frequency'],\n",
    "                                                                   summary['monetary_value'])\n",
    "summary.head()"
   ]
  },
  {
   "cell_type": "markdown",
   "id": "7be86342-6654-4d4d-914a-8d0c189c5c34",
   "metadata": {},
   "source": [
    "**Note:** I refer to \"expected average sales\" because the monetary value we're using represents the actual sales amount, not profit. By following the method above, we calculate the average sales, and then we can multiply the result by the profit margin to obtain the actual profit value."
   ]
  },
  {
   "cell_type": "code",
   "execution_count": 36,
   "id": "da1a6ca1-8769-42aa-b14c-085e9d65c271",
   "metadata": {},
   "outputs": [
    {
     "name": "stdout",
     "output_type": "stream",
     "text": [
      "Expected Average Sales: 486.90902215126687\n",
      "Actual Average Sales: 477.3803385139514\n"
     ]
    }
   ],
   "source": [
    "# checking the expected average value and the actual average value in the data to make sure the values are good.\n",
    "print(f\"Expected Average Sales: {summary['exp_avg_sales'].mean()}\")\n",
    "print(f\"Actual Average Sales: {summary['monetary_value'].mean()}\")"
   ]
  },
  {
   "cell_type": "markdown",
   "id": "0fd6d8a1-84d7-43c1-adc5-29e2fc97fcf5",
   "metadata": {},
   "source": [
    "The values look reasonable. Now, let’s calculate the Customer Lifetime Value directly using the method from the Lifetimes package.\r\n",
    "\r\n",
    "Here are three key points to keep in mind:\r\n",
    "\r\n",
    "- **time**: In the `customer_lifetime_value()` method, this parameter is measured in months. For example, `t=1` represents one month, and so on.\r\n",
    "- **freq**: This specifies the time unit of your data. If your data is at a daily level, use \"D\"; if it's monthly, use \"M,\" etc.\r\n",
    "- **discount_rate**: This is based on the Discounted Cash Flow (DCF) concept, where you apply a discount rate to future monetary values to calculate their present value. The default rate in the documentation is 0.01, which corresponds to 12.7% annually."
   ]
  },
  {
   "cell_type": "code",
   "execution_count": 37,
   "id": "785cb77d-7894-4187-b35b-c56af8b1a22e",
   "metadata": {},
   "outputs": [
    {
     "data": {
      "text/html": [
       "<div>\n",
       "<style scoped>\n",
       "    .dataframe tbody tr th:only-of-type {\n",
       "        vertical-align: middle;\n",
       "    }\n",
       "\n",
       "    .dataframe tbody tr th {\n",
       "        vertical-align: top;\n",
       "    }\n",
       "\n",
       "    .dataframe thead th {\n",
       "        text-align: right;\n",
       "    }\n",
       "</style>\n",
       "<table border=\"1\" class=\"dataframe\">\n",
       "  <thead>\n",
       "    <tr style=\"text-align: right;\">\n",
       "      <th></th>\n",
       "      <th>CustomerID</th>\n",
       "      <th>frequency</th>\n",
       "      <th>recency</th>\n",
       "      <th>T</th>\n",
       "      <th>monetary_value</th>\n",
       "      <th>probability_alive</th>\n",
       "      <th>pred_num_txn</th>\n",
       "      <th>exp_avg_sales</th>\n",
       "      <th>predicted_clv</th>\n",
       "    </tr>\n",
       "  </thead>\n",
       "  <tbody>\n",
       "    <tr>\n",
       "      <th>1</th>\n",
       "      <td>12347</td>\n",
       "      <td>6.0</td>\n",
       "      <td>365.0</td>\n",
       "      <td>367.0</td>\n",
       "      <td>599.701667</td>\n",
       "      <td>0.999698</td>\n",
       "      <td>0.47</td>\n",
       "      <td>603.040247</td>\n",
       "      <td>280.409518</td>\n",
       "    </tr>\n",
       "    <tr>\n",
       "      <th>2</th>\n",
       "      <td>12348</td>\n",
       "      <td>3.0</td>\n",
       "      <td>283.0</td>\n",
       "      <td>358.0</td>\n",
       "      <td>301.480000</td>\n",
       "      <td>0.999177</td>\n",
       "      <td>0.27</td>\n",
       "      <td>306.725889</td>\n",
       "      <td>81.591026</td>\n",
       "    </tr>\n",
       "    <tr>\n",
       "      <th>5</th>\n",
       "      <td>12352</td>\n",
       "      <td>6.0</td>\n",
       "      <td>260.0</td>\n",
       "      <td>296.0</td>\n",
       "      <td>368.256667</td>\n",
       "      <td>0.999406</td>\n",
       "      <td>0.56</td>\n",
       "      <td>371.034926</td>\n",
       "      <td>206.034640</td>\n",
       "    </tr>\n",
       "    <tr>\n",
       "      <th>9</th>\n",
       "      <td>12356</td>\n",
       "      <td>2.0</td>\n",
       "      <td>303.0</td>\n",
       "      <td>325.0</td>\n",
       "      <td>269.905000</td>\n",
       "      <td>0.999478</td>\n",
       "      <td>0.22</td>\n",
       "      <td>277.562534</td>\n",
       "      <td>59.125290</td>\n",
       "    </tr>\n",
       "    <tr>\n",
       "      <th>11</th>\n",
       "      <td>12358</td>\n",
       "      <td>1.0</td>\n",
       "      <td>149.0</td>\n",
       "      <td>150.0</td>\n",
       "      <td>683.200000</td>\n",
       "      <td>0.999486</td>\n",
       "      <td>0.25</td>\n",
       "      <td>704.704679</td>\n",
       "      <td>174.550478</td>\n",
       "    </tr>\n",
       "  </tbody>\n",
       "</table>\n",
       "</div>"
      ],
      "text/plain": [
       "    CustomerID  frequency  recency      T  monetary_value  probability_alive  \\\n",
       "1        12347        6.0    365.0  367.0      599.701667           0.999698   \n",
       "2        12348        3.0    283.0  358.0      301.480000           0.999177   \n",
       "5        12352        6.0    260.0  296.0      368.256667           0.999406   \n",
       "9        12356        2.0    303.0  325.0      269.905000           0.999478   \n",
       "11       12358        1.0    149.0  150.0      683.200000           0.999486   \n",
       "\n",
       "    pred_num_txn  exp_avg_sales  predicted_clv  \n",
       "1           0.47     603.040247     280.409518  \n",
       "2           0.27     306.725889      81.591026  \n",
       "5           0.56     371.034926     206.034640  \n",
       "9           0.22     277.562534      59.125290  \n",
       "11          0.25     704.704679     174.550478  "
      ]
     },
     "execution_count": 37,
     "metadata": {},
     "output_type": "execute_result"
    }
   ],
   "source": [
    "# Predicting the customer lifetime value for the next 30 days\n",
    "summary['predicted_clv'] = ggf.customer_lifetime_value(bgf, \n",
    "                                                       summary['frequency'],\n",
    "                                                       summary['recency'],\n",
    "                                                       summary['T'],\n",
    "                                                       summary['monetary_value'],\n",
    "                                                       time = 1, # lifetime in months\n",
    "                                                       freq = 'D', # frequency in which the data is present(T)\n",
    "                                                       discount_rate=0.01) # discount rate\n",
    "summary.head()"
   ]
  },
  {
   "cell_type": "markdown",
   "id": "dca813e8-c8f0-48e2-a0d2-60857e39c042",
   "metadata": {},
   "source": [
    "CLV can be manually calculated by multiplying the predicted number of future transactions (pred_num_txn) with the expected average sales per transaction (exp_avg_sales)."
   ]
  },
  {
   "cell_type": "code",
   "execution_count": 38,
   "id": "e674472d-7168-4a12-8c8b-dd0ad49c1436",
   "metadata": {},
   "outputs": [
    {
     "data": {
      "text/html": [
       "<div>\n",
       "<style scoped>\n",
       "    .dataframe tbody tr th:only-of-type {\n",
       "        vertical-align: middle;\n",
       "    }\n",
       "\n",
       "    .dataframe tbody tr th {\n",
       "        vertical-align: top;\n",
       "    }\n",
       "\n",
       "    .dataframe thead th {\n",
       "        text-align: right;\n",
       "    }\n",
       "</style>\n",
       "<table border=\"1\" class=\"dataframe\">\n",
       "  <thead>\n",
       "    <tr style=\"text-align: right;\">\n",
       "      <th></th>\n",
       "      <th>CustomerID</th>\n",
       "      <th>frequency</th>\n",
       "      <th>recency</th>\n",
       "      <th>T</th>\n",
       "      <th>monetary_value</th>\n",
       "      <th>probability_alive</th>\n",
       "      <th>pred_num_txn</th>\n",
       "      <th>exp_avg_sales</th>\n",
       "      <th>predicted_clv</th>\n",
       "      <th>manual_predicted_clv</th>\n",
       "    </tr>\n",
       "  </thead>\n",
       "  <tbody>\n",
       "    <tr>\n",
       "      <th>1</th>\n",
       "      <td>12347</td>\n",
       "      <td>6.0</td>\n",
       "      <td>365.0</td>\n",
       "      <td>367.0</td>\n",
       "      <td>599.701667</td>\n",
       "      <td>0.999698</td>\n",
       "      <td>0.47</td>\n",
       "      <td>603.040247</td>\n",
       "      <td>280.409518</td>\n",
       "      <td>283.428916</td>\n",
       "    </tr>\n",
       "    <tr>\n",
       "      <th>2</th>\n",
       "      <td>12348</td>\n",
       "      <td>3.0</td>\n",
       "      <td>283.0</td>\n",
       "      <td>358.0</td>\n",
       "      <td>301.480000</td>\n",
       "      <td>0.999177</td>\n",
       "      <td>0.27</td>\n",
       "      <td>306.725889</td>\n",
       "      <td>81.591026</td>\n",
       "      <td>82.815990</td>\n",
       "    </tr>\n",
       "    <tr>\n",
       "      <th>5</th>\n",
       "      <td>12352</td>\n",
       "      <td>6.0</td>\n",
       "      <td>260.0</td>\n",
       "      <td>296.0</td>\n",
       "      <td>368.256667</td>\n",
       "      <td>0.999406</td>\n",
       "      <td>0.56</td>\n",
       "      <td>371.034926</td>\n",
       "      <td>206.034640</td>\n",
       "      <td>207.779558</td>\n",
       "    </tr>\n",
       "    <tr>\n",
       "      <th>9</th>\n",
       "      <td>12356</td>\n",
       "      <td>2.0</td>\n",
       "      <td>303.0</td>\n",
       "      <td>325.0</td>\n",
       "      <td>269.905000</td>\n",
       "      <td>0.999478</td>\n",
       "      <td>0.22</td>\n",
       "      <td>277.562534</td>\n",
       "      <td>59.125290</td>\n",
       "      <td>61.063757</td>\n",
       "    </tr>\n",
       "    <tr>\n",
       "      <th>11</th>\n",
       "      <td>12358</td>\n",
       "      <td>1.0</td>\n",
       "      <td>149.0</td>\n",
       "      <td>150.0</td>\n",
       "      <td>683.200000</td>\n",
       "      <td>0.999486</td>\n",
       "      <td>0.25</td>\n",
       "      <td>704.704679</td>\n",
       "      <td>174.550478</td>\n",
       "      <td>176.176170</td>\n",
       "    </tr>\n",
       "  </tbody>\n",
       "</table>\n",
       "</div>"
      ],
      "text/plain": [
       "    CustomerID  frequency  recency      T  monetary_value  probability_alive  \\\n",
       "1        12347        6.0    365.0  367.0      599.701667           0.999698   \n",
       "2        12348        3.0    283.0  358.0      301.480000           0.999177   \n",
       "5        12352        6.0    260.0  296.0      368.256667           0.999406   \n",
       "9        12356        2.0    303.0  325.0      269.905000           0.999478   \n",
       "11       12358        1.0    149.0  150.0      683.200000           0.999486   \n",
       "\n",
       "    pred_num_txn  exp_avg_sales  predicted_clv  manual_predicted_clv  \n",
       "1           0.47     603.040247     280.409518            283.428916  \n",
       "2           0.27     306.725889      81.591026             82.815990  \n",
       "5           0.56     371.034926     206.034640            207.779558  \n",
       "9           0.22     277.562534      59.125290             61.063757  \n",
       "11          0.25     704.704679     174.550478            176.176170  "
      ]
     },
     "execution_count": 38,
     "metadata": {},
     "output_type": "execute_result"
    }
   ],
   "source": [
    "summary['manual_predicted_clv'] = summary['pred_num_txn'] * summary['exp_avg_sales']\n",
    "summary.head()"
   ]
  },
  {
   "cell_type": "markdown",
   "id": "4408c27b-831f-4eb7-bee6-ce2f874bfae3",
   "metadata": {},
   "source": [
    "Both the CLV values are very close to each other and seems reasonable for the next 30 days.\r\n",
    "\r\n",
    "One thing to note here is that, both the values we have calculated for CLV is the sales value, not the actual profit. To get the net profit for each customer, we can either create profit value in the beginning by multiplying sales value with profit margin or we can do that now.\r\n",
    "\r\n"
   ]
  },
  {
   "cell_type": "code",
   "execution_count": 39,
   "id": "94464a08-5615-466d-94b9-22b04729cb1d",
   "metadata": {},
   "outputs": [
    {
     "data": {
      "text/html": [
       "<div>\n",
       "<style scoped>\n",
       "    .dataframe tbody tr th:only-of-type {\n",
       "        vertical-align: middle;\n",
       "    }\n",
       "\n",
       "    .dataframe tbody tr th {\n",
       "        vertical-align: top;\n",
       "    }\n",
       "\n",
       "    .dataframe thead th {\n",
       "        text-align: right;\n",
       "    }\n",
       "</style>\n",
       "<table border=\"1\" class=\"dataframe\">\n",
       "  <thead>\n",
       "    <tr style=\"text-align: right;\">\n",
       "      <th></th>\n",
       "      <th>CustomerID</th>\n",
       "      <th>frequency</th>\n",
       "      <th>recency</th>\n",
       "      <th>T</th>\n",
       "      <th>monetary_value</th>\n",
       "      <th>probability_alive</th>\n",
       "      <th>pred_num_txn</th>\n",
       "      <th>exp_avg_sales</th>\n",
       "      <th>predicted_clv</th>\n",
       "      <th>manual_predicted_clv</th>\n",
       "      <th>CLV</th>\n",
       "    </tr>\n",
       "  </thead>\n",
       "  <tbody>\n",
       "    <tr>\n",
       "      <th>1</th>\n",
       "      <td>12347</td>\n",
       "      <td>6.0</td>\n",
       "      <td>365.0</td>\n",
       "      <td>367.0</td>\n",
       "      <td>599.701667</td>\n",
       "      <td>0.999698</td>\n",
       "      <td>0.47</td>\n",
       "      <td>603.040247</td>\n",
       "      <td>280.409518</td>\n",
       "      <td>283.428916</td>\n",
       "      <td>14.020476</td>\n",
       "    </tr>\n",
       "    <tr>\n",
       "      <th>2</th>\n",
       "      <td>12348</td>\n",
       "      <td>3.0</td>\n",
       "      <td>283.0</td>\n",
       "      <td>358.0</td>\n",
       "      <td>301.480000</td>\n",
       "      <td>0.999177</td>\n",
       "      <td>0.27</td>\n",
       "      <td>306.725889</td>\n",
       "      <td>81.591026</td>\n",
       "      <td>82.815990</td>\n",
       "      <td>4.079551</td>\n",
       "    </tr>\n",
       "    <tr>\n",
       "      <th>5</th>\n",
       "      <td>12352</td>\n",
       "      <td>6.0</td>\n",
       "      <td>260.0</td>\n",
       "      <td>296.0</td>\n",
       "      <td>368.256667</td>\n",
       "      <td>0.999406</td>\n",
       "      <td>0.56</td>\n",
       "      <td>371.034926</td>\n",
       "      <td>206.034640</td>\n",
       "      <td>207.779558</td>\n",
       "      <td>10.301732</td>\n",
       "    </tr>\n",
       "    <tr>\n",
       "      <th>9</th>\n",
       "      <td>12356</td>\n",
       "      <td>2.0</td>\n",
       "      <td>303.0</td>\n",
       "      <td>325.0</td>\n",
       "      <td>269.905000</td>\n",
       "      <td>0.999478</td>\n",
       "      <td>0.22</td>\n",
       "      <td>277.562534</td>\n",
       "      <td>59.125290</td>\n",
       "      <td>61.063757</td>\n",
       "      <td>2.956265</td>\n",
       "    </tr>\n",
       "    <tr>\n",
       "      <th>11</th>\n",
       "      <td>12358</td>\n",
       "      <td>1.0</td>\n",
       "      <td>149.0</td>\n",
       "      <td>150.0</td>\n",
       "      <td>683.200000</td>\n",
       "      <td>0.999486</td>\n",
       "      <td>0.25</td>\n",
       "      <td>704.704679</td>\n",
       "      <td>174.550478</td>\n",
       "      <td>176.176170</td>\n",
       "      <td>8.727524</td>\n",
       "    </tr>\n",
       "  </tbody>\n",
       "</table>\n",
       "</div>"
      ],
      "text/plain": [
       "    CustomerID  frequency  recency      T  monetary_value  probability_alive  \\\n",
       "1        12347        6.0    365.0  367.0      599.701667           0.999698   \n",
       "2        12348        3.0    283.0  358.0      301.480000           0.999177   \n",
       "5        12352        6.0    260.0  296.0      368.256667           0.999406   \n",
       "9        12356        2.0    303.0  325.0      269.905000           0.999478   \n",
       "11       12358        1.0    149.0  150.0      683.200000           0.999486   \n",
       "\n",
       "    pred_num_txn  exp_avg_sales  predicted_clv  manual_predicted_clv  \\\n",
       "1           0.47     603.040247     280.409518            283.428916   \n",
       "2           0.27     306.725889      81.591026             82.815990   \n",
       "5           0.56     371.034926     206.034640            207.779558   \n",
       "9           0.22     277.562534      59.125290             61.063757   \n",
       "11          0.25     704.704679     174.550478            176.176170   \n",
       "\n",
       "          CLV  \n",
       "1   14.020476  \n",
       "2    4.079551  \n",
       "5   10.301732  \n",
       "9    2.956265  \n",
       "11   8.727524  "
      ]
     },
     "execution_count": 39,
     "metadata": {},
     "output_type": "execute_result"
    }
   ],
   "source": [
    "# CLV in terms of profit(profit margin is 5%)\n",
    "profit_margin = 0.05\n",
    "summary['CLV'] = summary['predicted_clv'] * profit_margin\n",
    "summary.head()"
   ]
  },
  {
   "cell_type": "code",
   "execution_count": 40,
   "id": "738afb8b-54b1-4404-b040-b5453bac4764",
   "metadata": {},
   "outputs": [
    {
     "data": {
      "text/plain": [
       "count    2790.000000\n",
       "mean       12.312040\n",
       "std        49.327361\n",
       "min         0.136205\n",
       "25%         2.826065\n",
       "50%         5.668581\n",
       "75%        10.967735\n",
       "max      1692.149403\n",
       "Name: CLV, dtype: float64"
      ]
     },
     "execution_count": 40,
     "metadata": {},
     "output_type": "execute_result"
    }
   ],
   "source": [
    "# Distribution of CLV for the business in the next 30 days\n",
    "summary['CLV'].describe()"
   ]
  },
  {
   "cell_type": "markdown",
   "id": "1ebd50a4-27e5-4c9a-9bf9-b0650e502451",
   "metadata": {},
   "source": [
    "Finally, we predicted the CLV for each customers for the next 30 days.\n",
    "\n",
    "The marketing team can now use this information to target customers and increase their sales."
   ]
  },
  {
   "cell_type": "markdown",
   "id": "48699cd2-c006-4066-8e80-c356aec4ee28",
   "metadata": {},
   "source": [
    "## 3. Machine Learning Models\n",
    "\n",
    "### 3.1 Checking the data and selecting important features"
   ]
  },
  {
   "cell_type": "code",
   "execution_count": 41,
   "id": "59ad1c19-da4e-4c34-a337-dbceecedf58e",
   "metadata": {},
   "outputs": [
    {
     "data": {
      "text/html": [
       "<div>\n",
       "<style scoped>\n",
       "    .dataframe tbody tr th:only-of-type {\n",
       "        vertical-align: middle;\n",
       "    }\n",
       "\n",
       "    .dataframe tbody tr th {\n",
       "        vertical-align: top;\n",
       "    }\n",
       "\n",
       "    .dataframe thead th {\n",
       "        text-align: right;\n",
       "    }\n",
       "</style>\n",
       "<table border=\"1\" class=\"dataframe\">\n",
       "  <thead>\n",
       "    <tr style=\"text-align: right;\">\n",
       "      <th></th>\n",
       "      <th>InvoiceNo</th>\n",
       "      <th>StockCode</th>\n",
       "      <th>Description</th>\n",
       "      <th>Quantity</th>\n",
       "      <th>InvoiceDate</th>\n",
       "      <th>UnitPrice</th>\n",
       "      <th>CustomerID</th>\n",
       "      <th>Country</th>\n",
       "      <th>TotalSales</th>\n",
       "      <th>Hour</th>\n",
       "      <th>DayOfWeek</th>\n",
       "      <th>YearMonth</th>\n",
       "      <th>Month</th>\n",
       "    </tr>\n",
       "  </thead>\n",
       "  <tbody>\n",
       "    <tr>\n",
       "      <th>0</th>\n",
       "      <td>536365</td>\n",
       "      <td>85123A</td>\n",
       "      <td>WHITE HANGING HEART T-LIGHT HOLDER</td>\n",
       "      <td>6</td>\n",
       "      <td>2010-12-01 08:26:00</td>\n",
       "      <td>2.55</td>\n",
       "      <td>17850</td>\n",
       "      <td>United Kingdom</td>\n",
       "      <td>15.30</td>\n",
       "      <td>8</td>\n",
       "      <td>Wednesday</td>\n",
       "      <td>2010-12</td>\n",
       "      <td>12</td>\n",
       "    </tr>\n",
       "    <tr>\n",
       "      <th>1</th>\n",
       "      <td>536365</td>\n",
       "      <td>71053</td>\n",
       "      <td>WHITE METAL LANTERN</td>\n",
       "      <td>6</td>\n",
       "      <td>2010-12-01 08:26:00</td>\n",
       "      <td>3.39</td>\n",
       "      <td>17850</td>\n",
       "      <td>United Kingdom</td>\n",
       "      <td>20.34</td>\n",
       "      <td>8</td>\n",
       "      <td>Wednesday</td>\n",
       "      <td>2010-12</td>\n",
       "      <td>12</td>\n",
       "    </tr>\n",
       "    <tr>\n",
       "      <th>2</th>\n",
       "      <td>536365</td>\n",
       "      <td>84406B</td>\n",
       "      <td>CREAM CUPID HEARTS COAT HANGER</td>\n",
       "      <td>8</td>\n",
       "      <td>2010-12-01 08:26:00</td>\n",
       "      <td>2.75</td>\n",
       "      <td>17850</td>\n",
       "      <td>United Kingdom</td>\n",
       "      <td>22.00</td>\n",
       "      <td>8</td>\n",
       "      <td>Wednesday</td>\n",
       "      <td>2010-12</td>\n",
       "      <td>12</td>\n",
       "    </tr>\n",
       "    <tr>\n",
       "      <th>3</th>\n",
       "      <td>536365</td>\n",
       "      <td>84029G</td>\n",
       "      <td>KNITTED UNION FLAG HOT WATER BOTTLE</td>\n",
       "      <td>6</td>\n",
       "      <td>2010-12-01 08:26:00</td>\n",
       "      <td>3.39</td>\n",
       "      <td>17850</td>\n",
       "      <td>United Kingdom</td>\n",
       "      <td>20.34</td>\n",
       "      <td>8</td>\n",
       "      <td>Wednesday</td>\n",
       "      <td>2010-12</td>\n",
       "      <td>12</td>\n",
       "    </tr>\n",
       "    <tr>\n",
       "      <th>4</th>\n",
       "      <td>536365</td>\n",
       "      <td>84029E</td>\n",
       "      <td>RED WOOLLY HOTTIE WHITE HEART.</td>\n",
       "      <td>6</td>\n",
       "      <td>2010-12-01 08:26:00</td>\n",
       "      <td>3.39</td>\n",
       "      <td>17850</td>\n",
       "      <td>United Kingdom</td>\n",
       "      <td>20.34</td>\n",
       "      <td>8</td>\n",
       "      <td>Wednesday</td>\n",
       "      <td>2010-12</td>\n",
       "      <td>12</td>\n",
       "    </tr>\n",
       "  </tbody>\n",
       "</table>\n",
       "</div>"
      ],
      "text/plain": [
       "   InvoiceNo StockCode                          Description  Quantity  \\\n",
       "0     536365    85123A   WHITE HANGING HEART T-LIGHT HOLDER         6   \n",
       "1     536365     71053                  WHITE METAL LANTERN         6   \n",
       "2     536365    84406B       CREAM CUPID HEARTS COAT HANGER         8   \n",
       "3     536365    84029G  KNITTED UNION FLAG HOT WATER BOTTLE         6   \n",
       "4     536365    84029E       RED WOOLLY HOTTIE WHITE HEART.         6   \n",
       "\n",
       "          InvoiceDate  UnitPrice  CustomerID         Country  TotalSales  \\\n",
       "0 2010-12-01 08:26:00       2.55       17850  United Kingdom       15.30   \n",
       "1 2010-12-01 08:26:00       3.39       17850  United Kingdom       20.34   \n",
       "2 2010-12-01 08:26:00       2.75       17850  United Kingdom       22.00   \n",
       "3 2010-12-01 08:26:00       3.39       17850  United Kingdom       20.34   \n",
       "4 2010-12-01 08:26:00       3.39       17850  United Kingdom       20.34   \n",
       "\n",
       "   Hour  DayOfWeek YearMonth  Month  \n",
       "0     8  Wednesday   2010-12     12  \n",
       "1     8  Wednesday   2010-12     12  \n",
       "2     8  Wednesday   2010-12     12  \n",
       "3     8  Wednesday   2010-12     12  \n",
       "4     8  Wednesday   2010-12     12  "
      ]
     },
     "execution_count": 41,
     "metadata": {},
     "output_type": "execute_result"
    }
   ],
   "source": [
    "data_clv.head()"
   ]
  },
  {
   "cell_type": "code",
   "execution_count": 42,
   "id": "17e88ed3-ece9-4938-9177-133ff40a3db6",
   "metadata": {},
   "outputs": [
    {
     "data": {
      "text/html": [
       "<div>\n",
       "<style scoped>\n",
       "    .dataframe tbody tr th:only-of-type {\n",
       "        vertical-align: middle;\n",
       "    }\n",
       "\n",
       "    .dataframe tbody tr th {\n",
       "        vertical-align: top;\n",
       "    }\n",
       "\n",
       "    .dataframe thead th {\n",
       "        text-align: right;\n",
       "    }\n",
       "</style>\n",
       "<table border=\"1\" class=\"dataframe\">\n",
       "  <thead>\n",
       "    <tr style=\"text-align: right;\">\n",
       "      <th></th>\n",
       "      <th>CustomerID</th>\n",
       "      <th>frequency</th>\n",
       "      <th>recency</th>\n",
       "      <th>T</th>\n",
       "      <th>monetary_value</th>\n",
       "      <th>probability_alive</th>\n",
       "      <th>pred_num_txn</th>\n",
       "      <th>exp_avg_sales</th>\n",
       "      <th>predicted_clv</th>\n",
       "      <th>manual_predicted_clv</th>\n",
       "      <th>CLV</th>\n",
       "    </tr>\n",
       "  </thead>\n",
       "  <tbody>\n",
       "    <tr>\n",
       "      <th>1</th>\n",
       "      <td>12347</td>\n",
       "      <td>6.0</td>\n",
       "      <td>365.0</td>\n",
       "      <td>367.0</td>\n",
       "      <td>599.701667</td>\n",
       "      <td>0.999698</td>\n",
       "      <td>0.47</td>\n",
       "      <td>603.040247</td>\n",
       "      <td>280.409518</td>\n",
       "      <td>283.428916</td>\n",
       "      <td>14.020476</td>\n",
       "    </tr>\n",
       "    <tr>\n",
       "      <th>2</th>\n",
       "      <td>12348</td>\n",
       "      <td>3.0</td>\n",
       "      <td>283.0</td>\n",
       "      <td>358.0</td>\n",
       "      <td>301.480000</td>\n",
       "      <td>0.999177</td>\n",
       "      <td>0.27</td>\n",
       "      <td>306.725889</td>\n",
       "      <td>81.591026</td>\n",
       "      <td>82.815990</td>\n",
       "      <td>4.079551</td>\n",
       "    </tr>\n",
       "    <tr>\n",
       "      <th>5</th>\n",
       "      <td>12352</td>\n",
       "      <td>6.0</td>\n",
       "      <td>260.0</td>\n",
       "      <td>296.0</td>\n",
       "      <td>368.256667</td>\n",
       "      <td>0.999406</td>\n",
       "      <td>0.56</td>\n",
       "      <td>371.034926</td>\n",
       "      <td>206.034640</td>\n",
       "      <td>207.779558</td>\n",
       "      <td>10.301732</td>\n",
       "    </tr>\n",
       "    <tr>\n",
       "      <th>9</th>\n",
       "      <td>12356</td>\n",
       "      <td>2.0</td>\n",
       "      <td>303.0</td>\n",
       "      <td>325.0</td>\n",
       "      <td>269.905000</td>\n",
       "      <td>0.999478</td>\n",
       "      <td>0.22</td>\n",
       "      <td>277.562534</td>\n",
       "      <td>59.125290</td>\n",
       "      <td>61.063757</td>\n",
       "      <td>2.956265</td>\n",
       "    </tr>\n",
       "    <tr>\n",
       "      <th>11</th>\n",
       "      <td>12358</td>\n",
       "      <td>1.0</td>\n",
       "      <td>149.0</td>\n",
       "      <td>150.0</td>\n",
       "      <td>683.200000</td>\n",
       "      <td>0.999486</td>\n",
       "      <td>0.25</td>\n",
       "      <td>704.704679</td>\n",
       "      <td>174.550478</td>\n",
       "      <td>176.176170</td>\n",
       "      <td>8.727524</td>\n",
       "    </tr>\n",
       "  </tbody>\n",
       "</table>\n",
       "</div>"
      ],
      "text/plain": [
       "    CustomerID  frequency  recency      T  monetary_value  probability_alive  \\\n",
       "1        12347        6.0    365.0  367.0      599.701667           0.999698   \n",
       "2        12348        3.0    283.0  358.0      301.480000           0.999177   \n",
       "5        12352        6.0    260.0  296.0      368.256667           0.999406   \n",
       "9        12356        2.0    303.0  325.0      269.905000           0.999478   \n",
       "11       12358        1.0    149.0  150.0      683.200000           0.999486   \n",
       "\n",
       "    pred_num_txn  exp_avg_sales  predicted_clv  manual_predicted_clv  \\\n",
       "1           0.47     603.040247     280.409518            283.428916   \n",
       "2           0.27     306.725889      81.591026             82.815990   \n",
       "5           0.56     371.034926     206.034640            207.779558   \n",
       "9           0.22     277.562534      59.125290             61.063757   \n",
       "11          0.25     704.704679     174.550478            176.176170   \n",
       "\n",
       "          CLV  \n",
       "1   14.020476  \n",
       "2    4.079551  \n",
       "5   10.301732  \n",
       "9    2.956265  \n",
       "11   8.727524  "
      ]
     },
     "execution_count": 42,
     "metadata": {},
     "output_type": "execute_result"
    }
   ],
   "source": [
    "summary.head()"
   ]
  },
  {
   "cell_type": "code",
   "execution_count": 43,
   "id": "b06798c9-650d-4280-9c2a-07060d82854e",
   "metadata": {},
   "outputs": [
    {
     "data": {
      "text/plain": [
       "(361882, 23)"
      ]
     },
     "execution_count": 43,
     "metadata": {},
     "output_type": "execute_result"
    }
   ],
   "source": [
    "merged_df = pd.merge(data_clv, summary, on='CustomerID', how='inner')\n",
    "merged_df.shape"
   ]
  },
  {
   "cell_type": "code",
   "execution_count": 44,
   "id": "0dfdd805-6de4-46b9-a049-b3ec22eb1fd8",
   "metadata": {},
   "outputs": [
    {
     "data": {
      "text/plain": [
       "InvoiceNo               0\n",
       "StockCode               0\n",
       "Description             0\n",
       "Quantity                0\n",
       "InvoiceDate             0\n",
       "UnitPrice               0\n",
       "CustomerID              0\n",
       "Country                 0\n",
       "TotalSales              0\n",
       "Hour                    0\n",
       "DayOfWeek               0\n",
       "YearMonth               0\n",
       "Month                   0\n",
       "frequency               0\n",
       "recency                 0\n",
       "T                       0\n",
       "monetary_value          0\n",
       "probability_alive       0\n",
       "pred_num_txn            0\n",
       "exp_avg_sales           0\n",
       "predicted_clv           0\n",
       "manual_predicted_clv    0\n",
       "CLV                     0\n",
       "dtype: int64"
      ]
     },
     "execution_count": 44,
     "metadata": {},
     "output_type": "execute_result"
    }
   ],
   "source": [
    "merged_df.isnull().sum()"
   ]
  },
  {
   "cell_type": "markdown",
   "id": "fa9024b8-96be-4cd0-a80b-37c2e293e108",
   "metadata": {},
   "source": [
    "**There are no null values in the dataset**"
   ]
  },
  {
   "cell_type": "code",
   "execution_count": 45,
   "id": "f1f1cb3c-c009-4484-9a8b-78519a18cae4",
   "metadata": {},
   "outputs": [
    {
     "data": {
      "text/html": [
       "<div>\n",
       "<style scoped>\n",
       "    .dataframe tbody tr th:only-of-type {\n",
       "        vertical-align: middle;\n",
       "    }\n",
       "\n",
       "    .dataframe tbody tr th {\n",
       "        vertical-align: top;\n",
       "    }\n",
       "\n",
       "    .dataframe thead th {\n",
       "        text-align: right;\n",
       "    }\n",
       "</style>\n",
       "<table border=\"1\" class=\"dataframe\">\n",
       "  <thead>\n",
       "    <tr style=\"text-align: right;\">\n",
       "      <th></th>\n",
       "      <th>InvoiceNo</th>\n",
       "      <th>StockCode</th>\n",
       "      <th>Description</th>\n",
       "      <th>Quantity</th>\n",
       "      <th>InvoiceDate</th>\n",
       "      <th>UnitPrice</th>\n",
       "      <th>CustomerID</th>\n",
       "      <th>Country</th>\n",
       "      <th>TotalSales</th>\n",
       "      <th>Hour</th>\n",
       "      <th>...</th>\n",
       "      <th>frequency</th>\n",
       "      <th>recency</th>\n",
       "      <th>T</th>\n",
       "      <th>monetary_value</th>\n",
       "      <th>probability_alive</th>\n",
       "      <th>pred_num_txn</th>\n",
       "      <th>exp_avg_sales</th>\n",
       "      <th>predicted_clv</th>\n",
       "      <th>manual_predicted_clv</th>\n",
       "      <th>CLV</th>\n",
       "    </tr>\n",
       "  </thead>\n",
       "  <tbody>\n",
       "    <tr>\n",
       "      <th>0</th>\n",
       "      <td>536365</td>\n",
       "      <td>85123A</td>\n",
       "      <td>WHITE HANGING HEART T-LIGHT HOLDER</td>\n",
       "      <td>6</td>\n",
       "      <td>2010-12-01 08:26:00</td>\n",
       "      <td>2.55</td>\n",
       "      <td>17850</td>\n",
       "      <td>United Kingdom</td>\n",
       "      <td>15.30</td>\n",
       "      <td>8</td>\n",
       "      <td>...</td>\n",
       "      <td>1.0</td>\n",
       "      <td>1.0</td>\n",
       "      <td>373.0</td>\n",
       "      <td>3891.87</td>\n",
       "      <td>0.985426</td>\n",
       "      <td>0.12</td>\n",
       "      <td>3960.554386</td>\n",
       "      <td>479.139496</td>\n",
       "      <td>475.266526</td>\n",
       "      <td>23.956975</td>\n",
       "    </tr>\n",
       "    <tr>\n",
       "      <th>1</th>\n",
       "      <td>536365</td>\n",
       "      <td>71053</td>\n",
       "      <td>WHITE METAL LANTERN</td>\n",
       "      <td>6</td>\n",
       "      <td>2010-12-01 08:26:00</td>\n",
       "      <td>3.39</td>\n",
       "      <td>17850</td>\n",
       "      <td>United Kingdom</td>\n",
       "      <td>20.34</td>\n",
       "      <td>8</td>\n",
       "      <td>...</td>\n",
       "      <td>1.0</td>\n",
       "      <td>1.0</td>\n",
       "      <td>373.0</td>\n",
       "      <td>3891.87</td>\n",
       "      <td>0.985426</td>\n",
       "      <td>0.12</td>\n",
       "      <td>3960.554386</td>\n",
       "      <td>479.139496</td>\n",
       "      <td>475.266526</td>\n",
       "      <td>23.956975</td>\n",
       "    </tr>\n",
       "  </tbody>\n",
       "</table>\n",
       "<p>2 rows × 23 columns</p>\n",
       "</div>"
      ],
      "text/plain": [
       "   InvoiceNo StockCode                         Description  Quantity  \\\n",
       "0     536365    85123A  WHITE HANGING HEART T-LIGHT HOLDER         6   \n",
       "1     536365     71053                 WHITE METAL LANTERN         6   \n",
       "\n",
       "          InvoiceDate  UnitPrice  CustomerID         Country  TotalSales  \\\n",
       "0 2010-12-01 08:26:00       2.55       17850  United Kingdom       15.30   \n",
       "1 2010-12-01 08:26:00       3.39       17850  United Kingdom       20.34   \n",
       "\n",
       "   Hour  ... frequency recency      T  monetary_value  probability_alive  \\\n",
       "0     8  ...       1.0     1.0  373.0         3891.87           0.985426   \n",
       "1     8  ...       1.0     1.0  373.0         3891.87           0.985426   \n",
       "\n",
       "   pred_num_txn  exp_avg_sales  predicted_clv  manual_predicted_clv        CLV  \n",
       "0          0.12    3960.554386     479.139496            475.266526  23.956975  \n",
       "1          0.12    3960.554386     479.139496            475.266526  23.956975  \n",
       "\n",
       "[2 rows x 23 columns]"
      ]
     },
     "execution_count": 45,
     "metadata": {},
     "output_type": "execute_result"
    }
   ],
   "source": [
    "merged_df.head(2)"
   ]
  },
  {
   "cell_type": "code",
   "execution_count": 46,
   "id": "91ba4c15-6d4a-434f-a3ca-dc6cc25046dc",
   "metadata": {},
   "outputs": [
    {
     "name": "stdout",
     "output_type": "stream",
     "text": [
      "<class 'pandas.core.frame.DataFrame'>\n",
      "RangeIndex: 361882 entries, 0 to 361881\n",
      "Data columns (total 23 columns):\n",
      " #   Column                Non-Null Count   Dtype         \n",
      "---  ------                --------------   -----         \n",
      " 0   InvoiceNo             361882 non-null  int64         \n",
      " 1   StockCode             361882 non-null  object        \n",
      " 2   Description           361882 non-null  object        \n",
      " 3   Quantity              361882 non-null  int64         \n",
      " 4   InvoiceDate           361882 non-null  datetime64[ns]\n",
      " 5   UnitPrice             361882 non-null  float64       \n",
      " 6   CustomerID            361882 non-null  int64         \n",
      " 7   Country               361882 non-null  object        \n",
      " 8   TotalSales            361882 non-null  float64       \n",
      " 9   Hour                  361882 non-null  int64         \n",
      " 10  DayOfWeek             361882 non-null  object        \n",
      " 11  YearMonth             361882 non-null  object        \n",
      " 12  Month                 361882 non-null  int64         \n",
      " 13  frequency             361882 non-null  float64       \n",
      " 14  recency               361882 non-null  float64       \n",
      " 15  T                     361882 non-null  float64       \n",
      " 16  monetary_value        361882 non-null  float64       \n",
      " 17  probability_alive     361882 non-null  float64       \n",
      " 18  pred_num_txn          361882 non-null  float64       \n",
      " 19  exp_avg_sales         361882 non-null  float64       \n",
      " 20  predicted_clv         361882 non-null  float64       \n",
      " 21  manual_predicted_clv  361882 non-null  float64       \n",
      " 22  CLV                   361882 non-null  float64       \n",
      "dtypes: datetime64[ns](1), float64(12), int64(5), object(5)\n",
      "memory usage: 63.5+ MB\n"
     ]
    }
   ],
   "source": [
    "merged_df.info()"
   ]
  },
  {
   "cell_type": "markdown",
   "id": "77d542e0-f1ba-41f8-be9a-e7d11515580f",
   "metadata": {},
   "source": [
    "**Creating a new dataframe with columns such as CustomerID','Description','Country','frequency','recency','T','monetary_value','CLV'**"
   ]
  },
  {
   "cell_type": "code",
   "execution_count": 47,
   "id": "e1e38abe-ea89-43f4-95a9-36140ab1e2aa",
   "metadata": {},
   "outputs": [
    {
     "data": {
      "text/html": [
       "<div>\n",
       "<style scoped>\n",
       "    .dataframe tbody tr th:only-of-type {\n",
       "        vertical-align: middle;\n",
       "    }\n",
       "\n",
       "    .dataframe tbody tr th {\n",
       "        vertical-align: top;\n",
       "    }\n",
       "\n",
       "    .dataframe thead th {\n",
       "        text-align: right;\n",
       "    }\n",
       "</style>\n",
       "<table border=\"1\" class=\"dataframe\">\n",
       "  <thead>\n",
       "    <tr style=\"text-align: right;\">\n",
       "      <th></th>\n",
       "      <th>CustomerID</th>\n",
       "      <th>Description</th>\n",
       "      <th>Country</th>\n",
       "      <th>frequency</th>\n",
       "      <th>recency</th>\n",
       "      <th>T</th>\n",
       "      <th>monetary_value</th>\n",
       "      <th>CLV</th>\n",
       "    </tr>\n",
       "  </thead>\n",
       "  <tbody>\n",
       "    <tr>\n",
       "      <th>0</th>\n",
       "      <td>17850</td>\n",
       "      <td>WHITE HANGING HEART T-LIGHT HOLDER</td>\n",
       "      <td>United Kingdom</td>\n",
       "      <td>1.0</td>\n",
       "      <td>1.0</td>\n",
       "      <td>373.0</td>\n",
       "      <td>3891.87</td>\n",
       "      <td>23.956975</td>\n",
       "    </tr>\n",
       "    <tr>\n",
       "      <th>1</th>\n",
       "      <td>17850</td>\n",
       "      <td>WHITE METAL LANTERN</td>\n",
       "      <td>United Kingdom</td>\n",
       "      <td>1.0</td>\n",
       "      <td>1.0</td>\n",
       "      <td>373.0</td>\n",
       "      <td>3891.87</td>\n",
       "      <td>23.956975</td>\n",
       "    </tr>\n",
       "    <tr>\n",
       "      <th>2</th>\n",
       "      <td>17850</td>\n",
       "      <td>CREAM CUPID HEARTS COAT HANGER</td>\n",
       "      <td>United Kingdom</td>\n",
       "      <td>1.0</td>\n",
       "      <td>1.0</td>\n",
       "      <td>373.0</td>\n",
       "      <td>3891.87</td>\n",
       "      <td>23.956975</td>\n",
       "    </tr>\n",
       "    <tr>\n",
       "      <th>3</th>\n",
       "      <td>17850</td>\n",
       "      <td>KNITTED UNION FLAG HOT WATER BOTTLE</td>\n",
       "      <td>United Kingdom</td>\n",
       "      <td>1.0</td>\n",
       "      <td>1.0</td>\n",
       "      <td>373.0</td>\n",
       "      <td>3891.87</td>\n",
       "      <td>23.956975</td>\n",
       "    </tr>\n",
       "    <tr>\n",
       "      <th>4</th>\n",
       "      <td>17850</td>\n",
       "      <td>RED WOOLLY HOTTIE WHITE HEART.</td>\n",
       "      <td>United Kingdom</td>\n",
       "      <td>1.0</td>\n",
       "      <td>1.0</td>\n",
       "      <td>373.0</td>\n",
       "      <td>3891.87</td>\n",
       "      <td>23.956975</td>\n",
       "    </tr>\n",
       "  </tbody>\n",
       "</table>\n",
       "</div>"
      ],
      "text/plain": [
       "   CustomerID                          Description         Country  frequency  \\\n",
       "0       17850   WHITE HANGING HEART T-LIGHT HOLDER  United Kingdom        1.0   \n",
       "1       17850                  WHITE METAL LANTERN  United Kingdom        1.0   \n",
       "2       17850       CREAM CUPID HEARTS COAT HANGER  United Kingdom        1.0   \n",
       "3       17850  KNITTED UNION FLAG HOT WATER BOTTLE  United Kingdom        1.0   \n",
       "4       17850       RED WOOLLY HOTTIE WHITE HEART.  United Kingdom        1.0   \n",
       "\n",
       "   recency      T  monetary_value        CLV  \n",
       "0      1.0  373.0         3891.87  23.956975  \n",
       "1      1.0  373.0         3891.87  23.956975  \n",
       "2      1.0  373.0         3891.87  23.956975  \n",
       "3      1.0  373.0         3891.87  23.956975  \n",
       "4      1.0  373.0         3891.87  23.956975  "
      ]
     },
     "execution_count": 47,
     "metadata": {},
     "output_type": "execute_result"
    }
   ],
   "source": [
    "df = merged_df[['CustomerID','Description','Country','frequency','recency','T','monetary_value','CLV']]\n",
    "df.head()"
   ]
  },
  {
   "cell_type": "code",
   "execution_count": 48,
   "id": "7b996238-2fac-469e-b11f-b895f0e18252",
   "metadata": {},
   "outputs": [
    {
     "data": {
      "text/html": [
       "<div>\n",
       "<style scoped>\n",
       "    .dataframe tbody tr th:only-of-type {\n",
       "        vertical-align: middle;\n",
       "    }\n",
       "\n",
       "    .dataframe tbody tr th {\n",
       "        vertical-align: top;\n",
       "    }\n",
       "\n",
       "    .dataframe thead th {\n",
       "        text-align: right;\n",
       "    }\n",
       "</style>\n",
       "<table border=\"1\" class=\"dataframe\">\n",
       "  <thead>\n",
       "    <tr style=\"text-align: right;\">\n",
       "      <th></th>\n",
       "      <th>CustomerID</th>\n",
       "      <th>Description</th>\n",
       "      <th>Country</th>\n",
       "      <th>frequency</th>\n",
       "      <th>recency</th>\n",
       "      <th>Time</th>\n",
       "      <th>monetary_value</th>\n",
       "      <th>CLV</th>\n",
       "    </tr>\n",
       "  </thead>\n",
       "  <tbody>\n",
       "    <tr>\n",
       "      <th>0</th>\n",
       "      <td>17850</td>\n",
       "      <td>WHITE HANGING HEART T-LIGHT HOLDER</td>\n",
       "      <td>United Kingdom</td>\n",
       "      <td>1.0</td>\n",
       "      <td>1.0</td>\n",
       "      <td>373.0</td>\n",
       "      <td>3891.87</td>\n",
       "      <td>23.956975</td>\n",
       "    </tr>\n",
       "    <tr>\n",
       "      <th>1</th>\n",
       "      <td>17850</td>\n",
       "      <td>WHITE METAL LANTERN</td>\n",
       "      <td>United Kingdom</td>\n",
       "      <td>1.0</td>\n",
       "      <td>1.0</td>\n",
       "      <td>373.0</td>\n",
       "      <td>3891.87</td>\n",
       "      <td>23.956975</td>\n",
       "    </tr>\n",
       "    <tr>\n",
       "      <th>2</th>\n",
       "      <td>17850</td>\n",
       "      <td>CREAM CUPID HEARTS COAT HANGER</td>\n",
       "      <td>United Kingdom</td>\n",
       "      <td>1.0</td>\n",
       "      <td>1.0</td>\n",
       "      <td>373.0</td>\n",
       "      <td>3891.87</td>\n",
       "      <td>23.956975</td>\n",
       "    </tr>\n",
       "    <tr>\n",
       "      <th>3</th>\n",
       "      <td>17850</td>\n",
       "      <td>KNITTED UNION FLAG HOT WATER BOTTLE</td>\n",
       "      <td>United Kingdom</td>\n",
       "      <td>1.0</td>\n",
       "      <td>1.0</td>\n",
       "      <td>373.0</td>\n",
       "      <td>3891.87</td>\n",
       "      <td>23.956975</td>\n",
       "    </tr>\n",
       "    <tr>\n",
       "      <th>4</th>\n",
       "      <td>17850</td>\n",
       "      <td>RED WOOLLY HOTTIE WHITE HEART.</td>\n",
       "      <td>United Kingdom</td>\n",
       "      <td>1.0</td>\n",
       "      <td>1.0</td>\n",
       "      <td>373.0</td>\n",
       "      <td>3891.87</td>\n",
       "      <td>23.956975</td>\n",
       "    </tr>\n",
       "  </tbody>\n",
       "</table>\n",
       "</div>"
      ],
      "text/plain": [
       "   CustomerID                          Description         Country  frequency  \\\n",
       "0       17850   WHITE HANGING HEART T-LIGHT HOLDER  United Kingdom        1.0   \n",
       "1       17850                  WHITE METAL LANTERN  United Kingdom        1.0   \n",
       "2       17850       CREAM CUPID HEARTS COAT HANGER  United Kingdom        1.0   \n",
       "3       17850  KNITTED UNION FLAG HOT WATER BOTTLE  United Kingdom        1.0   \n",
       "4       17850       RED WOOLLY HOTTIE WHITE HEART.  United Kingdom        1.0   \n",
       "\n",
       "   recency   Time  monetary_value        CLV  \n",
       "0      1.0  373.0         3891.87  23.956975  \n",
       "1      1.0  373.0         3891.87  23.956975  \n",
       "2      1.0  373.0         3891.87  23.956975  \n",
       "3      1.0  373.0         3891.87  23.956975  \n",
       "4      1.0  373.0         3891.87  23.956975  "
      ]
     },
     "execution_count": 48,
     "metadata": {},
     "output_type": "execute_result"
    }
   ],
   "source": [
    "df = df.rename(columns={'T':'Time'})\n",
    "df.head()"
   ]
  },
  {
   "cell_type": "code",
   "execution_count": 49,
   "id": "9690ca39-eebd-46cc-90b8-627a4bd7f4db",
   "metadata": {},
   "outputs": [
    {
     "data": {
      "text/plain": [
       "Description\n",
       "WHITE HANGING HEART T-LIGHT HOLDER    1854\n",
       "REGENCY CAKESTAND 3 TIER              1571\n",
       "JUMBO BAG RED RETROSPOT               1538\n",
       "ASSORTED COLOUR BIRD ORNAMENT         1285\n",
       "PARTY BUNTING                         1285\n",
       "                                      ... \n",
       "BIG POLKADOT MUG                         1\n",
       "PINK POLKADOT KIDS BAG                   1\n",
       "AMETHYST DIAMANTE EXPANDABLE RING        1\n",
       "CLAM SHELL LARGE                         1\n",
       "GOLD M.O.P. ORBIT NECKLACE               1\n",
       "Name: count, Length: 3840, dtype: int64"
      ]
     },
     "execution_count": 49,
     "metadata": {},
     "output_type": "execute_result"
    }
   ],
   "source": [
    "df['Description'].value_counts()"
   ]
  },
  {
   "cell_type": "code",
   "execution_count": 50,
   "id": "39c5d32c-71ed-4599-ac13-6eee40680130",
   "metadata": {},
   "outputs": [
    {
     "data": {
      "text/plain": [
       "CustomerID        2790\n",
       "Description       3840\n",
       "Country             32\n",
       "frequency           50\n",
       "recency            373\n",
       "Time               297\n",
       "monetary_value    2757\n",
       "CLV               2790\n",
       "dtype: int64"
      ]
     },
     "execution_count": 50,
     "metadata": {},
     "output_type": "execute_result"
    }
   ],
   "source": [
    "df.nunique()"
   ]
  },
  {
   "cell_type": "code",
   "execution_count": 51,
   "id": "d006e86e-ad67-4ed4-a125-02d59f483487",
   "metadata": {},
   "outputs": [
    {
     "data": {
      "text/plain": [
       "CustomerID          int64\n",
       "Description        object\n",
       "Country            object\n",
       "frequency         float64\n",
       "recency           float64\n",
       "Time              float64\n",
       "monetary_value    float64\n",
       "CLV               float64\n",
       "dtype: object"
      ]
     },
     "execution_count": 51,
     "metadata": {},
     "output_type": "execute_result"
    }
   ],
   "source": [
    "df.dtypes"
   ]
  },
  {
   "cell_type": "markdown",
   "id": "c20b2ee2-7625-40a7-a313-ffd6ed1ba5e6",
   "metadata": {},
   "source": [
    "**Removing CustomerID from the dataset as it cannot used in Model Training**"
   ]
  },
  {
   "cell_type": "code",
   "execution_count": 52,
   "id": "125b5929-cd2d-4135-8fb6-670ff77ee322",
   "metadata": {},
   "outputs": [],
   "source": [
    "df.drop('CustomerID', inplace=True, axis=1)"
   ]
  },
  {
   "cell_type": "code",
   "execution_count": 53,
   "id": "76b14805-09f5-47f4-8233-d052e93f2c81",
   "metadata": {},
   "outputs": [
    {
     "data": {
      "text/html": [
       "<div>\n",
       "<style scoped>\n",
       "    .dataframe tbody tr th:only-of-type {\n",
       "        vertical-align: middle;\n",
       "    }\n",
       "\n",
       "    .dataframe tbody tr th {\n",
       "        vertical-align: top;\n",
       "    }\n",
       "\n",
       "    .dataframe thead th {\n",
       "        text-align: right;\n",
       "    }\n",
       "</style>\n",
       "<table border=\"1\" class=\"dataframe\">\n",
       "  <thead>\n",
       "    <tr style=\"text-align: right;\">\n",
       "      <th></th>\n",
       "      <th>Description</th>\n",
       "      <th>Country</th>\n",
       "      <th>frequency</th>\n",
       "      <th>recency</th>\n",
       "      <th>Time</th>\n",
       "      <th>monetary_value</th>\n",
       "      <th>CLV</th>\n",
       "    </tr>\n",
       "  </thead>\n",
       "  <tbody>\n",
       "    <tr>\n",
       "      <th>0</th>\n",
       "      <td>WHITE HANGING HEART T-LIGHT HOLDER</td>\n",
       "      <td>United Kingdom</td>\n",
       "      <td>1.0</td>\n",
       "      <td>1.0</td>\n",
       "      <td>373.0</td>\n",
       "      <td>3891.87</td>\n",
       "      <td>23.956975</td>\n",
       "    </tr>\n",
       "    <tr>\n",
       "      <th>1</th>\n",
       "      <td>WHITE METAL LANTERN</td>\n",
       "      <td>United Kingdom</td>\n",
       "      <td>1.0</td>\n",
       "      <td>1.0</td>\n",
       "      <td>373.0</td>\n",
       "      <td>3891.87</td>\n",
       "      <td>23.956975</td>\n",
       "    </tr>\n",
       "  </tbody>\n",
       "</table>\n",
       "</div>"
      ],
      "text/plain": [
       "                          Description         Country  frequency  recency  \\\n",
       "0  WHITE HANGING HEART T-LIGHT HOLDER  United Kingdom        1.0      1.0   \n",
       "1                 WHITE METAL LANTERN  United Kingdom        1.0      1.0   \n",
       "\n",
       "    Time  monetary_value        CLV  \n",
       "0  373.0         3891.87  23.956975  \n",
       "1  373.0         3891.87  23.956975  "
      ]
     },
     "execution_count": 53,
     "metadata": {},
     "output_type": "execute_result"
    }
   ],
   "source": [
    "df.head(2)"
   ]
  },
  {
   "cell_type": "markdown",
   "id": "4754a045-0016-4810-8e6b-30ebf1cfe389",
   "metadata": {},
   "source": [
    "**Round the 'CLV' column to 2 decimal places**"
   ]
  },
  {
   "cell_type": "code",
   "execution_count": 54,
   "id": "1121ab44-7f70-406c-ae73-732e0225123d",
   "metadata": {},
   "outputs": [],
   "source": [
    "df['CLV'] = df['CLV'].round(2)"
   ]
  },
  {
   "cell_type": "code",
   "execution_count": 55,
   "id": "04ccf8b1-870d-4383-a915-5ca373bca658",
   "metadata": {},
   "outputs": [
    {
     "data": {
      "text/html": [
       "<div>\n",
       "<style scoped>\n",
       "    .dataframe tbody tr th:only-of-type {\n",
       "        vertical-align: middle;\n",
       "    }\n",
       "\n",
       "    .dataframe tbody tr th {\n",
       "        vertical-align: top;\n",
       "    }\n",
       "\n",
       "    .dataframe thead th {\n",
       "        text-align: right;\n",
       "    }\n",
       "</style>\n",
       "<table border=\"1\" class=\"dataframe\">\n",
       "  <thead>\n",
       "    <tr style=\"text-align: right;\">\n",
       "      <th></th>\n",
       "      <th>Description</th>\n",
       "      <th>Country</th>\n",
       "      <th>frequency</th>\n",
       "      <th>recency</th>\n",
       "      <th>Time</th>\n",
       "      <th>monetary_value</th>\n",
       "      <th>CLV</th>\n",
       "    </tr>\n",
       "  </thead>\n",
       "  <tbody>\n",
       "    <tr>\n",
       "      <th>0</th>\n",
       "      <td>WHITE HANGING HEART T-LIGHT HOLDER</td>\n",
       "      <td>United Kingdom</td>\n",
       "      <td>1.0</td>\n",
       "      <td>1.0</td>\n",
       "      <td>373.0</td>\n",
       "      <td>3891.87</td>\n",
       "      <td>23.96</td>\n",
       "    </tr>\n",
       "    <tr>\n",
       "      <th>1</th>\n",
       "      <td>WHITE METAL LANTERN</td>\n",
       "      <td>United Kingdom</td>\n",
       "      <td>1.0</td>\n",
       "      <td>1.0</td>\n",
       "      <td>373.0</td>\n",
       "      <td>3891.87</td>\n",
       "      <td>23.96</td>\n",
       "    </tr>\n",
       "  </tbody>\n",
       "</table>\n",
       "</div>"
      ],
      "text/plain": [
       "                          Description         Country  frequency  recency  \\\n",
       "0  WHITE HANGING HEART T-LIGHT HOLDER  United Kingdom        1.0      1.0   \n",
       "1                 WHITE METAL LANTERN  United Kingdom        1.0      1.0   \n",
       "\n",
       "    Time  monetary_value    CLV  \n",
       "0  373.0         3891.87  23.96  \n",
       "1  373.0         3891.87  23.96  "
      ]
     },
     "execution_count": 55,
     "metadata": {},
     "output_type": "execute_result"
    }
   ],
   "source": [
    "df.head(2)"
   ]
  },
  {
   "cell_type": "markdown",
   "id": "57a413cb-6469-45ca-a237-aadddfd5dbe3",
   "metadata": {},
   "source": [
    "### 3.2 Feature Engineering \n",
    "\n",
    "#### (a). Types of Features\n",
    "\n",
    "**Numeric Features**"
   ]
  },
  {
   "cell_type": "code",
   "execution_count": 56,
   "id": "f64be240-f725-4c7a-8652-aa57c3f661c2",
   "metadata": {},
   "outputs": [
    {
     "name": "stdout",
     "output_type": "stream",
     "text": [
      "Num of Numerical Features : 5\n"
     ]
    }
   ],
   "source": [
    "num_features = [feature for feature in df.columns if df[feature].dtype != 'O']\n",
    "print('Num of Numerical Features :', len(num_features))"
   ]
  },
  {
   "cell_type": "markdown",
   "id": "456e2962-7956-4275-b864-e3cc96271e23",
   "metadata": {},
   "source": [
    "**Categorical Features**"
   ]
  },
  {
   "cell_type": "code",
   "execution_count": 57,
   "id": "aa34ec79-382d-4b44-9db1-81250b2e16c4",
   "metadata": {},
   "outputs": [
    {
     "name": "stdout",
     "output_type": "stream",
     "text": [
      "Num of Categorical Features : 2\n"
     ]
    }
   ],
   "source": [
    "cat_features = [feature for feature in df.columns if df[feature].dtype == 'O']\n",
    "print('Num of Categorical Features :', len(cat_features))"
   ]
  },
  {
   "cell_type": "markdown",
   "id": "a65419cf-e674-4bba-bb72-1b9c78a5fd35",
   "metadata": {},
   "source": [
    "**Discrete Features**"
   ]
  },
  {
   "cell_type": "code",
   "execution_count": 58,
   "id": "2474db85-f6de-4ab2-be61-d672fc534956",
   "metadata": {},
   "outputs": [
    {
     "name": "stdout",
     "output_type": "stream",
     "text": [
      "Num of Discrete Features : 0\n"
     ]
    }
   ],
   "source": [
    "discrete_features=[feature for feature in num_features if len(df[feature].unique())<=25]\n",
    "print('Num of Discrete Features :',len(discrete_features))"
   ]
  },
  {
   "cell_type": "markdown",
   "id": "3bc59b31-1aa2-4827-9f98-1a0ca0dc5f6a",
   "metadata": {},
   "source": [
    "**Continuous Features**"
   ]
  },
  {
   "cell_type": "code",
   "execution_count": 59,
   "id": "8b6c645b-a6d3-454e-8286-5cc2b2e14bbc",
   "metadata": {},
   "outputs": [
    {
     "name": "stdout",
     "output_type": "stream",
     "text": [
      "Num of Continuous Features : 5\n"
     ]
    }
   ],
   "source": [
    "continuous_features=[feature for feature in num_features if feature not in discrete_features]\n",
    "print('Num of Continuous Features :',len(continuous_features))"
   ]
  },
  {
   "cell_type": "markdown",
   "id": "3e518438-c2c5-484e-8641-185134f9b855",
   "metadata": {},
   "source": [
    "#### Split X and Y\n",
    "\n",
    "**-Split Dataframe to X and y**\n",
    "\n",
    "**-Here we set a variable X i.e, independent columns, and a variable y i.e, dependent column as the \"CLV\" column.**"
   ]
  },
  {
   "cell_type": "code",
   "execution_count": 60,
   "id": "29202124-3228-4113-95db-860065d94512",
   "metadata": {},
   "outputs": [],
   "source": [
    "X = df.drop('CLV', axis=1)\n",
    "y = df['CLV']"
   ]
  },
  {
   "cell_type": "code",
   "execution_count": 61,
   "id": "fbcca80b-5a35-44a5-a1e5-f6d7cdbad0d5",
   "metadata": {},
   "outputs": [
    {
     "data": {
      "text/plain": [
       "0    23.96\n",
       "1    23.96\n",
       "2    23.96\n",
       "3    23.96\n",
       "4    23.96\n",
       "Name: CLV, dtype: float64"
      ]
     },
     "execution_count": 61,
     "metadata": {},
     "output_type": "execute_result"
    }
   ],
   "source": [
    "y.head()"
   ]
  },
  {
   "cell_type": "markdown",
   "id": "cb9385aa-ce69-4740-8365-4c6ecf7c3812",
   "metadata": {
    "jp-MarkdownHeadingCollapsed": true
   },
   "source": [
    "**Distribution of data before scaling**"
   ]
  },
  {
   "cell_type": "code",
   "execution_count": 62,
   "id": "6f3d6cc6-4dcd-481b-b1b9-2c1d9e954acc",
   "metadata": {},
   "outputs": [
    {
     "data": {
      "image/png": "[encoded data removed]",
      "text/plain": [
       "<Figure size 1200x600 with 4 Axes>"
      ]
     },
     "metadata": {},
     "output_type": "display_data"
    }
   ],
   "source": [
    "plt.figure(figsize=(12, 6))\n",
    "for i, col in enumerate(['frequency','recency','Time','monetary_value']):\n",
    "    plt.subplot(2, 2, i+1)\n",
    "    sns.histplot(x=X[col], color='indianred')\n",
    "    plt.xlabel(col)\n",
    "    plt.tight_layout()"
   ]
  },
  {
   "cell_type": "markdown",
   "id": "29224ccb-6a73-4f36-827f-88b0fa949f5b",
   "metadata": {},
   "source": [
    "- All the columns are skewed\n",
    "- Applying a power transform featurewise to make data more Gaussian-like\n",
    "\n",
    "Power transforms are a family of parametric, monotonic transformations that are applied to make data more Gaussian-like. This is useful for modeling issues related to heteroscedasticity (non-constant variance), or other situations where normality is desired.\r\n",
    "\r\n",
    "Currently, PowerTransformer supports the Box-Cox transform and the Yeo-Johnson transfor\n",
    "\n",
    "**What is Skewness?**\n",
    "- Skewness refers to a distortion or asymmetry that deviates from the symmetrical bell curve, or normal distribution, in a set of data. If the curve is shifted to the left or to the right, it is said to be skewed. Skewness can be quantified as a representation of the extent to which a given distribution varies from a normal distribution. A normal distribution has a skew of zerom."
   ]
  },
  {
   "cell_type": "code",
   "execution_count": 63,
   "id": "ba3ae78b-da85-42ba-a962-b422b9a254ee",
   "metadata": {},
   "outputs": [
    {
     "data": {
      "text/plain": [
       "['frequency', 'recency', 'Time', 'monetary_value', 'CLV']"
      ]
     },
     "execution_count": 63,
     "metadata": {},
     "output_type": "execute_result"
    }
   ],
   "source": [
    "continuous_features"
   ]
  },
  {
   "cell_type": "code",
   "execution_count": 64,
   "id": "bad94754-39e3-492e-ac54-69f3221336ed",
   "metadata": {},
   "outputs": [
    {
     "data": {
      "text/plain": [
       "frequency          3.045861\n",
       "recency           -0.858016\n",
       "Time              -1.300040\n",
       "monetary_value    35.909875\n",
       "dtype: float64"
      ]
     },
     "execution_count": 64,
     "metadata": {},
     "output_type": "execute_result"
    }
   ],
   "source": [
    "# Remove 'CLV' from continuous_features\n",
    "continuous_features = [col for col in continuous_features if col != 'CLV']\n",
    "\n",
    "# Check the skewness of the remaining continuous features\n",
    "X[continuous_features].skew(axis=0, skipna=True)\n"
   ]
  },
  {
   "cell_type": "markdown",
   "id": "a9f25906-1dcc-42e8-b7a0-b15eb3b2ffca",
   "metadata": {},
   "source": [
    "- Positiviely Skewed : frequency, monetary_value\r",
    "- Negatively Skewed : recency, Time\n",
    "\n",
    "\n",
    "We can handle outliers and then check the skewness."
   ]
  },
  {
   "cell_type": "markdown",
   "id": "3cbb2431-3a30-444c-a6db-c83c133150c1",
   "metadata": {},
   "source": [
    "#### Apply Power Transformer to Check if it can reduces the outliers"
   ]
  },
  {
   "cell_type": "code",
   "execution_count": 65,
   "id": "391d3fd3-3c34-4b19-a766-4cbd742d8c7f",
   "metadata": {},
   "outputs": [],
   "source": [
    "from sklearn.preprocessing import PowerTransformer\n",
    "pt = PowerTransformer(method = 'yeo-johnson')\n",
    "transform_features = ['frequency', 'recency', 'Time', 'monetary_value']\n",
    "X_copy = pt.fit_transform(X[transform_features])"
   ]
  },
  {
   "cell_type": "code",
   "execution_count": 66,
   "id": "0293d11a-dd44-44cd-9eef-2b433830a90f",
   "metadata": {},
   "outputs": [],
   "source": [
    "X_copy = pd.DataFrame(X_copy, columns=transform_features)"
   ]
  },
  {
   "cell_type": "code",
   "execution_count": 67,
   "id": "b5049798-25ee-443c-984e-a2a69f406d9d",
   "metadata": {},
   "outputs": [
    {
     "data": {
      "image/png": "[encoded data removed]",
      "text/plain": [
       "<Figure size 1200x1000 with 4 Axes>"
      ]
     },
     "metadata": {},
     "output_type": "display_data"
    }
   ],
   "source": [
    "# Number of features to plot\n",
    "num_features = len(transform_features)\n",
    "\n",
    "# Calculate the number of rows needed\n",
    "num_rows = (num_features + 1) // 2  # This ensures that we round up when needed\n",
    "\n",
    "plt.figure(figsize=(12, 5 * num_rows))  # Adjust figure height based on number of rows\n",
    "\n",
    "for i, col in enumerate(transform_features):\n",
    "    plt.subplot(num_rows, 2, i + 1)  # Adjust the subplot to have enough rows\n",
    "    sns.histplot(x=X_copy[col], color='indianred')\n",
    "    plt.xlabel(col)\n",
    "\n",
    "plt.tight_layout()\n",
    "plt.show()"
   ]
  },
  {
   "cell_type": "code",
   "execution_count": 68,
   "id": "8eefa352-aaee-425c-a0b4-f3097e96f6fb",
   "metadata": {},
   "outputs": [
    {
     "data": {
      "text/plain": [
       "frequency         0.077511\n",
       "recency          -0.573851\n",
       "Time             -0.688332\n",
       "monetary_value   -0.128374\n",
       "dtype: float64"
      ]
     },
     "execution_count": 68,
     "metadata": {},
     "output_type": "execute_result"
    }
   ],
   "source": [
    "X_copy.skew(axis=0, skipna=True)"
   ]
  },
  {
   "cell_type": "markdown",
   "id": "be92e6e9-1c29-4a53-9f50-bf03f56d141a",
   "metadata": {},
   "source": [
    "### Understanding the Skewness Values:\n",
    "1. **`frequency: 0.077511`**: \n",
    "   - This value is close to **0**, indicating that the distribution of `frequency` is approximately symmetric. It suggests that the transformation was effective in normalizing the distribution.\n",
    "\n",
    "2. **`recency: -0.573851`**: \n",
    "   - This value indicates a moderate **negative skew**. The distribution has a longer left tail. Although it's better than being highly skewed, there's still some negative skewness present.\n",
    "\n",
    "3. **`Time: -0.688332`**: \n",
    "   - Similar to `recency`, this indicates a moderate negative skew. Again, it's an improvement, but not perfectly normal.\n",
    "\n",
    "4. **`monetary_value: -0.128374`**: \n",
    "   - This value is also close to **0**, indicating that the `monetary_value` distribution is near symmetric, suggesting effective normalization.\n",
    "\n",
    "### Interpretation:\n",
    "- **General Impact**: The Yeo-Johnson transformation has helped reduce the skewness of the features. While some features like `frequency` and `monetary_value` are now nearly symmetric, `recency` and `Time` still exhibit some skewness but are significantly improved from their original values."
   ]
  },
  {
   "cell_type": "markdown",
   "id": "d3a18eeb-b433-4f2d-837b-2c9376b52776",
   "metadata": {},
   "source": [
    "### 3.3 Feature Encoding and Scaling\n",
    "\n",
    "**One Hot Encoding for Columns which had lesser unique values and not ordinal**\n",
    "\n",
    "- One hot encoding is a process by which categorical variables are converted into a form that could be provided to ML algorithms to do a better job in prediction.\n",
    "\n",
    "**Ordinal Encoding for Columns which has many unique categories**\n",
    "-  Ordinal encoding is used here as label encoder is supported for column transformer- .\n",
    "- ordinal encoding is used for Ordinal Variable. Variable comprises a finite set of discrete values with a ranked ordering between valu\n",
    "\n",
    "**Standard Scaler**\n",
    "\n",
    "- Standardize features by removing the mean and scaling to unit variance.\n",
    "\n",
    "**Power Transformer**\n",
    "- Power transforms are a technique for transforming numerical input or output variables to have a Gaussian or more-Gaussian-like probability distribution.es."
   ]
  },
  {
   "cell_type": "code",
   "execution_count": 69,
   "id": "992dbe77-9ad1-4b4d-9fb6-1af323708743",
   "metadata": {},
   "outputs": [],
   "source": [
    "num_features = list(X.select_dtypes(exclude=\"object\").columns)"
   ]
  },
  {
   "cell_type": "code",
   "execution_count": 70,
   "id": "40a75ea5-d044-4b51-9380-de2d171ffc54",
   "metadata": {},
   "outputs": [
    {
     "data": {
      "text/plain": [
       "['frequency', 'recency', 'Time', 'monetary_value']"
      ]
     },
     "execution_count": 70,
     "metadata": {},
     "output_type": "execute_result"
    }
   ],
   "source": [
    "num_features"
   ]
  },
  {
   "cell_type": "markdown",
   "id": "4eb93159-caf7-4822-9f10-d1bd4882c20a",
   "metadata": {},
   "source": [
    "#### Preprocessing using ColumnTransformer"
   ]
  },
  {
   "cell_type": "code",
   "execution_count": 72,
   "id": "2e145b76-b049-4e05-bafe-a2e2805bb2c8",
   "metadata": {},
   "outputs": [
    {
     "data": {
      "text/plain": [
       "['frequency', 'recency', 'Time', 'monetary_value']"
      ]
     },
     "execution_count": 72,
     "metadata": {},
     "output_type": "execute_result"
    }
   ],
   "source": [
    "num_features"
   ]
  },
  {
   "cell_type": "code",
   "execution_count": 73,
   "id": "126f2042-92c7-4a22-9d9c-4bb93d0c81ba",
   "metadata": {},
   "outputs": [
    {
     "data": {
      "text/plain": [
       "['Description', 'Country']"
      ]
     },
     "execution_count": 73,
     "metadata": {},
     "output_type": "execute_result"
    }
   ],
   "source": [
    "cat_features"
   ]
  },
  {
   "cell_type": "code",
   "execution_count": 74,
   "id": "c271b108-a43c-4fc2-aed0-a69111d01875",
   "metadata": {},
   "outputs": [],
   "source": [
    "# Create Column Transformer with 3 types of transformers\n",
    "oh_columns = ['Description', 'Country']\n",
    "transform_columns = ['frequency', 'recency', 'Time', 'monetary_value']\n",
    "\n",
    "from sklearn.preprocessing import OneHotEncoder, StandardScaler, PowerTransformer\n",
    "from sklearn.compose import ColumnTransformer\n",
    "from sklearn.pipeline import Pipeline\n",
    "\n",
    "numeric_transformer = StandardScaler()\n",
    "oh_transformer = OneHotEncoder()\n",
    "\n",
    "transform_pipe = Pipeline(steps=[\n",
    "    ('transformer', PowerTransformer(method='yeo-johnson'))\n",
    "])\n",
    "\n",
    "preprocessor = ColumnTransformer(\n",
    "    [\n",
    "        (\"OneHotEncoder\", oh_transformer, oh_columns),\n",
    "        (\"Transformer\", transform_pipe, transform_columns),\n",
    "        (\"StandardScaler\", numeric_transformer, num_features)\n",
    "    ]\n",
    ")"
   ]
  },
  {
   "cell_type": "code",
   "execution_count": 75,
   "id": "ec6001e6-3206-407f-a86a-0ba830d6199e",
   "metadata": {},
   "outputs": [],
   "source": [
    "X = preprocessor.fit_transform(X)"
   ]
  },
  {
   "cell_type": "code",
   "execution_count": 76,
   "id": "fc605556-d8a4-4de0-9dda-8751667a429f",
   "metadata": {},
   "outputs": [
    {
     "data": {
      "text/plain": [
       "<361882x3880 sparse matrix of type '<class 'numpy.float64'>'\n",
       "\twith 3618820 stored elements in Compressed Sparse Row format>"
      ]
     },
     "execution_count": 76,
     "metadata": {},
     "output_type": "execute_result"
    }
   ],
   "source": [
    "X"
   ]
  },
  {
   "cell_type": "code",
   "execution_count": 77,
   "id": "bf21ed30-ae71-4483-a2eb-e543671e368a",
   "metadata": {},
   "outputs": [
    {
     "data": {
      "text/plain": [
       "(361882, 3880)"
      ]
     },
     "execution_count": 77,
     "metadata": {},
     "output_type": "execute_result"
    }
   ],
   "source": [
    "X.shape"
   ]
  },
  {
   "cell_type": "markdown",
   "id": "7e773511-ee95-4058-a4fd-5b622faa23f9",
   "metadata": {},
   "source": [
    "### 3.4 Model Building\n",
    "\n",
    "**train_test_split**\n",
    "- The train-test split procedure is used to estimate the performance of machine learning algorithms when they are used to make predictions on data not used to train the model.\n",
    "- It is a fast and easy procedure to perform, the results of which allow you to compare the performance of machine learning algorithms."
   ]
  },
  {
   "cell_type": "code",
   "execution_count": 79,
   "id": "4fd5880c-d096-4b6d-bea1-2fb863a3893d",
   "metadata": {},
   "outputs": [
    {
     "data": {
      "text/plain": [
       "((289505, 3880), (72377, 3880))"
      ]
     },
     "execution_count": 79,
     "metadata": {},
     "output_type": "execute_result"
    }
   ],
   "source": [
    "# separate dataset into train and test\n",
    "from sklearn.model_selection import train_test_split\n",
    "X_train, X_test, y_train, y_test = train_test_split(X,y,test_size=0.2,random_state=42)\n",
    "X_train.shape, X_test.shape"
   ]
  },
  {
   "cell_type": "code",
   "execution_count": 81,
   "id": "1039c2cc-6054-4041-b253-d0e4f4358595",
   "metadata": {},
   "outputs": [],
   "source": [
    "# Modelling\n",
    "from sklearn.metrics import mean_squared_error, r2_score\n",
    "from sklearn.neighbors import KNeighborsRegressor\n",
    "from sklearn.tree import DecisionTreeRegressor\n",
    "from sklearn.ensemble import RandomForestRegressor,AdaBoostRegressor\n",
    "from sklearn.svm import SVR\n",
    "from sklearn.linear_model import LinearRegression, Ridge,Lasso\n",
    "from sklearn.metrics import r2_score, mean_absolute_error, mean_squared_error\n",
    "from sklearn.model_selection import RandomizedSearchCV\n",
    "from catboost import CatBoostRegressor\n",
    "from xgboost import XGBRegressor\n",
    "import warnings"
   ]
  },
  {
   "cell_type": "markdown",
   "id": "7f65c2ce-1429-469f-b5a6-a71484925e98",
   "metadata": {},
   "source": [
    "**Create an Evaluate Function to give all metrics after model training**"
   ]
  },
  {
   "cell_type": "code",
   "execution_count": 82,
   "id": "5d03abd8-6fc8-47b0-8b2e-52972a7dd9d9",
   "metadata": {},
   "outputs": [],
   "source": [
    "def evaluate_model(true, predicted):\n",
    "    mae = mean_absolute_error(true, predicted)\n",
    "    mse = mean_squared_error(true, predicted)\n",
    "    rmse = np.sqrt(mean_squared_error(true, predicted))\n",
    "    r2_square = r2_score(true, predicted)\n",
    "    return mae, rmse, r2_square"
   ]
  },
  {
   "cell_type": "code",
   "execution_count": 83,
   "id": "884fbd5c-3da9-4039-ba20-e66231d87d36",
   "metadata": {},
   "outputs": [
    {
     "name": "stdout",
     "output_type": "stream",
     "text": [
      "Linear Regression\n",
      "Model performance for Training set\n",
      "- Root Mean Squared Error: 49.1492\n",
      "- Mean Absolute Error: 25.0190\n",
      "- R2 Score: 0.8536\n",
      "----------------------------------\n",
      "Model performance for Test set\n",
      "- Root Mean Squared Error: 44.1114\n",
      "- Mean Absolute Error: 25.2432\n",
      "- R2 Score: 0.8825\n",
      "===================================\n",
      "\n",
      "\n",
      "Lasso\n",
      "Model performance for Training set\n",
      "- Root Mean Squared Error: 55.6064\n",
      "- Mean Absolute Error: 28.2416\n",
      "- R2 Score: 0.8127\n",
      "----------------------------------\n",
      "Model performance for Test set\n",
      "- Root Mean Squared Error: 48.9618\n",
      "- Mean Absolute Error: 28.1241\n",
      "- R2 Score: 0.8552\n",
      "===================================\n",
      "\n",
      "\n",
      "Ridge\n",
      "Model performance for Training set\n",
      "- Root Mean Squared Error: 49.7995\n",
      "- Mean Absolute Error: 25.7219\n",
      "- R2 Score: 0.8497\n",
      "----------------------------------\n",
      "Model performance for Test set\n",
      "- Root Mean Squared Error: 45.1765\n",
      "- Mean Absolute Error: 25.9098\n",
      "- R2 Score: 0.8767\n",
      "===================================\n",
      "\n",
      "\n",
      "K-Neighbors Regressor\n",
      "Model performance for Training set\n",
      "- Root Mean Squared Error: 6.5957\n",
      "- Mean Absolute Error: 2.0886\n",
      "- R2 Score: 0.9974\n",
      "----------------------------------\n",
      "Model performance for Test set\n",
      "- Root Mean Squared Error: 7.8343\n",
      "- Mean Absolute Error: 2.7297\n",
      "- R2 Score: 0.9963\n",
      "===================================\n",
      "\n",
      "\n",
      "Decision Tree\n",
      "Model performance for Training set\n",
      "- Root Mean Squared Error: 0.0000\n",
      "- Mean Absolute Error: 0.0000\n",
      "- R2 Score: 1.0000\n",
      "----------------------------------\n",
      "Model performance for Test set\n",
      "- Root Mean Squared Error: 0.0003\n",
      "- Mean Absolute Error: 0.0000\n",
      "- R2 Score: 1.0000\n",
      "===================================\n",
      "\n",
      "\n",
      "Random Forest Regressor\n",
      "Model performance for Training set\n",
      "- Root Mean Squared Error: 0.5713\n",
      "- Mean Absolute Error: 0.0018\n",
      "- R2 Score: 1.0000\n",
      "----------------------------------\n",
      "Model performance for Test set\n",
      "- Root Mean Squared Error: 0.0023\n",
      "- Mean Absolute Error: 0.0000\n",
      "- R2 Score: 1.0000\n",
      "===================================\n",
      "\n",
      "\n",
      "XGBRegressor\n",
      "Model performance for Training set\n",
      "- Root Mean Squared Error: 0.1823\n",
      "- Mean Absolute Error: 0.1219\n",
      "- R2 Score: 1.0000\n",
      "----------------------------------\n",
      "Model performance for Test set\n",
      "- Root Mean Squared Error: 0.1863\n",
      "- Mean Absolute Error: 0.1230\n",
      "- R2 Score: 1.0000\n",
      "===================================\n",
      "\n",
      "\n",
      "CatBoosting Regressor\n",
      "Model performance for Training set\n",
      "- Root Mean Squared Error: 0.1319\n",
      "- Mean Absolute Error: 0.0896\n",
      "- R2 Score: 1.0000\n",
      "----------------------------------\n",
      "Model performance for Test set\n",
      "- Root Mean Squared Error: 0.1314\n",
      "- Mean Absolute Error: 0.0903\n",
      "- R2 Score: 1.0000\n",
      "===================================\n",
      "\n",
      "\n",
      "AdaBoost Regressor\n",
      "Model performance for Training set\n",
      "- Root Mean Squared Error: 26.4134\n",
      "- Mean Absolute Error: 16.2766\n",
      "- R2 Score: 0.9577\n",
      "----------------------------------\n",
      "Model performance for Test set\n",
      "- Root Mean Squared Error: 26.7139\n",
      "- Mean Absolute Error: 16.4243\n",
      "- R2 Score: 0.9569\n",
      "===================================\n",
      "\n",
      "\n"
     ]
    }
   ],
   "source": [
    "models = {\n",
    "    \"Linear Regression\": LinearRegression(),\n",
    "    \"Lasso\": Lasso(),\n",
    "    \"Ridge\": Ridge(),\n",
    "    \"K-Neighbors Regressor\": KNeighborsRegressor(),\n",
    "    \"Decision Tree\": DecisionTreeRegressor(),\n",
    "    \"Random Forest Regressor\": RandomForestRegressor(),\n",
    "    \"XGBRegressor\": XGBRegressor(), \n",
    "    \"CatBoosting Regressor\": CatBoostRegressor(verbose=False),\n",
    "    \"AdaBoost Regressor\": AdaBoostRegressor()\n",
    "}\n",
    "model_list = []\n",
    "r2_list =[]\n",
    "\n",
    "\n",
    "for i in range(len(list(models))):\n",
    "    model = list(models.values())[i]\n",
    "    model.fit(X_train, y_train) # Train model\n",
    "\n",
    "    # Make predictions\n",
    "    y_train_pred = model.predict(X_train)\n",
    "    y_test_pred = model.predict(X_test)\n",
    "    \n",
    "    # Evaluate Train and Test dataset\n",
    "    model_train_mae , model_train_rmse, model_train_r2 = evaluate_model(y_train, y_train_pred)\n",
    "\n",
    "    model_test_mae , model_test_rmse, model_test_r2 = evaluate_model(y_test, y_test_pred)\n",
    "\n",
    "    print(list(models.keys())[i])\n",
    "    model_list.append(list(models.keys())[i])\n",
    "    \n",
    "    print('Model performance for Training set')\n",
    "    print(\"- Root Mean Squared Error: {:.4f}\".format(model_train_rmse))\n",
    "    print(\"- Mean Absolute Error: {:.4f}\".format(model_train_mae))\n",
    "    print(\"- R2 Score: {:.4f}\".format(model_train_r2))\n",
    "\n",
    "    print('----------------------------------')\n",
    "    \n",
    "    print('Model performance for Test set')\n",
    "    print(\"- Root Mean Squared Error: {:.4f}\".format(model_test_rmse))\n",
    "    print(\"- Mean Absolute Error: {:.4f}\".format(model_test_mae))\n",
    "    print(\"- R2 Score: {:.4f}\".format(model_test_r2))\n",
    "    r2_list.append(model_test_r2)\n",
    "    \n",
    "    print('='*35)\n",
    "    print('\\n')\n",
    "    "
   ]
  },
  {
   "cell_type": "code",
   "execution_count": 84,
   "id": "c5c854a3-d3b1-4c77-aba2-aa26e6449199",
   "metadata": {},
   "outputs": [
    {
     "data": {
      "text/html": [
       "<div>\n",
       "<style scoped>\n",
       "    .dataframe tbody tr th:only-of-type {\n",
       "        vertical-align: middle;\n",
       "    }\n",
       "\n",
       "    .dataframe tbody tr th {\n",
       "        vertical-align: top;\n",
       "    }\n",
       "\n",
       "    .dataframe thead th {\n",
       "        text-align: right;\n",
       "    }\n",
       "</style>\n",
       "<table border=\"1\" class=\"dataframe\">\n",
       "  <thead>\n",
       "    <tr style=\"text-align: right;\">\n",
       "      <th></th>\n",
       "      <th>Model Name</th>\n",
       "      <th>R2_Score</th>\n",
       "    </tr>\n",
       "  </thead>\n",
       "  <tbody>\n",
       "    <tr>\n",
       "      <th>4</th>\n",
       "      <td>Decision Tree</td>\n",
       "      <td>1.000000</td>\n",
       "    </tr>\n",
       "    <tr>\n",
       "      <th>5</th>\n",
       "      <td>Random Forest Regressor</td>\n",
       "      <td>1.000000</td>\n",
       "    </tr>\n",
       "    <tr>\n",
       "      <th>7</th>\n",
       "      <td>CatBoosting Regressor</td>\n",
       "      <td>0.999999</td>\n",
       "    </tr>\n",
       "    <tr>\n",
       "      <th>6</th>\n",
       "      <td>XGBRegressor</td>\n",
       "      <td>0.999998</td>\n",
       "    </tr>\n",
       "    <tr>\n",
       "      <th>3</th>\n",
       "      <td>K-Neighbors Regressor</td>\n",
       "      <td>0.996293</td>\n",
       "    </tr>\n",
       "    <tr>\n",
       "      <th>8</th>\n",
       "      <td>AdaBoost Regressor</td>\n",
       "      <td>0.956892</td>\n",
       "    </tr>\n",
       "    <tr>\n",
       "      <th>0</th>\n",
       "      <td>Linear Regression</td>\n",
       "      <td>0.882461</td>\n",
       "    </tr>\n",
       "    <tr>\n",
       "      <th>2</th>\n",
       "      <td>Ridge</td>\n",
       "      <td>0.876717</td>\n",
       "    </tr>\n",
       "    <tr>\n",
       "      <th>1</th>\n",
       "      <td>Lasso</td>\n",
       "      <td>0.855191</td>\n",
       "    </tr>\n",
       "  </tbody>\n",
       "</table>\n",
       "</div>"
      ],
      "text/plain": [
       "                Model Name  R2_Score\n",
       "4            Decision Tree  1.000000\n",
       "5  Random Forest Regressor  1.000000\n",
       "7    CatBoosting Regressor  0.999999\n",
       "6             XGBRegressor  0.999998\n",
       "3    K-Neighbors Regressor  0.996293\n",
       "8       AdaBoost Regressor  0.956892\n",
       "0        Linear Regression  0.882461\n",
       "2                    Ridge  0.876717\n",
       "1                    Lasso  0.855191"
      ]
     },
     "execution_count": 84,
     "metadata": {},
     "output_type": "execute_result"
    }
   ],
   "source": [
    "pd.DataFrame(list(zip(model_list, r2_list)), columns=['Model Name', 'R2_Score']).sort_values(by=[\"R2_Score\"],ascending=False)"
   ]
  },
  {
   "cell_type": "markdown",
   "id": "a145f484-186d-4b7f-8883-47c01356acf5",
   "metadata": {},
   "source": [
    "### The top 3 models are Decision Tree Regressor, Random Forest Regressor, and CatBoosting Regressor"
   ]
  },
  {
   "cell_type": "code",
   "execution_count": 90,
   "id": "18f3b8d4-4730-4885-a764-85ee48d82404",
   "metadata": {},
   "outputs": [
    {
     "name": "stdout",
     "output_type": "stream",
     "text": [
      "Accuracy of the model is 100.00\n"
     ]
    }
   ],
   "source": [
    "d_tree_model = DecisionTreeRegressor()\n",
    "d_tree_model = d_tree_model.fit(X_train, y_train)\n",
    "y_pred = d_tree_model.predict(X_test)\n",
    "score = r2_score(y_test, y_pred)*100\n",
    "print(\"Accuracy of the model is %.2f\" %score)"
   ]
  },
  {
   "cell_type": "code",
   "execution_count": 91,
   "id": "807105de-d973-4e86-aad0-4675dbab591a",
   "metadata": {},
   "outputs": [
    {
     "data": {
      "image/png": "[encoded data removed]",
      "text/plain": [
       "<Figure size 640x480 with 1 Axes>"
      ]
     },
     "metadata": {},
     "output_type": "display_data"
    }
   ],
   "source": [
    "sns.regplot(x=y_test,y=y_pred,ci=None,color ='red');"
   ]
  }
 ],
 "metadata": {
  "kernelspec": {
   "display_name": "Python 3 (ipykernel)",
   "language": "python",
   "name": "python3"
  },
  "language_info": {
   "codemirror_mode": {
    "name": "ipython",
    "version": 3
   },
   "file_extension": ".py",
   "mimetype": "text/x-python",
   "name": "python",
   "nbconvert_exporter": "python",
   "pygments_lexer": "ipython3",
   "version": "3.11.7"
  }
 },
 "nbformat": 4,
 "nbformat_minor": 5
}
